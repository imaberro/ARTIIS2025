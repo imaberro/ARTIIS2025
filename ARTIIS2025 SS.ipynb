{
  "cells": [
    {
      "cell_type": "code",
      "metadata": {
        "colab": {
          "base_uri": "https://localhost:8080/"
        },
        "id": "NV3ZzFlcnELH",
        "outputId": "966a13be-bd16-41a0-9468-65258ff12394"
      },
      "source": [
        "\n",
        "# %%\n",
        "from tqdm import trange\n",
        "import heapq\n",
        "import random\n",
        "import numpy as np\n",
        "import copy\n",
        "import time\n",
        "import matplotlib.pyplot as plt\n",
        "import matplotlib.colors as mcolors  # Para colores\n",
        "import os\n",
        "\n",
        "from scipy import stats\n",
        "\n",
        "# %%\n",
        "# --- 1. Definición de Parámetros y Datos (Común) ---\n",
        "setup_times = {\n",
        "    1: 30,  # Tipo 1: Colecistectomía laparoscópica\n",
        "    2: 30,  # Tipo 2: Colecistectomía\n",
        "    3: 30   # Tipo 3: Drenaje T\n",
        "}\n",
        "\n",
        "cleanup_times = {\n",
        "    1: 20,\n",
        "    2: 20,\n",
        "    3: 20\n",
        "}\n",
        "\n",
        "MAX_WAIT_TIMES = {\n",
        "    1: 50,  # Anestesia\n",
        "    2: 50,  # Cirugía\n",
        "    3: 50   # Recuperación\n",
        "}\n",
        "\n",
        "job_types = {\n",
        "    1: 1, 2: 1, 3: 1, 4: 3, 5: 3, 6: 3, 7: 2, 8: 2, 9: 1,\n",
        "    10: 1, 11: 2, 12: 2, 13: 3, 14: 1, 15: 3\n",
        "}\n",
        "base_day_surgeries_data = {\n",
        "    1: {1: 30, 2: 60, 3: 40},\n",
        "    2: {1: 40, 2: 60, 3: 40},\n",
        "    3: {1: 35, 2: 80, 3: 40},\n",
        "    4: {1: 65, 2: 190, 3: 60},\n",
        "    5: {1: 70, 2: 190, 3: 60},\n",
        "    6: {1: 75, 2: 190, 3: 60},\n",
        "    7: {1: 80, 2: 150, 3: 50},\n",
        "    8: {1: 70, 2: 110, 3: 50},\n",
        "    9: {1: 35, 2: 80, 3: 40},\n",
        "    10: {1: 30, 2: 80, 3: 40},\n",
        "    11: {1: 60, 2: 110, 3: 50},\n",
        "    12: {1: 80, 2: 110, 3: 50},\n",
        "    13: {1: 65, 2: 210, 3: 60},\n",
        "    14: {1: 40, 2: 70, 3: 40},\n",
        "    15: {1: 70, 2: 160, 3: 60}\n",
        "}\n",
        "\n",
        "def generate_day_surgeries_data(job_ids, base_data, std_factor):\n",
        "    \"\"\"Genera datos basados en los valores base de la Tabla 5\"\"\"\n",
        "    data = {}\n",
        "    for j in job_ids:\n",
        "        if j in base_data:\n",
        "            # Usar valores base directamente\n",
        "            data[j] = copy.deepcopy(base_data[j])\n",
        "\n",
        "            # Añadir variabilidad si es necesario (std_factor > 0)\n",
        "            if std_factor > 0:\n",
        "                for op in [1, 2, 3]:\n",
        "                    base_val = base_data[j][op]\n",
        "                    std_val = std_factor * base_val\n",
        "                    value = np.random.normal(base_val, std_val)\n",
        "                    data[j][op] = max(1, round(value, 2))\n",
        "        else:\n",
        "            # Valor por defecto para trabajos no definidos\n",
        "            data[j] = {1: 30, 2: 60, 3: 40}\n",
        "    return data\n",
        "\n",
        "emergency_jobs = []\n",
        "job_ids = list(job_types.keys())\n",
        "num_jobs = len(job_ids)\n",
        "num_aprs = 4\n",
        "num_ors = 4\n",
        "num_arrs = 4\n",
        "\n",
        "aprs = [f'APR_{i+1}' for i in range(num_aprs)]\n",
        "ors = [f'OR_{i+1}' for i in range(num_ors)]\n",
        "arrs = [f'ARR_{i+1}' for i in range(num_arrs)]\n",
        "all_rooms = aprs + ors + arrs  # Mantener este orden para el Gantt\n",
        "\n",
        "personnel_map = {\n",
        "    1: {1: 'A6', 2: 'S1', 3: 'D1'},\n",
        "    2: {1: 'A6', 2: 'S2', 3: 'D2'},\n",
        "    3: {1: 'A2', 2: 'S3', 3: 'D3'},\n",
        "    4: {1: 'A2', 2: 'S3', 3: 'D3'},\n",
        "    5: {1: 'A2', 2: 'S2', 3: 'D2'},\n",
        "    6: {1: 'A5', 2: 'S1', 3: 'D1'},\n",
        "    7: {1: 'A5', 2: 'S2', 3: 'D2'},\n",
        "    8: {1: 'A4', 2: 'S3', 3: 'D3'},\n",
        "    9: {1: 'A1', 2: 'S3', 3: 'D3'},\n",
        "    10: {1: 'A1', 2: 'S1', 3: 'D1'},\n",
        "    11: {1: 'A4', 2: 'S1', 3: 'D1'},\n",
        "    12: {1: 'A4', 2: 'S2', 3: 'D2'},\n",
        "    13: {1: 'A1', 2: 'S3', 3: 'D3'},\n",
        "    14: {1: 'A3', 2: 'S2', 3: 'D2'},\n",
        "    15: {1: 'A3', 2: 'S2', 3: 'D2'}\n",
        "}\n",
        "all_personnel = ([f'A{i}' for i in range(1, 7)] +\n",
        "                 [f'S{i}' for i in range(1, 4)] +\n",
        "                 [f'D{i}' for i in range(1, 4)])\n",
        "alpha = 1e-6  # Factor de ponderación para suma de tiempos de inicio\n",
        "alpha_test = 0.05 # Nivel de significancia para pruebas estadísticas\n",
        "\n",
        "# %%\n",
        "# --- 2. Parámetros Específicos ---\n",
        "\n",
        "# GA Parameters\n",
        "POPULATION_SIZE_GA = 30\n",
        "MAX_GENERATIONS = 1000\n",
        "CROSSOVER_PROBABILITY = 0.8\n",
        "MUTATION_PROBABILITY = 0.3\n",
        "ELITISM_COUNT = 2\n",
        "\n",
        "# dPSO Parameters (Defaults)\n",
        "SWARM_SIZE_DPSO = 30\n",
        "MAX_ITERATIONS_DPSO = 1000\n",
        "W_DPSO = 0.7  # Inercia\n",
        "C1_DPSO = 1.5 # Coeficiente cognitivo\n",
        "C2_DPSO = 1.5 # Coeficiente social\n",
        "VEL_HIGH_DPSO = 4.0 # Límite superior de velocidad\n",
        "VEL_LOW_DPSO = -VEL_HIGH_DPSO # Límite inferior de velocidad\n",
        "\n",
        "# Dimensiones para dPSO (si se usaran directamente)\n",
        "dim_sequence = num_jobs\n",
        "dim_rooms = num_jobs * 3\n",
        "dim_total = dim_sequence + dim_rooms\n",
        "\n",
        "# Mapeos útiles\n",
        "job_id_to_index = {job_id: i for i, job_id in enumerate(job_ids)}\n",
        "index_to_job_id = {i: job_id for i, job_id in enumerate(job_ids)}\n",
        "\n",
        "# %%\n",
        "# --- 3. Funciones de Cálculo de Makespan (CORREGIDAS y REFORMATADAS) ---\n",
        "\n",
        "def calculate_makespan_ga(individual, surgeries_data, personnel_map, return_details=False):\n",
        "    \"\"\"\n",
        "    Calcula el fitness (objetivo combinado) para un individuo del GA.\n",
        "    Simula la programación aplicando la restricción de bloqueo \"no buffer\".\n",
        "    Opcionalmente, devuelve detalles de la programación.\n",
        "    CORREGIDO: Re-calcula el tiempo de inicio justo antes de programar.\n",
        "    \"\"\"\n",
        "    # --- Extracción de Datos ---\n",
        "    job_sequence_base = individual['job_sequence_base']\n",
        "    room_assignment = individual['room_assignment']\n",
        "    current_job_ids = list(individual.get('room_assignment', {}).keys())\n",
        "\n",
        "    if not current_job_ids:\n",
        "        return (0, 0, []) if return_details else 0\n",
        "\n",
        "    total_ops = 3 * len(current_job_ids)\n",
        "\n",
        "    # --- Inicialización de Estado ---\n",
        "    room_release_time = {room: 0 for room in all_rooms}\n",
        "    personnel_release_time = {pers: 0 for pers in all_personnel}\n",
        "    # Tiempos de fin de *procesamiento* (sin cleanup) por job y operación\n",
        "    job_op_processing_end = {job: {0: 0} for job in current_job_ids}\n",
        "    # Tiempos de fin de *máquina* (con cleanup) por job y operación\n",
        "    job_op_machine_end = {job: {0: 0} for job in current_job_ids}\n",
        "    # Tiempos de inicio por job y operación\n",
        "    job_op_start = {job: {0: 0} for job in current_job_ids}\n",
        "    # Recursos usados por job y operación (sala, personal)\n",
        "    job_op_used_res = {job: {0: (None, None)} for job in current_job_ids}\n",
        "    # Siguiente operación a programar para cada job\n",
        "    next_op_num = {job: 1 for job in current_job_ids}\n",
        "    ops_done = 0\n",
        "    # Prioridad basada en la secuencia base del individuo\n",
        "    job_priority = {job: i for i, job in enumerate(job_sequence_base)}\n",
        "    schedule_details = []\n",
        "\n",
        "    # --- Bucle Principal de Simulación ---\n",
        "    # Cola de prioridad: (start_time_estimado, prioridad_job, job_id, op_num)\n",
        "    possible_ops = []\n",
        "    # scheduled_this_iteration = {} # Tracker (opcional, quitado por simplicidad ahora)\n",
        "\n",
        "    # Inicializar cola con las primeras operaciones (op=1) posibles\n",
        "    for job in current_job_ids:\n",
        "        op = next_op_num.get(job)\n",
        "        if op == 1:\n",
        "            prev_end = job_op_processing_end[job][0]  # = 0\n",
        "            if job not in room_assignment or op not in room_assignment[job]:\n",
        "                return (float('inf'), float('inf'), None) if return_details else float('inf')\n",
        "            assigned_room = room_assignment[job][op]\n",
        "            if job not in personnel_map or op not in personnel_map[job]:\n",
        "                return (float('inf'), float('inf'), None) if return_details else float('inf')\n",
        "            assigned_personnel = personnel_map[job][op]\n",
        "\n",
        "            room_avail = room_release_time.get(assigned_room, 0)\n",
        "            pers_avail = personnel_release_time.get(assigned_personnel, 0)\n",
        "            start_time = max(prev_end, room_avail, pers_avail)\n",
        "            heapq.heappush(possible_ops, (start_time, job_priority[job], job, op))\n",
        "\n",
        "    while ops_done < total_ops:\n",
        "        # Si la cola está vacía pero no hemos terminado -> Error/Deadlock\n",
        "        if not possible_ops:\n",
        "            valid_remaining = any(next_op_num.get(j, 4) <= 3 for j in current_job_ids)\n",
        "            if valid_remaining or ops_done < total_ops:\n",
        "                return (float('inf'), float('inf'), None) if return_details else float('inf')\n",
        "            else:\n",
        "                break\n",
        "\n",
        "        # 2. Seleccionar la Mejor Operación Candidata (la sacamos de la cola)\n",
        "        _, _, best_job, best_op = heapq.heappop(possible_ops)\n",
        "\n",
        "        # --- RE-VALIDACIÓN y RE-CÁLCULO ---\n",
        "        # Obtener recursos asignados y disponibilidad ACTUAL\n",
        "        if best_job not in room_assignment or best_op not in room_assignment[best_job]:\n",
        "            return (float('inf'), float('inf'), None) if return_details else float('inf')\n",
        "        assigned_room = room_assignment[best_job][best_op]\n",
        "        if best_job not in personnel_map or best_op not in personnel_map[best_job]:\n",
        "            return (float('inf'), float('inf'), None) if return_details else float('inf')\n",
        "        assigned_personnel = personnel_map[best_job][best_op]\n",
        "\n",
        "        prev_op = best_op - 1\n",
        "\n",
        "        # Asegurarse que el estado del predecesor existe\n",
        "        if best_job not in job_op_processing_end or prev_op not in job_op_processing_end[best_job]:\n",
        "            return (float('inf'), float('inf'), None) if return_details else float('inf')\n",
        "        prev_end = job_op_processing_end[best_job][prev_op] # Lo mantenemos por si acaso, pero no lo usaremos en max\n",
        "\n",
        "\n",
        "        current_room_release = room_release_time.get(assigned_room, 0)\n",
        "        current_pers_release = personnel_release_time.get(assigned_personnel, 0)\n",
        "\n",
        "        # Calcular el tiempo de inicio REAL posible AHORA\n",
        "        actual_start_time = max(prev_end, current_room_release, current_pers_release)\n",
        "\n",
        "        # 3. Programar la Operación Seleccionada con actual_start_time\n",
        "        if best_job not in surgeries_data or best_op not in surgeries_data[best_job]:\n",
        "            return (float('inf'), float('inf'), None) if return_details else float('inf')\n",
        "        processing_time = surgeries_data[best_job][best_op]\n",
        "\n",
        "        # Calcular tiempos de setup y cleanup\n",
        "        # Obtener tiempos específicos por tipo de cirugía\n",
        "        job_type = job_types[best_job]\n",
        "        setup_time_val = setup_times[job_type]  # Setup por tipo\n",
        "        cleanup_time_val = cleanup_times[job_type]  # Cleanup por tipo\n",
        "\n",
        "        # Calcular tiempos usando actual_start_time\n",
        "        proc_end = actual_start_time + setup_time_val + processing_time\n",
        "        # Tiempo hasta que la sala/personal quedan realmente libres\n",
        "        finish = proc_end + cleanup_time_val\n",
        "\n",
        "        total_time_in_resource = finish - actual_start_time\n",
        "        processing_time_only = proc_end - (actual_start_time + setup_time_val)\n",
        "        waiting_time = total_time_in_resource - processing_time_only\n",
        "\n",
        "        if waiting_time > MAX_WAIT_TIMES[best_op]:\n",
        "            return (float('inf'), float('inf'), None) if return_details else float('inf')\n",
        "\n",
        "        # Guardar tiempos y recursos usados\n",
        "        job_op_start[best_job][best_op] = actual_start_time\n",
        "        job_op_processing_end[best_job][best_op] = proc_end\n",
        "        job_op_machine_end[best_job][best_op] = finish\n",
        "        job_op_used_res[best_job][best_op] = (assigned_room, assigned_personnel)\n",
        "\n",
        "        # Guardar detalles para Gantt si se solicitan\n",
        "        if return_details:\n",
        "            schedule_details.append({\n",
        "                'Job': best_job,\n",
        "                'Operation': best_op,\n",
        "                'Resource': assigned_room,\n",
        "                'Personnel': assigned_personnel,\n",
        "                'Start': actual_start_time,\n",
        "                'ProcessingEnd': proc_end,\n",
        "                'Finish': finish\n",
        "            })\n",
        "\n",
        "        # 4. Actualizar Tiempos de Liberación de Recursos\n",
        "        # a) Recursos propios (best_op): Se liberan al tiempo 'finish'\n",
        "\n",
        "        if assigned_room:\n",
        "            room_release_time[assigned_room] = finish\n",
        "        if assigned_personnel:\n",
        "            personnel_release_time[assigned_personnel] = finish\n",
        "\n",
        "        # b) Recursos del predecesor (best_op - 1) - Lógica de bloqueo:\n",
        "        #    Se liberan realmente cuando la operación actual (best_op) empieza.\n",
        "\n",
        "        if best_op > 1:\n",
        "            prev_op_num = best_op - 1\n",
        "            prev_res = job_op_used_res[best_job].get(prev_op_num)\n",
        "            if prev_res and prev_res != (None, None):\n",
        "                prev_room, prev_personnel = prev_res\n",
        "                # Tiempo real de liberación = inicio de la operación actual\n",
        "                actual_release_prev = actual_start_time\n",
        "                # Actualizar liberación de recursos PREVIOS,\n",
        "                # asegurando no retroceder el tiempo si ya fue actualizado\n",
        "                if prev_room:\n",
        "                    room_release_time[prev_room] = max(\n",
        "                        room_release_time.get(prev_room, 0), actual_release_prev\n",
        "                    )\n",
        "                if prev_personnel:\n",
        "                    personnel_release_time[prev_personnel] = max(\n",
        "                        personnel_release_time.get(prev_personnel, 0), actual_release_prev\n",
        "                    )\n",
        "\n",
        "        # 5. Avanzar Estado y Añadir Siguiente Operación a la Cola\n",
        "\n",
        "        next_op_num[best_job] = next_op_num.get(best_job, 0) + 1\n",
        "        ops_done += 1\n",
        "\n",
        "        # Añadir la SIGUIENTE operación de ESTE job a la cola si existe\n",
        "        next_op = next_op_num.get(best_job)\n",
        "        if next_op is not None and next_op <= 3:\n",
        "            # Validar datos necesarios para la siguiente operación\n",
        "            if best_job not in room_assignment or next_op not in room_assignment[best_job]:\n",
        "                return (float('inf'), float('inf'), None) if return_details else float('inf')\n",
        "            next_assigned_room = room_assignment[best_job][next_op]\n",
        "            if best_job not in personnel_map or next_op not in personnel_map[best_job]:\n",
        "                return (float('inf'), float('inf'), None) if return_details else float('inf')\n",
        "            next_assigned_personnel = personnel_map[best_job][next_op]\n",
        "\n",
        "            # Calcular EST (Earliest Start Time) para la siguiente operación\n",
        "            # Necesita el fin de procesamiento de la operación actual (best_op)\n",
        "            next_prev_end = job_op_processing_end[best_job][best_op]\n",
        "            next_room_avail = room_release_time.get(next_assigned_room, 0)\n",
        "            next_pers_avail = personnel_release_time.get(next_assigned_personnel, 0)\n",
        "\n",
        "            # El EST considera fin del predecesor y disponibilidad ACTUAL de recursos\n",
        "            next_start_time = max(next_prev_end, next_room_avail, next_pers_avail)\n",
        "\n",
        "            # Añadir a la cola de prioridad\n",
        "            heapq.heappush(\n",
        "                possible_ops,\n",
        "                (next_start_time, job_priority[best_job], best_job, next_op)\n",
        "            )\n",
        "\n",
        "    # --- Fin del Bucle ---\n",
        "\n",
        "    # Calcular Makespan Final (tiempo de fin de la última operación de todos los jobs)\n",
        "    final_makespan = 0\n",
        "    if current_job_ids:\n",
        "        try:\n",
        "            final_makespan = max(job_op_machine_end.get(j, {}).get(3, 0) for j in current_job_ids)\n",
        "        except: # Captura cualquier error potencial en el max() si hay datos raros\n",
        "            final_makespan = float('inf')\n",
        "\n",
        "    # Chequeo de validez final\n",
        "    if final_makespan == 0 and total_ops > 0:\n",
        "        return (float('inf'), float('inf'), None) if return_details else float('inf')\n",
        "    if final_makespan == float('inf'):\n",
        "        return (float('inf'), float('inf'), None) if return_details else float('inf')\n",
        "\n",
        "    # Calcular Suma de Tiempos de Inicio (para objetivo secundario)\n",
        "    total_start = sum(job_op_start.get(j, {}).get(op, 0)\n",
        "                    for j in current_job_ids\n",
        "                    for op in [1, 2, 3]\n",
        "                    if job_op_start.get(j, {}).get(op, -1) >= 0) # Solo ops que iniciaron\n",
        "\n",
        "    # Objetivo Combinado\n",
        "    combined_obj = final_makespan + alpha * total_start\n",
        "\n",
        "    # Devolver resultados\n",
        "    if return_details:\n",
        "        details_to_return = schedule_details if final_makespan != float('inf') else None\n",
        "        return combined_obj, final_makespan, details_to_return\n",
        "    else:\n",
        "        return combined_obj\n",
        "\n",
        "def calculate_makespan_dpso(particle, surgeries_data, personnel_map, return_details=False):\n",
        "    \"\"\"\n",
        "    Calcula el fitness para una partícula dPSO usando su posición discreta.\n",
        "    CORREGIDO: Re-calcula el tiempo de inicio justo antes de programar.\n",
        "    (Es idéntica a la versión GA, pero toma 'particle' como input)\n",
        "    \"\"\"\n",
        "    individual = particle.get_discrete_position_representation()\n",
        "\n",
        "    # --- Extracción de Datos ---\n",
        "    job_sequence_base = individual['job_sequence_base']\n",
        "    room_assignment = individual['room_assignment']\n",
        "    current_job_ids = particle.job_ids # Usar los job_ids de la partícula\n",
        "\n",
        "    if not current_job_ids:\n",
        "        return (0, 0, []) if return_details else 0\n",
        "\n",
        "    total_ops = 3 * len(current_job_ids)\n",
        "\n",
        "    # --- Inicialización de Estado ---\n",
        "    room_release_time = {room: 0 for room in all_rooms}\n",
        "    personnel_release_time = {pers: 0 for pers in all_personnel}\n",
        "    job_op_processing_end = {job: {0: 0} for job in current_job_ids}\n",
        "    job_op_machine_end = {job: {0: 0} for job in current_job_ids}\n",
        "    job_op_start = {job: {0: 0} for job in current_job_ids}\n",
        "    job_op_used_res = {job: {0: (None, None)} for job in current_job_ids}\n",
        "    next_op_num = {job: 1 for job in current_job_ids}\n",
        "    ops_done = 0\n",
        "    job_priority = {job: i for i, job in enumerate(job_sequence_base)}\n",
        "    schedule_details = []\n",
        "    tolerance = 1e-9\n",
        "\n",
        "    # --- Bucle Principal de Simulación ---\n",
        "    possible_ops = []\n",
        "    # scheduled_this_iteration = {}\n",
        "\n",
        "    # Inicializar cola con las primeras operaciones posibles\n",
        "    for job in current_job_ids:\n",
        "        op = next_op_num.get(job)\n",
        "        if op == 1:\n",
        "            # Validar asignaciones antes de usarlas\n",
        "            if job not in room_assignment or op not in room_assignment[job]:\n",
        "                # print(f\"Error dPSO Init: Falta asignación sala J:{job} O:{op}\")\n",
        "                return (float('inf'), float('inf'), None) if return_details else float('inf')\n",
        "            assigned_room = room_assignment[job][op]\n",
        "            if job not in personnel_map or op not in personnel_map[job]:\n",
        "                # print(f\"Error dPSO Init: Falta asignación personal J:{job} O:{op}\")\n",
        "                return (float('inf'), float('inf'), None) if return_details else float('inf')\n",
        "            assigned_personnel = personnel_map[job][op]\n",
        "\n",
        "            prev_end = job_op_processing_end[job][0]  # = 0\n",
        "            room_avail = room_release_time.get(assigned_room, 0)\n",
        "            pers_avail = personnel_release_time.get(assigned_personnel, 0)\n",
        "            start_time = max(prev_end, room_avail, pers_avail)\n",
        "            heapq.heappush(possible_ops, (start_time, job_priority[job], job, op))\n",
        "            # scheduled_this_iteration[(job, op)] = start_time\n",
        "\n",
        "    while ops_done < total_ops:\n",
        "        if not possible_ops:\n",
        "            valid_remaining = any(next_op_num.get(j, 4) <= 3 for j in current_job_ids)\n",
        "            if valid_remaining or ops_done < total_ops:\n",
        "                # print(f\"Error/Deadlock dPSO: No ops posibles. Quedan {total_ops - ops_done}. Ops done: {ops_done}\")\n",
        "                return (float('inf'), float('inf'), None) if return_details else float('inf')\n",
        "            else:\n",
        "                break\n",
        "\n",
        "        _, _, best_job, best_op = heapq.heappop(possible_ops)\n",
        "\n",
        "        # --- RE-VALIDACIÓN y RE-CÁLCULO ---\n",
        "        if best_job not in room_assignment or best_op not in room_assignment[best_job]:\n",
        "            return (float('inf'), float('inf'), None) if return_details else float('inf')\n",
        "        assigned_room = room_assignment[best_job][best_op]\n",
        "        if best_job not in personnel_map or best_op not in personnel_map[best_job]:\n",
        "            return (float('inf'), float('inf'), None) if return_details else float('inf')\n",
        "        assigned_personnel = personnel_map[best_job][best_op]\n",
        "\n",
        "        prev_op = best_op - 1\n",
        "        if best_job not in job_op_processing_end or prev_op not in job_op_processing_end[best_job]:\n",
        "            return (float('inf'), float('inf'), None) if return_details else float('inf')\n",
        "        prev_end = job_op_processing_end[best_job][prev_op]\n",
        "\n",
        "        current_room_release = room_release_time.get(assigned_room, 0)\n",
        "        current_pers_release = personnel_release_time.get(assigned_personnel, 0)\n",
        "\n",
        "        actual_start_time = max(prev_end, current_room_release, current_pers_release)\n",
        "\n",
        "        # 3. Programar la Operación Seleccionada\n",
        "        if best_job not in surgeries_data or best_op not in surgeries_data[best_job]:\n",
        "            return (float('inf'), float('inf'), None) if return_details else float('inf')\n",
        "        processing_time = surgeries_data[best_job][best_op]\n",
        "\n",
        "        job_type = job_types[best_job]\n",
        "        setup_time_val = setup_times[job_type]\n",
        "        cleanup_time_val = cleanup_times[job_type]\n",
        "\n",
        "        proc_end = actual_start_time + setup_time_val + processing_time\n",
        "        finish = proc_end + cleanup_time_val\n",
        "\n",
        "        job_op_start[best_job][best_op] = actual_start_time\n",
        "        job_op_processing_end[best_job][best_op] = proc_end\n",
        "        job_op_machine_end[best_job][best_op] = finish\n",
        "        job_op_used_res[best_job][best_op] = (assigned_room, assigned_personnel)\n",
        "\n",
        "        if return_details:\n",
        "            schedule_details.append({\n",
        "                'Job': best_job,\n",
        "                'Operation': best_op,\n",
        "                'Resource': assigned_room,\n",
        "                'Personnel': assigned_personnel,\n",
        "                'Start': actual_start_time,\n",
        "                'ProcessingEnd': proc_end,\n",
        "                'Finish': finish\n",
        "            })\n",
        "\n",
        "        # 4. Actualizar Tiempos de Liberación de Recursos\n",
        "        if assigned_room:\n",
        "            room_release_time[assigned_room] = finish\n",
        "        if assigned_personnel:\n",
        "            personnel_release_time[assigned_personnel] = finish\n",
        "\n",
        "        if best_op > 1:\n",
        "            prev_op_num = best_op - 1\n",
        "            prev_res = job_op_used_res[best_job].get(prev_op_num)\n",
        "            if prev_res and prev_res != (None, None):\n",
        "                prev_room, prev_personnel = prev_res\n",
        "                actual_release_prev = actual_start_time\n",
        "                if prev_room:\n",
        "                    room_release_time[prev_room] = max(\n",
        "                        room_release_time.get(prev_room, 0), actual_release_prev\n",
        "                    )\n",
        "                if prev_personnel:\n",
        "                    personnel_release_time[prev_personnel] = max(\n",
        "                        personnel_release_time.get(prev_personnel, 0), actual_release_prev\n",
        "                    )\n",
        "\n",
        "        # 5. Avanzar Estado y Añadir Siguiente Operación a la Cola\n",
        "        next_op_num[best_job] = next_op_num.get(best_job, 0) + 1\n",
        "        ops_done += 1\n",
        "\n",
        "        next_op = next_op_num.get(best_job)\n",
        "        if next_op is not None and next_op <= 3:\n",
        "            if best_job not in room_assignment or next_op not in room_assignment[best_job]:\n",
        "                return (float('inf'), float('inf'), None) if return_details else float('inf')\n",
        "\n",
        "            next_assigned_room = room_assignment[best_job][next_op]\n",
        "\n",
        "            if best_job not in personnel_map or next_op not in personnel_map[best_job]:\n",
        "                return (float('inf'), float('inf'), None) if return_details else float('inf')\n",
        "\n",
        "            next_assigned_personnel = personnel_map[best_job][next_op]\n",
        "            next_prev_end = job_op_processing_end[best_job][best_op]\n",
        "            next_room_avail = room_release_time.get(next_assigned_room, 0)\n",
        "            next_pers_avail = personnel_release_time.get(next_assigned_personnel, 0)\n",
        "            next_start_time = max(next_prev_end, next_room_avail, next_pers_avail)\n",
        "\n",
        "            heapq.heappush(\n",
        "                possible_ops,\n",
        "                (next_start_time, job_priority[best_job], best_job, next_op)\n",
        "            )\n",
        "\n",
        "    # --- Fin del Bucle ---\n",
        "    final_makespan = 0\n",
        "    if current_job_ids:\n",
        "        try:\n",
        "            final_makespan = max(job_op_machine_end.get(j, {}).get(3, 0) for j in current_job_ids)\n",
        "        except:\n",
        "            final_makespan = float('inf')\n",
        "\n",
        "    if final_makespan == 0 and total_ops > 0:\n",
        "        return (float('inf'), float('inf'), None) if return_details else float('inf')\n",
        "    if final_makespan == float('inf'):\n",
        "        return (float('inf'), float('inf'), None) if return_details else float('inf')\n",
        "\n",
        "    total_start = sum(job_op_start.get(j, {}).get(op, 0)\n",
        "                    for j in current_job_ids\n",
        "                    for op in [1, 2, 3]\n",
        "                    if job_op_start.get(j, {}).get(op, -1) >= 0)\n",
        "\n",
        "    combined_obj = final_makespan + alpha * total_start\n",
        "\n",
        "    if return_details:\n",
        "        details_to_return = schedule_details if final_makespan != float('inf') else None\n",
        "        return combined_obj, final_makespan, details_to_return\n",
        "    else:\n",
        "        return combined_obj\n",
        "\n",
        "# %%\n",
        "# --- 4. Funciones Específicas del GA ---\n",
        "\n",
        "def create_individual(job_ids):\n",
        "    \"\"\"Crea un individuo aleatorio para el GA según especificación del paper.\"\"\"\n",
        "    individual = {}\n",
        "    # 1. Secuencia base aleatoria de trabajos (como antes)\n",
        "    base_sequence = random.sample(job_ids, len(job_ids))\n",
        "\n",
        "    # 2. CORRECCIÓN CRÍTICA (Sección 4.1 del paper):\n",
        "    #    La capa 1 debe tener TRES COPIA IDÉNTICAS de la secuencia base\n",
        "    individual['job_sequence_base'] = base_sequence * 3\n",
        "\n",
        "    # 3. Asignación de salas (igual que antes)\n",
        "    individual['room_assignment'] = {\n",
        "        job: {\n",
        "            1: random.choice(aprs),\n",
        "            2: random.choice(ors),\n",
        "            3: random.choice(arrs)\n",
        "        } for job in job_ids\n",
        "    }\n",
        "    return individual\n",
        "\n",
        "def selection(population, fitnesses):\n",
        "    \"\"\"Selección por ruleta invertida basada en fitness (minimización).\"\"\"\n",
        "    # Filtrar individuos con fitness infinito (inválidos)\n",
        "    valid_indices = [i for i, f in enumerate(fitnesses) if f != float('inf')]\n",
        "\n",
        "    # Si no hay válidos, devolver una población nueva aleatoria\n",
        "    if not valid_indices:\n",
        "        return [create_individual(job_ids) for _ in range(len(population))]\n",
        "\n",
        "    valid_pop = [population[i] for i in valid_indices]\n",
        "    valid_fit = [fitnesses[i] for i in valid_indices]\n",
        "\n",
        "    # Invertir fitness para selección (mejor fitness -> mayor probabilidad)\n",
        "    # Añadir 1 para evitar división por cero si todos tienen el mismo max fitness\n",
        "    max_fit = max(valid_fit) + 1\n",
        "    inverted_fitness = [(max_fit - f) for f in valid_fit]\n",
        "    total_inverted_fitness = sum(inverted_fitness)\n",
        "\n",
        "    # Si el total es 0 (todos los válidos tienen el mismo fitness máximo), elegir aleatoriamente\n",
        "    if total_inverted_fitness == 0:\n",
        "        return random.choices(valid_pop, k=len(population))\n",
        "\n",
        "    # Calcular probabilidades de selección\n",
        "    probabilities = [f / total_inverted_fitness for f in inverted_fitness]\n",
        "    probabilities_sum = sum(probabilities)\n",
        "\n",
        "    # Normalizar probabilidades (por si hay errores de precisión) y elegir\n",
        "    if probabilities_sum <= 0:\n",
        "        # Fallback: elegir aleatoriamente si las probabilidades son inválidas\n",
        "        chosen_indices_valid = random.choices(range(len(valid_pop)), k=len(population))\n",
        "    else:\n",
        "        # Normalizar\n",
        "        probabilities = np.array(probabilities) / probabilities_sum\n",
        "        # Elegir índices con reemplazo según probabilidades\n",
        "        chosen_indices_valid = np.random.choice(\n",
        "            len(valid_pop),\n",
        "            size=len(population),\n",
        "            replace=True,\n",
        "            p=probabilities\n",
        "        )\n",
        "\n",
        "    # Devolver la nueva población seleccionada\n",
        "    return [valid_pop[i] for i in chosen_indices_valid]\n",
        "\n",
        "def crossover(parent1, parent2):\n",
        "    \"\"\"Realiza crossover en secuencia (Order Crossover - OX1) y asignación de salas.\"\"\"\n",
        "    child1 = copy.deepcopy(parent1)\n",
        "    child2 = copy.deepcopy(parent2)\n",
        "\n",
        "    # Crossover de secuencia con probabilidad CROSSOVER_PROBABILITY\n",
        "    if random.random() < CROSSOVER_PROBABILITY:\n",
        "        seq1 = parent1['job_sequence_base']\n",
        "        seq2 = parent2['job_sequence_base']\n",
        "        n = len(seq1)\n",
        "\n",
        "        if n >= 2:\n",
        "            # Elegir dos puntos de corte\n",
        "            p1, p2 = sorted(random.sample(range(n), 2))\n",
        "\n",
        "            # Order Crossover (OX1) para Child 1\n",
        "            sub1 = seq1[p1:p2+1]\n",
        "            remaining1 = [item for item in seq2 if item not in sub1]\n",
        "            child1['job_sequence_base'] = remaining1[-(n-(p2+1)):] + sub1 + remaining1[:-(n-(p2+1))]\n",
        "\n",
        "            # Order Crossover (OX1) para Child 2\n",
        "            sub2 = seq2[p1:p2+1]\n",
        "            remaining2 = [item for item in seq1 if item not in sub2]\n",
        "            child2['job_sequence_base'] = remaining2[-(n-(p2+1)):] + sub2 + remaining2[:-(n-(p2+1))]\n",
        "\n",
        "    # Crossover de asignación de salas (punto de corte simple)\n",
        "    # (Se hace independientemente de la secuencia para probar más combinaciones)\n",
        "    if random.random() < CROSSOVER_PROBABILITY:\n",
        "        jobs_list = list(parent1['room_assignment'].keys())\n",
        "        if len(jobs_list) > 1:\n",
        "            cut_point = random.randint(1, len(jobs_list) - 1)\n",
        "            jobs_to_swap = jobs_list[cut_point:]\n",
        "            for job in jobs_to_swap:\n",
        "                if job in parent1['room_assignment'] and job in parent2['room_assignment']:\n",
        "                    child1['room_assignment'][job] = parent2['room_assignment'][job]\n",
        "                    child2['room_assignment'][job] = parent1['room_assignment'][job]\n",
        "                # Si un padre no tiene el job (caso raro), mantener el original\n",
        "                elif job in parent1['room_assignment']:\n",
        "                    child2['room_assignment'][job] = parent1['room_assignment'][job]\n",
        "                elif job in parent2['room_assignment']:\n",
        "                    child1['room_assignment'][job] = parent2['room_assignment'][job]\n",
        "\n",
        "    return child1, child2\n",
        "\n",
        "\n",
        "def mutate(individual):\n",
        "    \"\"\"Realiza mutación en secuencia (swap) y asignación de salas.\"\"\"\n",
        "    ind = copy.deepcopy(individual)\n",
        "\n",
        "    # Mutación de secuencia (swap)\n",
        "    if random.random() < MUTATION_PROBABILITY:\n",
        "        seq = ind['job_sequence_base']\n",
        "        if len(seq) >= 2:\n",
        "            i1, i2 = random.sample(range(len(seq)), 2)\n",
        "            seq[i1], seq[i2] = seq[i2], seq[i1]\n",
        "\n",
        "    # Mutación de asignación de salas (cambio aleatorio por operación)\n",
        "    jobs_list = list(ind.get('room_assignment', {}).keys())\n",
        "    # Probabilidad de mutar *cada asignación de sala*\n",
        "    # Ajustar si MUTATION_PROBABILITY es muy alta/baja\n",
        "    mutation_prob_per_room = MUTATION_PROBABILITY / 3 # Dividido entre 3 operaciones\n",
        "\n",
        "    for job in jobs_list:\n",
        "        if job not in ind['room_assignment']: continue # Skip si falta el job\n",
        "        for op in [1, 2, 3]:\n",
        "            if op not in ind['room_assignment'][job]: continue # Skip si falta la op\n",
        "            if random.random() < mutation_prob_per_room:\n",
        "                if op == 1:\n",
        "                    ind['room_assignment'][job][op] = random.choice(aprs)\n",
        "                elif op == 2:\n",
        "                    ind['room_assignment'][job][op] = random.choice(ors)\n",
        "                else:  # op == 3\n",
        "                    ind['room_assignment'][job][op] = random.choice(arrs)\n",
        "    return ind\n",
        "\n",
        "def sigmoid(x):\n",
        "    \"\"\"Función sigmoide para mapear velocidad a probabilidad.\"\"\"\n",
        "    # Recortar x para evitar overflow en np.exp\n",
        "    clipped_x = np.clip(x, -500, 500)\n",
        "    return 1 / (1 + np.exp(-clipped_x))\n",
        "\n",
        "class DiscreteParticle:\n",
        "    \"\"\"Representa una partícula en el espacio discreto de dPSO.\"\"\"\n",
        "    def __init__(self, job_ids, aprs, ors, arrs, vel_low, vel_high):\n",
        "        self.job_ids = job_ids\n",
        "        self.num_jobs = len(job_ids)\n",
        "        self.aprs = aprs\n",
        "        self.ors = ors\n",
        "        self.arrs = arrs\n",
        "\n",
        "        # Posición discreta\n",
        "        self.position_sequence = random.sample(self.job_ids, self.num_jobs)\n",
        "        self.position_rooms = {\n",
        "            job: {\n",
        "                1: random.choice(self.aprs),\n",
        "                2: random.choice(self.ors),\n",
        "                3: random.choice(self.arrs)\n",
        "            } for job in self.job_ids\n",
        "        }\n",
        "\n",
        "        # Velocidad continua (una para secuencia, otra para salas)\n",
        "        self.velocity_seq = np.random.uniform(vel_low, vel_high, self.num_jobs)\n",
        "        # Velocidad para salas (vector plano: job1_op1, job1_op2, ..., jobN_op3)\n",
        "        self.velocity_rooms_flat = np.random.uniform(vel_low, vel_high, self.num_jobs * 3)\n",
        "\n",
        "        # Mejor posición personal encontrada\n",
        "        self.pbest_sequence = self.position_sequence[:] # Copia\n",
        "        self.pbest_rooms = copy.deepcopy(self.position_rooms)\n",
        "        self.pbest_value = float('inf')\n",
        "\n",
        "        # Valor actual (fitness)\n",
        "        self.current_value = float('inf')\n",
        "\n",
        "    def get_discrete_position_representation(self):\n",
        "        \"\"\"Devuelve la posición actual en el formato usado por makespan funcs.\"\"\"\n",
        "        return {\n",
        "            'job_sequence_base': self.position_sequence,\n",
        "            'room_assignment': self.position_rooms\n",
        "        }\n",
        "\n",
        "\n",
        "# %%\n",
        "# --- 8. Funciones Principales de Ejecución ---\n",
        "\n",
        "def run_genetic_algorithm(surgeries_data, personnel_map, job_ids, num_jobs, seed):\n",
        "    \"\"\"Ejecuta el algoritmo genético.\"\"\"\n",
        "    random.seed(seed)\n",
        "    np.random.seed(seed)\n",
        "\n",
        "    # Inicializar población\n",
        "    population = [create_individual(job_ids) for _ in range(POPULATION_SIZE_GA)]\n",
        "\n",
        "    best_objective_overall = float('inf')\n",
        "    best_solution_overall = None\n",
        "    best_fitness_history = []\n",
        "    avg_fitness_history = []\n",
        "\n",
        "    print(f\"GA - Gen 0...\", end=\"\")\n",
        "    for generation in range(MAX_GENERATIONS):\n",
        "        if (generation + 1) % 200 == 0:\n",
        "            print(f\" {generation + 1}...\", end=\"\")\n",
        "\n",
        "        # Calcular fitness de la población actual\n",
        "        fitnesses = [\n",
        "            calculate_makespan_ga(ind, surgeries_data, personnel_map)\n",
        "            for ind in population\n",
        "        ]\n",
        "\n",
        "        # --- Seguimiento de historial ---\n",
        "        valid_indices = [i for i, f in enumerate(fitnesses) if f != float('inf')]\n",
        "        if not valid_indices:\n",
        "            best_fitness_gen = float('inf')\n",
        "            avg_fitness_gen = float('inf')\n",
        "        else:\n",
        "            valid_fitnesses = [fitnesses[i] for i in valid_indices]\n",
        "            best_fitness_gen = min(valid_fitnesses)\n",
        "            avg_fitness_gen = np.mean(valid_fitnesses)\n",
        "\n",
        "        # Guardar mejor hasta ahora (evitando que suba si la generación empeora)\n",
        "        best_fitness_history.append(\n",
        "            min(best_fitness_gen, best_fitness_history[-1])\n",
        "            if best_fitness_history and best_fitness_history[-1] != float('inf')\n",
        "            else best_fitness_gen\n",
        "        )\n",
        "        # Guardar promedio (si no hay válido, usar el anterior o inf)\n",
        "        avg_fitness_history.append(\n",
        "            avg_fitness_gen if avg_fitness_gen != float('inf')\n",
        "            else (avg_fitness_history[-1] if avg_fitness_history else float('inf'))\n",
        "        )\n",
        "        # --- Fin Seguimiento ---\n",
        "\n",
        "        # Actualizar mejor solución global encontrada\n",
        "        current_best_gen_val = min(fitnesses) # Incluye Inf si no hay válidos\n",
        "        if current_best_gen_val < best_objective_overall:\n",
        "            best_objective_overall = current_best_gen_val\n",
        "            try:\n",
        "                # Obtener el índice del mejor fitness\n",
        "                best_index = fitnesses.index(best_objective_overall)\n",
        "                best_solution_overall = copy.deepcopy(population[best_index])\n",
        "            except ValueError:\n",
        "                # Caso raro: si min(fitnesses) no está en fitnesses (debería estar)\n",
        "                best_solution_overall = None\n",
        "\n",
        "        # --- Crear Nueva Generación ---\n",
        "        # 1. Elitismo: Conservar los N mejores individuos\n",
        "        # Ordenar por fitness (ascendente), ignorando infinitos\n",
        "        sorted_pop_indices = np.argsort(fitnesses)\n",
        "        elite = [\n",
        "            copy.deepcopy(population[i]) for i in sorted_pop_indices\n",
        "            if fitnesses[i] != float('inf')\n",
        "        ][:ELITISM_COUNT]\n",
        "\n",
        "        # 2. Selección: Elegir padres para la próxima generación\n",
        "        selected_population = selection(population, fitnesses)\n",
        "\n",
        "        # 3. Crossover y Mutación\n",
        "        next_population = elite # Empezar con la élite\n",
        "        pop_indices_for_pairing = list(range(len(selected_population)))\n",
        "\n",
        "        while len(next_population) < POPULATION_SIZE_GA:\n",
        "            # Elegir dos padres distintos si es posible\n",
        "            if len(pop_indices_for_pairing) >= 2:\n",
        "                idx1, idx2 = random.sample(pop_indices_for_pairing, 2)\n",
        "                parent1 = selected_population[idx1]\n",
        "                parent2 = selected_population[idx2]\n",
        "            elif len(pop_indices_for_pairing) == 1: # Reusar el único padre\n",
        "                parent1 = selected_population[pop_indices_for_pairing[0]]\n",
        "                parent2 = selected_population[pop_indices_for_pairing[0]] # O crear uno nuevo\n",
        "            else: # Si no hay padres seleccionados (raro), crear nuevos\n",
        "                parent1 = create_individual(job_ids)\n",
        "                parent2 = create_individual(job_ids)\n",
        "\n",
        "            # Realizar crossover\n",
        "            child1, child2 = crossover(parent1, parent2)\n",
        "\n",
        "            # Añadir hijos mutados a la nueva población\n",
        "            next_population.append(mutate(child1))\n",
        "            if len(next_population) < POPULATION_SIZE_GA:\n",
        "                next_population.append(mutate(child2))\n",
        "\n",
        "        # Reemplazar la población antigua por la nueva\n",
        "        population = next_population[:POPULATION_SIZE_GA] # Asegurar tamaño exacto\n",
        "\n",
        "    print(\" ¡Hecho!\") # Fin de las generaciones\n",
        "    return best_objective_overall, best_solution_overall, best_fitness_history, avg_fitness_history\n",
        "\n",
        "def run_dpso_algorithm(surgeries_data, personnel_map, job_ids, num_jobs, seed):\n",
        "    \"\"\"Ejecuta el algoritmo Discrete Particle Swarm Optimization (dPSO).\"\"\"\n",
        "    random.seed(seed)\n",
        "    np.random.seed(seed)\n",
        "\n",
        "    # Inicializar enjambre (swarm)\n",
        "    swarm = [\n",
        "        DiscreteParticle(job_ids, aprs, ors, arrs, VEL_LOW_DPSO, VEL_HIGH_DPSO)\n",
        "        for _ in range(SWARM_SIZE_DPSO)\n",
        "    ]\n",
        "\n",
        "    # Mejor global (gbest)\n",
        "    gbest_sequence = None\n",
        "    gbest_rooms = None\n",
        "    gbest_value = float('inf')\n",
        "\n",
        "    best_fitness_history = []\n",
        "    avg_fitness_history = []\n",
        "\n",
        "    print(f\"dPSO - Iter 0...\", end=\"\")\n",
        "    for iteration in range(MAX_ITERATIONS_DPSO):\n",
        "        if (iteration + 1) % 200 == 0:\n",
        "            print(f\" {iteration + 1}...\", end=\"\")\n",
        "\n",
        "        current_fitnesses = []\n",
        "        # Evaluar cada partícula y actualizar pbest/gbest\n",
        "        for i, particle in enumerate(swarm):\n",
        "            fitness = calculate_makespan_dpso(particle, surgeries_data, personnel_map)\n",
        "            particle.current_value = fitness\n",
        "            current_fitnesses.append(fitness)\n",
        "\n",
        "            # Actualizar pbest (mejor personal)\n",
        "            if fitness < particle.pbest_value:\n",
        "                particle.pbest_value = fitness\n",
        "                particle.pbest_sequence = particle.position_sequence[:] # Copia\n",
        "                particle.pbest_rooms = copy.deepcopy(particle.position_rooms)\n",
        "\n",
        "            # Actualizar gbest (mejor global)\n",
        "            if fitness < gbest_value:\n",
        "                gbest_value = fitness\n",
        "                gbest_sequence = particle.position_sequence[:] # Copia\n",
        "                gbest_rooms = copy.deepcopy(particle.position_rooms)\n",
        "\n",
        "        # --- Seguimiento de historial ---\n",
        "        valid_fitnesses = [f for f in current_fitnesses if f != float('inf')]\n",
        "        if not valid_fitnesses:\n",
        "            best_fitness_iter = float('inf')\n",
        "            avg_fitness_iter = float('inf')\n",
        "        else:\n",
        "            # Usar gbest si es válido, si no, el mínimo de la iteración\n",
        "            best_fitness_iter = gbest_value if gbest_value != float('inf') else min(valid_fitnesses)\n",
        "            avg_fitness_iter = np.mean(valid_fitnesses)\n",
        "\n",
        "        best_fitness_history.append(\n",
        "            min(best_fitness_iter, best_fitness_history[-1])\n",
        "            if best_fitness_history and best_fitness_history[-1] != float('inf')\n",
        "            else best_fitness_iter\n",
        "        )\n",
        "        avg_fitness_history.append(\n",
        "            avg_fitness_iter if avg_fitness_iter != float('inf')\n",
        "            else (avg_fitness_history[-1] if avg_fitness_history else float('inf'))\n",
        "        )\n",
        "        # --- Fin Seguimiento ---\n",
        "\n",
        "        # Si no se ha encontrado ninguna solución válida aún, continuar\n",
        "        if gbest_sequence is None:\n",
        "            continue\n",
        "\n",
        "        # Actualizar velocidad y posición de cada partícula\n",
        "        for particle in swarm:\n",
        "            # --- Actualización de Velocidad ---\n",
        "            # Factores aleatorios\n",
        "            r1_seq = np.random.rand(particle.num_jobs)\n",
        "            r2_seq = np.random.rand(particle.num_jobs)\n",
        "            r1_room = np.random.rand(particle.num_jobs * 3)\n",
        "            r2_room = np.random.rand(particle.num_jobs * 3)\n",
        "\n",
        "            # --- Velocidad de Secuencia (basada en rangos/orden) ---\n",
        "            def get_rank_vector(sequence, job_ids_map):\n",
        "                \"\"\"Convierte una secuencia de jobs a un vector de rangos.\"\"\"\n",
        "                rank_vec = np.zeros(len(job_ids_map))\n",
        "                job_to_rank = {job_id: rank for rank, job_id in enumerate(sequence)}\n",
        "                for job_id, index in job_ids_map.items():\n",
        "                    # Usar num_jobs como rango si el job no está en la secuencia (caso raro)\n",
        "                    rank_vec[index] = job_to_rank.get(job_id, len(job_ids_map))\n",
        "                return rank_vec\n",
        "\n",
        "            current_rank = get_rank_vector(particle.position_sequence, job_id_to_index)\n",
        "            pbest_rank = get_rank_vector(particle.pbest_sequence, job_id_to_index)\n",
        "            gbest_rank = get_rank_vector(gbest_sequence, job_id_to_index)\n",
        "\n",
        "            particle.velocity_seq = (\n",
        "                W_DPSO * particle.velocity_seq +\n",
        "                C1_DPSO * r1_seq * (pbest_rank - current_rank) +\n",
        "                C2_DPSO * r2_seq * (gbest_rank - current_rank)\n",
        "            )\n",
        "\n",
        "            # --- Velocidad de Asignación de Salas (vector plano normalizado) ---\n",
        "            def get_room_vector(room_dict, job_ids_list, aprs, ors, arrs):\n",
        "                \"\"\"Convierte asignación de salas a vector numérico normalizado.\"\"\"\n",
        "                vec = np.zeros(len(job_ids_list) * 3)\n",
        "                room_lists = [aprs, ors, arrs]\n",
        "                room_indices = {\n",
        "                    room: idx / (len(lst) - 1) if len(lst) > 1 else 0.5\n",
        "                    for op_idx, lst in enumerate(room_lists)\n",
        "                    for idx, room in enumerate(lst)\n",
        "                }\n",
        "\n",
        "                current_idx = 0\n",
        "                for job_id in job_ids_list:\n",
        "                    job_rooms = room_dict.get(job_id, {})\n",
        "                    for op in range(1, 4):\n",
        "                        room_name = job_rooms.get(op)\n",
        "                        # Usar 0.5 (medio) si falta la sala o no está en la lista esperada\n",
        "                        vec[current_idx] = room_indices.get(room_name, 0.5)\n",
        "                        current_idx += 1\n",
        "                return vec\n",
        "\n",
        "            current_rooms_vec = get_room_vector(\n",
        "                particle.position_rooms, job_ids, aprs, ors, arrs\n",
        "            )\n",
        "            pbest_rooms_vec = get_room_vector(\n",
        "                particle.pbest_rooms, job_ids, aprs, ors, arrs\n",
        "            )\n",
        "            gbest_rooms_vec = get_room_vector(\n",
        "                gbest_rooms, job_ids, aprs, ors, arrs\n",
        "            )\n",
        "\n",
        "            particle.velocity_rooms_flat = (\n",
        "                W_DPSO * particle.velocity_rooms_flat +\n",
        "                C1_DPSO * r1_room * (pbest_rooms_vec - current_rooms_vec) +\n",
        "                C2_DPSO * r2_room * (gbest_rooms_vec - current_rooms_vec)\n",
        "            )\n",
        "\n",
        "            # Limitar velocidad\n",
        "            particle.velocity_seq = np.clip(\n",
        "                particle.velocity_seq, VEL_LOW_DPSO, VEL_HIGH_DPSO\n",
        "            )\n",
        "            particle.velocity_rooms_flat = np.clip(\n",
        "                particle.velocity_rooms_flat, VEL_LOW_DPSO, VEL_HIGH_DPSO\n",
        "            )\n",
        "\n",
        "            # --- Actualización de Posición ---\n",
        "\n",
        "            # 1. Actualizar Secuencia (usando swap basado en sigmoide de velocidad)\n",
        "            # Convertir velocidad a probabilidad de swap\n",
        "            prob_swap = sigmoid(particle.velocity_seq)\n",
        "            # Iterar sobre los índices de la secuencia\n",
        "            indices = list(range(particle.num_jobs))\n",
        "            random.shuffle(indices) # Procesar en orden aleatorio\n",
        "            for k in indices:\n",
        "                if random.random() < prob_swap[k]:\n",
        "                    # Elegir otro índice 'l' diferente de 'k' para intercambiar\n",
        "                    if particle.num_jobs >= 2:\n",
        "                        l = random.choice([idx for idx in range(particle.num_jobs) if idx != k])\n",
        "                        # Realizar el swap\n",
        "                        (particle.position_sequence[k], particle.position_sequence[l]) = \\\n",
        "                        (particle.position_sequence[l], particle.position_sequence[k])\n",
        "\n",
        "\n",
        "            # 2. Actualizar Asignación de Salas (copiando de pbest/gbest basado en sigmoide)\n",
        "            prob_room_change = sigmoid(particle.velocity_rooms_flat)\n",
        "            room_idx = 0\n",
        "            for job_id in job_ids:\n",
        "                if job_id not in particle.position_rooms: continue\n",
        "                for op in range(1, 4):\n",
        "                    if op not in particle.position_rooms[job_id]: continue\n",
        "\n",
        "                    # Decidir si cambiar esta asignación de sala\n",
        "                    if random.random() < prob_room_change[room_idx]:\n",
        "                        # Decidir si copiar de pbest o gbest\n",
        "                        copy_from_pbest = (job_id in particle.pbest_rooms and\n",
        "                                        op in particle.pbest_rooms[job_id])\n",
        "                        copy_from_gbest = (gbest_rooms is not None and\n",
        "                                        job_id in gbest_rooms and\n",
        "                                        op in gbest_rooms[job_id])\n",
        "\n",
        "                        # Probabilidad de usar pbest vs gbest\n",
        "                        use_pbest_prob = C1_DPSO / (C1_DPSO + C2_DPSO) if (C1_DPSO + C2_DPSO) > 0 else 0.5\n",
        "                        source_rooms = None\n",
        "\n",
        "                        if random.random() < use_pbest_prob:\n",
        "                            if copy_from_pbest:\n",
        "                                source_rooms = particle.pbest_rooms\n",
        "                            elif copy_from_gbest: # Fallback a gbest si pbest no es aplicable\n",
        "                                source_rooms = gbest_rooms\n",
        "                        else: # Intentar gbest primero\n",
        "                            if copy_from_gbest:\n",
        "                                source_rooms = gbest_rooms\n",
        "                            elif copy_from_pbest: # Fallback a pbest si gbest no es aplicable\n",
        "                                source_rooms = particle.pbest_rooms\n",
        "\n",
        "                        # Si se encontró una fuente válida, copiar la asignación\n",
        "                        if source_rooms:\n",
        "                            particle.position_rooms[job_id][op] = source_rooms[job_id][op]\n",
        "\n",
        "                    room_idx += 1\n",
        "                    if room_idx >= len(prob_room_change): break # Evitar error de índice\n",
        "                if room_idx >= len(prob_room_change): break # Evitar error de índice\n",
        "\n",
        "    print(\" ¡Hecho!\") # Fin de las iteraciones\n",
        "\n",
        "    # Crear una representación de la mejor partícula encontrada\n",
        "    best_particle_final = None\n",
        "    if gbest_sequence is not None and gbest_rooms is not None:\n",
        "        best_particle_final = DiscreteParticle(\n",
        "            job_ids, aprs, ors, arrs, VEL_LOW_DPSO, VEL_HIGH_DPSO\n",
        "        )\n",
        "        best_particle_final.position_sequence = gbest_sequence[:]\n",
        "        best_particle_final.position_rooms = copy.deepcopy(gbest_rooms)\n",
        "        best_particle_final.current_value = gbest_value\n",
        "        best_particle_final.pbest_value = gbest_value # pbest = gbest para la partícula final\n",
        "        best_particle_final.pbest_sequence = gbest_sequence[:]\n",
        "        best_particle_final.pbest_rooms = copy.deepcopy(gbest_rooms)\n",
        "\n",
        "    return gbest_value, best_particle_final, best_fitness_history, avg_fitness_history\n",
        "\n",
        "# %%\n",
        "# --- 9. FUNCIONES DE IMPRESIÓN Y EXPORTACIÓN DE HORARIOS ---\n",
        "import csv\n",
        "\n",
        "def print_schedule_summary(schedule_details, title):\n",
        "    if not schedule_details: return\n",
        "    print(f\"\\n--- Schedule Summary: {title} ---\")\n",
        "    header = f\"{'Job (E)':<10s} | {'Operation':^10s} | {'Resource':<12s} | {'Start':>10s} | {'Finish':>10s} | {'Duration':>10s}\"\n",
        "    print(header); print(\"-\" * len(header))\n",
        "    for task in sorted(schedule_details, key=lambda x: x['Start']):\n",
        "        job_label = f\"{task['Job']} (E)\" if task['Job'] in emergency_jobs else str(task['Job'])\n",
        "        print(f\"{job_label:<10s} | {task['Operation']:^10d} | {task['Resource']:<12s} | {task['Start']:>10.2f} | {task['Finish']:>10.2f} | {task['Finish'] - task['Start']:>10.2f}\")\n",
        "    print(\"-\" * len(header))\n",
        "\n",
        "def display_scheduling_strategy(schedule_details):\n",
        "    if not schedule_details: return\n",
        "    print(\"\\n\\n--- Scheduling Strategy by Operating Room ---\")\n",
        "    room_schedules = {room: [] for room in all_rooms}\n",
        "    for task in schedule_details:\n",
        "        room_schedules[task['Resource']].append((task['Start'], task['Job'], task['Operation']))\n",
        "\n",
        "    print(f\"{'O.R.':<12} | {'Sequence of Operations (Job(Op))'}\")\n",
        "    print(\"-\" * 80)\n",
        "    for room_name in sorted(room_schedules.keys()):\n",
        "        schedule = sorted(room_schedules[room_name], key=lambda x: x[0])\n",
        "        sequence_str = [f\"{j}{'(E)' if j in emergency_jobs else ''}(Op{o})\" for _, j, o in schedule]\n",
        "        print(f\"{room_name:<12} | {' -> '.join(sequence_str)}\")\n",
        "    print(\"-\" * 80)\n",
        "\n",
        "def display_starting_timetable(schedule_details):\n",
        "    if not schedule_details: return\n",
        "    print(\"\\n\\n--- Start Times by Surgery ---\")\n",
        "    job_timetables = {}\n",
        "    for task in schedule_details:\n",
        "        job_id = task['Job']\n",
        "        if job_id not in job_timetables: job_timetables[job_id] = {}\n",
        "        job_timetables[job_id][task['Operation']] = task['Start']\n",
        "\n",
        "    header = f\"{'Surgery (E)':<15} | {'Anesthesia Start (min)':>25} | {'Surgery Start (min)':>25} | {'Recovery Start (min)':>25}\"\n",
        "    print(header); print(\"-\" * len(header))\n",
        "    for job_id in sorted(job_timetables.keys()):\n",
        "        timings = job_timetables.get(job_id, {})\n",
        "        job_label = f\"{job_id} {'(Emergency)' if job_id in emergency_jobs else ''}\"\n",
        "        print(f\"{job_label:<15} | {timings.get(1, -1):>25.2f} | {timings.get(2, -1):>25.2f} | {timings.get(3, -1):>25.2f}\")\n",
        "    print(\"-\" * len(header))\n",
        "\n",
        "def export_schedule_to_csv(schedule_details, filename):\n",
        "    if not schedule_details:\n",
        "        print(f\"Warning: No schedule details to export to {filename}.\")\n",
        "        return\n",
        "    try:\n",
        "        with open(filename, 'w', newline='', encoding='utf-8') as csvfile:\n",
        "            fieldnames = schedule_details[0].keys()\n",
        "            writer = csv.DictWriter(csvfile, fieldnames=fieldnames)\n",
        "            writer.writeheader()\n",
        "            for row in schedule_details:\n",
        "                writer.writerow(row)\n",
        "        print(f\"Schedule successfully exported to {filename}\")\n",
        "    except (IOError, IndexError) as e:\n",
        "        print(f\"Error exporting to CSV: {e}\")\n",
        "\n",
        "def export_strategy_to_csv(schedule_details, filename):\n",
        "    if not schedule_details:\n",
        "        print(f\"Warning: No schedule details to export strategy to {filename}.\")\n",
        "        return\n",
        "    room_schedules = {room: [] for room in all_rooms}\n",
        "    for task in schedule_details:\n",
        "        room_schedules[task['Resource']].append((task['Start'], task['Job'], task['Operation']))\n",
        "\n",
        "    try:\n",
        "        with open(filename, 'w', newline='', encoding='utf-8') as csvfile:\n",
        "            writer = csv.writer(csvfile)\n",
        "            writer.writerow(['Operating_Room', 'Operation_Sequence'])\n",
        "            for room_name in sorted(room_schedules.keys()):\n",
        "                schedule = sorted(room_schedules[room_name], key=lambda x: x[0])\n",
        "                sequence_str = ' -> '.join([f\"{j}{'(E)' if j in emergency_jobs else ''}(Op{o})\" for _, j, o in schedule])\n",
        "                writer.writerow([room_name, sequence_str])\n",
        "        print(f\"Strategy successfully exported to {filename}\")\n",
        "    except IOError as e:\n",
        "        print(f\"Error exporting strategy to CSV: {e}\")\n",
        "\n",
        "def export_timetable_to_csv(schedule_details, filename):\n",
        "    if not schedule_details:\n",
        "        print(f\"Warning: No schedule details to export timetable to {filename}.\")\n",
        "        return\n",
        "    job_timetables = {}\n",
        "    for task in schedule_details:\n",
        "        job_id = task['Job']\n",
        "        if job_id not in job_timetables:\n",
        "            job_timetables[job_id] = {}\n",
        "        job_timetables[job_id][task['Operation']] = task['Start']\n",
        "\n",
        "    try:\n",
        "        with open(filename, 'w', newline='', encoding='utf-8') as csvfile:\n",
        "            writer = csv.writer(csvfile)\n",
        "            writer.writerow(['Surgery_ID', 'Is_Emergency', 'Anesthesia_Start_Time', 'Surgery_Start_Time', 'Recovery_Start_Time'])\n",
        "            for job_id in sorted(job_timetables.keys()):\n",
        "                timings = job_timetables.get(job_id, {})\n",
        "                is_emergency = job_id in emergency_jobs\n",
        "                row = [\n",
        "                    job_id,\n",
        "                    is_emergency,\n",
        "                    timings.get(1, -1),\n",
        "                    timings.get(2, -1),\n",
        "                    timings.get(3, -1)\n",
        "                ]\n",
        "                writer.writerow(row)\n",
        "        print(f\"Timetable successfully exported to {filename}\")\n",
        "    except IOError as e:\n",
        "        print(f\"Error exporting timetable to CSV: {e}\")\n",
        "\n",
        "def export_paired_test_report_to_txt(\n",
        "    filename,\n",
        "    *,\n",
        "    mean_ga, sd_ga, n_ga,\n",
        "    mean_dpso, sd_dpso, n_dpso,\n",
        "    delta, ci_low, ci_high,\n",
        "    w_stat, p_value, cohens_dz,\n",
        "    alpha_test=0.05,\n",
        "    algos=(\"GA\",\"dPSO\"),\n",
        "    conclusion_text=None,   # si lo pasas, se usa tal cual\n",
        "    pvalue_csv_path=None,   # si lo pasas, se menciona al final\n",
        "):\n",
        "    \"\"\"\n",
        "    Escribe un reporte completo del análisis estadístico pareado en un .txt\n",
        "    (resumen descriptivo, contraste, conclusión y tabla simbólica de p-values).\n",
        "    \"\"\"\n",
        "    # preparar directorio\n",
        "    outdir = os.path.dirname(filename)\n",
        "    if outdir:\n",
        "        os.makedirs(outdir, exist_ok=True)\n",
        "\n",
        "    # conclusión\n",
        "    if conclusion_text is None:\n",
        "        if p_value < alpha_test:\n",
        "            if delta < 0:\n",
        "                conclusion = \"→ Conclusión: GA obtiene makespan significativamente menor que dPSO (mejor desempeño).\"\n",
        "            elif delta > 0:\n",
        "                conclusion = \"→ Conclusión: dPSO obtiene makespan significativamente menor que GA (mejor desempeño).\"\n",
        "            else:\n",
        "                conclusion = \"→ Conclusión: Diferencia estadísticamente significativa, pero Δ≈0 (revisar datos).\"\n",
        "        else:\n",
        "            conclusion = f\"→ Conclusión: No hay evidencia suficiente de diferencia estadística (α = {alpha_test}).\\n\"\n",
        "    else:\n",
        "        conclusion = conclusion_text\n",
        "\n",
        "    # símbolo de la tabla\n",
        "    p_symbol = \">= 0.05\" if p_value >= alpha_test else \"< 0.05\"\n",
        "\n",
        "    # armar texto\n",
        "    lines = []\n",
        "    lines.append(\"------------------------- ANÁLISIS ESTADÍSTICO (PAREADO) -------------------------\")\n",
        "    lines.append(\"Resumen descriptivo:\")\n",
        "    lines.append(f\"  - GA:   media = {mean_ga:.4f} min | sd = {sd_ga:.4f} | n = {int(n_ga)}\")\n",
        "    lines.append(f\"  - dPSO: media = {mean_dpso:.4f} min | sd = {sd_dpso:.4f} | n = {int(n_dpso)}\")\n",
        "    lines.append(\"\")\n",
        "    lines.append(\"Contraste pareado:\")\n",
        "    lines.append(f\"  - Δ = GA - dPSO = {delta:.4f} min (IC95% [{ci_low:.4f}, {ci_high:.4f}])\")\n",
        "    lines.append(f\"  - Wilcoxon pareado: W = {w_stat:.4f}, p = {p_value:.4f}\")\n",
        "    lines.append(f\"  - Tamaño de efecto (Cohen's dz) = {cohens_dz:.3f}\")\n",
        "    lines.extend(conclusion.split(\"\\n\"))\n",
        "    lines.append(\"\")\n",
        "    lines.append(\"Tabla de P-value promedio (Fila vs. Columna)\")\n",
        "\n",
        "    # tabla con columnas alineadas\n",
        "    colw = 10\n",
        "    header = \" \" * 8 + \"\".join([f\"{a:<{colw}}\" for a in algos])\n",
        "    lines.append(header)\n",
        "    for r in algos:\n",
        "        row_cells = []\n",
        "        for c in algos:\n",
        "            cell = \"-\" if r == c else p_symbol\n",
        "            row_cells.append(f\"{cell:<{colw}}\")\n",
        "        lines.append(f\"{r:<8}\" + \"\".join(row_cells))\n",
        "\n",
        "    if pvalue_csv_path:\n",
        "        lines.append(f\"Tabla de P-value exportada exitosamente a {pvalue_csv_path}\")\n",
        "\n",
        "    # escribir archivo\n",
        "    with open(filename, \"w\", encoding=\"utf-8\") as f:\n",
        "        f.write(\"\\n\".join(lines))\n",
        "\n",
        "def export_summary_statistics_to_csv(results_list, num_simulations, filename):\n",
        "    \"\"\"\n",
        "    Exporta las estadísticas comparativas (mínimo, promedio, std) a un archivo CSV.\n",
        "    'results_list' debe ser una lista de tuplas, ej: [('GA', ga_valid_makespans), ('dPSO', dpso_valid_makespans)]\n",
        "    \"\"\"\n",
        "    try:\n",
        "        with open(filename, 'w', newline='', encoding='utf-8') as csvfile:\n",
        "            writer = csv.writer(csvfile)\n",
        "\n",
        "            # Escribir la cabecera del CSV\n",
        "            writer.writerow([\n",
        "                'algorithm', 'valid_simulations', 'total_simulations',\n",
        "                'minimum_makespan', 'average_makespan', 'std_makespan'\n",
        "            ])\n",
        "\n",
        "            # Procesar y escribir los datos de cada algoritmo\n",
        "            for algo_name, makespan_data in results_list:\n",
        "                if makespan_data: # Solo escribir si hay datos válidos\n",
        "                    valid_count = len(makespan_data)\n",
        "                    min_makespan = np.min(makespan_data)\n",
        "                    mean_makespan = np.mean(makespan_data)\n",
        "                    std_makespan = np.std(makespan_data)\n",
        "\n",
        "                    writer.writerow([\n",
        "                        algo_name, valid_count, num_simulations,\n",
        "                        f\"{min_makespan:.2f}\", f\"{mean_makespan:.2f}\", f\"{std_makespan:.2f}\"\n",
        "                    ])\n",
        "\n",
        "        print(f\"Estadísticas comparativas exportadas exitosamente a {filename}\")\n",
        "\n",
        "    except IOError as e:\n",
        "        print(f\"Error exportando las estadísticas a CSV: {e}\")\n",
        "\n",
        "# %%\n",
        "# --- 10. Bucle Monte Carlo para Comparación ---\n",
        "\n",
        "os.makedirs(\"Actualizado/graphs/boxplot\", exist_ok=True)\n",
        "os.makedirs(\"Actualizado/graphs/convergence\", exist_ok=True)\n",
        "os.makedirs(\"Actualizado/graphs/gantt\", exist_ok=True)\n",
        "os.makedirs(\"Actualizado/graphs/csv\", exist_ok=True)\n",
        "os.makedirs(\"Actualizado/graphs/histograms\", exist_ok=True)\n",
        "\n",
        "NUM_SIMULATIONS = 300  # Número de simulaciones Monte Carlo\n",
        "\n",
        "# Almacenamiento de resultados\n",
        "ga_results = {'obj': [], 'makespan': [], 'solution': [], 'best_hist': [], 'avg_hist': []}\n",
        "dpso_results = {'obj': [], 'makespan': [], 'solution': [], 'best_hist': [], 'avg_hist': []}\n",
        "\n",
        "# Almacenamiento para detalles del mejor run global\n",
        "best_ga_makespan_overall = float('inf')\n",
        "best_ga_solution_repr = None\n",
        "best_ga_data_seed = -1\n",
        "\n",
        "best_dpso_makespan_overall = float('inf')\n",
        "best_dpso_solution_repr = None # Guardará la partícula DiscreteParticle\n",
        "best_dpso_data_seed = -1\n",
        "\n",
        "std_factor = 0.1\n",
        "\n",
        "ga_times = []\n",
        "dpso_times = []\n",
        "\n",
        "print(f\"Iniciando {NUM_SIMULATIONS} simulaciones Monte Carlo para GA ...\")\n",
        "start_monte = time.time()\n",
        "\n",
        "for sim in trange(NUM_SIMULATIONS, desc=\"Monte Carlo\"):\n",
        "    # Prints solo al inicio, cada 20 simulaciones, y última\n",
        "    if sim == 0 or (sim + 1) % 20 == 0 or sim == NUM_SIMULATIONS - 1:\n",
        "        print(f\"\\n--- Simulación {sim + 1}/{NUM_SIMULATIONS} ---\")\n",
        "\n",
        "    # Semilla para generar datos\n",
        "    data_seed = sim\n",
        "    np.random.seed(data_seed)\n",
        "    current_surgeries_data = generate_day_surgeries_data(\n",
        "        job_ids, base_day_surgeries_data, std_factor=std_factor\n",
        "    )\n",
        "\n",
        "    # Semilla para los algoritmos\n",
        "    algo_seed = sim * 10\n",
        "\n",
        "    # --- Run GA ---\n",
        "    start_ga = time.time()\n",
        "    (ga_best_obj, ga_best_sol, ga_best_hist, ga_avg_hist) = run_genetic_algorithm(\n",
        "        current_surgeries_data, personnel_map, job_ids, num_jobs, algo_seed\n",
        "    )\n",
        "    ga_time = time.time() - start_ga\n",
        "    ga_times.append(ga_time)  # acumular tiempos\n",
        "\n",
        "    if ga_best_sol:\n",
        "        _, final_mk_ga, _ = calculate_makespan_ga(\n",
        "            ga_best_sol, current_surgeries_data, personnel_map, return_details=True\n",
        "        )\n",
        "        if final_mk_ga != float('inf'):\n",
        "            ga_results['obj'].append(ga_best_obj)\n",
        "            ga_results['makespan'].append(final_mk_ga)\n",
        "            if final_mk_ga < best_ga_makespan_overall:\n",
        "                best_ga_makespan_overall = final_mk_ga\n",
        "                best_ga_solution_repr = copy.deepcopy(ga_best_sol)\n",
        "                best_ga_data_seed = data_seed\n",
        "        else:\n",
        "            ga_results['obj'].append(float('inf'))\n",
        "            ga_results['makespan'].append(float('inf'))\n",
        "    else:\n",
        "        ga_results['obj'].append(float('inf'))\n",
        "        ga_results['makespan'].append(float('inf'))\n",
        "\n",
        "    ga_results['solution'].append(ga_best_sol)\n",
        "    ga_results['best_hist'].append(ga_best_hist)\n",
        "    ga_results['avg_hist'].append(ga_avg_hist)\n",
        "\n",
        "    # --- Run dPSO ---\n",
        "    start_dpso = time.time()\n",
        "    (dpso_best_obj, dpso_best_particle, dpso_best_hist, dpso_avg_hist) = run_dpso_algorithm(\n",
        "        current_surgeries_data, personnel_map, job_ids, num_jobs, algo_seed\n",
        "    )\n",
        "    dpso_time = time.time() - start_dpso\n",
        "    dpso_times.append(dpso_time)  # acumular tiempos\n",
        "\n",
        "    if dpso_best_particle:\n",
        "        _, final_mk_dpso, _ = calculate_makespan_dpso(\n",
        "            dpso_best_particle, current_surgeries_data, personnel_map, return_details=True\n",
        "        )\n",
        "        if final_mk_dpso != float('inf'):\n",
        "            dpso_results['makespan'].append(final_mk_dpso)\n",
        "            if final_mk_dpso < best_dpso_makespan_overall:\n",
        "                best_dpso_makespan_overall = final_mk_dpso\n",
        "                best_dpso_solution_repr = copy.deepcopy(dpso_best_particle)\n",
        "                best_dpso_data_seed = data_seed\n",
        "        else:\n",
        "            dpso_results['makespan'].append(float('inf'))\n",
        "    else:\n",
        "        dpso_results['makespan'].append(float('inf'))\n",
        "\n",
        "    dpso_results['solution'].append(dpso_best_particle)\n",
        "    dpso_results['best_hist'].append(dpso_best_hist)\n",
        "    dpso_results['avg_hist'].append(dpso_avg_hist)\n",
        "\n",
        "end_monte = time.time()\n",
        "\n",
        "print(f\"\\n--- Monte Carlo Finalizado ({NUM_SIMULATIONS} simulaciones) ---\")\n",
        "print(f\"Tiempo total Monte Carlo: {end_monte - start_monte:.2f} segundos\")\n",
        "\n",
        "# --- Estadísticas de tiempos ---\n",
        "ga_times = np.array(ga_times)\n",
        "dpso_times = np.array(dpso_times)\n",
        "\n",
        "print(\"\\nResumen tiempos GA (s): \"\n",
        "      f\"mean={ga_times.mean():.3f}, std={ga_times.std(ddof=1):.3f}, \"\n",
        "      f\"min={ga_times.min():.3f}, max={ga_times.max():.3f}\")\n",
        "\n",
        "print(\"Resumen tiempos dPSO (s): \"\n",
        "      f\"mean={dpso_times.mean():.3f}, std={dpso_times.std(ddof=1):.3f}, \"\n",
        "      f\"min={dpso_times.min():.3f}, max={dpso_times.max():.3f}\")\n",
        "end_monte = time.time()\n",
        "print(f\"\\n--- Monte Carlo Finalizado ({NUM_SIMULATIONS} simulaciones) ---\")\n",
        "print(f\"Tiempo total Monte Carlo: {end_monte - start_monte:.2f} segundos\\n\")\n",
        "\n",
        "# %%\n",
        "# --- 11. Estadísticas y Gráficos Comparativos ---\n",
        "\n",
        "# Filtrar makespans válidos (no infinitos)\n",
        "ga_valid_makespans = [m for m in ga_results['makespan'] if m != float('inf')]\n",
        "dpso_valid_makespans = [m for m in dpso_results.get('makespan', []) if m != float('inf')]\n",
        "\n",
        "print(\"--- Estadísticas Comparativas ---\")\n",
        "print(f\"Resultados basados en {NUM_SIMULATIONS} simulaciones.\")\n",
        "\n",
        "# Estadísticas GA y dPSO\n",
        "print(\"--- Estadísticas Comparativas ---\")\n",
        "if ga_valid_makespans:\n",
        "    print(f\"\\nAlgoritmo Genético (GA): Válidas: {len(ga_valid_makespans)}/{NUM_SIMULATIONS}\")\n",
        "    print(f\"  Makespan Mínimo:      {np.min(ga_valid_makespans):.2f} min\")\n",
        "    print(f\"  Makespan Promedio:    {np.mean(ga_valid_makespans):.2f} ± {np.std(ga_valid_makespans):.2f} min\")\n",
        "else:\n",
        "    print(\"\\nGA: No se obtuvieron resultados válidos.\")\n",
        "if dpso_valid_makespans:\n",
        "    print(f\"\\nDiscrete PSO (dPSO): Válidas: {len(dpso_valid_makespans)}/{NUM_SIMULATIONS}\")\n",
        "    print(f\"  Makespan Mínimo:      {np.min(dpso_valid_makespans):.2f} min\")\n",
        "    print(f\"  Makespan Promedio:    {np.mean(dpso_valid_makespans):.2f} ± {np.std(dpso_valid_makespans):.2f} min\")\n",
        "else:\n",
        "    print(\"\\ndPSO: No se obtuvieron resultados válidos.\")\n",
        "\n",
        "# --- Exportar Estadísticas a CSV ---\n",
        "export_summary_statistics_to_csv([('GA', ga_valid_makespans), ('dPSO', dpso_valid_makespans)], NUM_SIMULATIONS, \"Actualizado/graphs/csv/summary_statistics.csv\")\n",
        "\n",
        "# Prueba T P-Value\n",
        "print(\"\\n\" + \"-\"*25 + \" ANÁLISIS ESTADÍSTICO (PAREADO) \" + \"-\"*25)\n",
        "\n",
        "if ga_valid_makespans and dpso_valid_makespans and len(ga_valid_makespans) > 1 and len(dpso_valid_makespans) > 1:\n",
        "    ga = np.asarray(ga_valid_makespans, dtype=float)\n",
        "    dpso = np.asarray(dpso_valid_makespans, dtype=float)\n",
        "\n",
        "    # Asegurar apareamiento: truncar a la longitud mínima si difieren\n",
        "    n = min(len(ga), len(dpso))\n",
        "\n",
        "    # Diferencias pareadas (negativo favorece a GA, porque menor makespan es mejor)\n",
        "    diff = ga - dpso\n",
        "    mean_ga, mean_dpso = ga.mean(), dpso.mean()\n",
        "    std_ga, std_dpso = ga.std(ddof=1), dpso.std(ddof=1)\n",
        "    mean_diff = diff.mean()\n",
        "    sd_diff = diff.std(ddof=1)\n",
        "\n",
        "    # Wilcoxon pareado, bilateral (ignora diferencias exactamente 0)\n",
        "    try:\n",
        "        w_stat, p_value = stats.wilcoxon(ga, dpso, alternative=\"two-sided\", zero_method=\"wilcox\", method=\"auto\")\n",
        "    except ValueError:\n",
        "        # Caso extremo: todas las diferencias son 0\n",
        "        w_stat, p_value = 0.0, 1.0\n",
        "\n",
        "    # IC95% del promedio de la diferencia con bootstrap\n",
        "    rng = np.random.default_rng(42)\n",
        "    B = 5000\n",
        "    if n > 1:\n",
        "        idxs = rng.integers(0, n, size=(B, n))\n",
        "        boot_means = diff[idxs].mean(axis=1)\n",
        "        ci_low, ci_high = np.percentile(boot_means, [2.5, 97.5])\n",
        "    else:\n",
        "        ci_low = ci_high = mean_diff  # con un solo par no hay IC informativo\n",
        "\n",
        "    # Tamaño de efecto (Cohen's dz para datos pareados)\n",
        "    cohens_dz = mean_diff / sd_diff if sd_diff > 0 else np.nan\n",
        "\n",
        "    # --- Reporte ---\n",
        "    print(\"Resumen descriptivo:\")\n",
        "    print(f\"  - GA:   media = {mean_ga:.4f} min | sd = {std_ga:.4f} | n = {n}\")\n",
        "    print(f\"  - dPSO: media = {mean_dpso:.4f} min | sd = {std_dpso:.4f} | n = {n}\\n\")\n",
        "\n",
        "    print(\"Contraste pareado:\")\n",
        "    print(f\"  - Δ = GA - dPSO = {mean_diff:.4f} min (IC95% [{ci_low:.4f}, {ci_high:.4f}])\")\n",
        "    print(f\"  - Wilcoxon pareado: W = {w_stat:.4f}, p = {p_value:.4f}\")\n",
        "    print(f\"  - Tamaño de efecto (Cohen's dz) = {cohens_dz:.3f}\")\n",
        "\n",
        "    # Conclusión interpretando signo y significancia\n",
        "    if p_value < alpha_test:\n",
        "        if mean_ga < mean_dpso:\n",
        "            print(\"  → Conclusión: GA obtiene makespan significativamente menor que dPSO (mejor desempeño).\")\n",
        "        else:\n",
        "            print(\"  → Conclusión: dPSO obtiene makespan significativamente menor que GA (mejor desempeño).\")\n",
        "    else:\n",
        "        print(\"  → Conclusión: No hay evidencia suficiente de diferencia estadística (α = 0.05).\")\n",
        "\n",
        "    # --- Tabla de P-value (promedio fila vs columna) ---\n",
        "    print(\"\\nTabla de P-value promedio (Fila vs. Columna)\")\n",
        "    p_symbol = \"< 0.05\" if p_value < alpha_test else \">= 0.05\"\n",
        "    print(f\"{'':<8}{'GA':<10}{'dPSO':<10}\")\n",
        "    print(f\"{'GA':<8}{'-':<10}{p_symbol:<10}\")\n",
        "    print(f\"{'dPSO':<8}{p_symbol:<10}{'-':<10}\")\n",
        "\n",
        "    pvalue_csv_path = \"Actualizado/graphs/csv/p_value_analysis.csv\"\n",
        "\n",
        "    # Exportar CSV (usa tu helper existente)\n",
        "    export_paired_test_report_to_txt(\n",
        "        \"Actualizado/graphs/txt/paired_analysis.txt\",\n",
        "        mean_ga=mean_ga, sd_ga=std_ga, n_ga=n,\n",
        "        mean_dpso=mean_dpso, sd_dpso=std_dpso, n_dpso=n,\n",
        "        delta=mean_diff, ci_low=ci_low, ci_high=ci_high,\n",
        "        w_stat=w_stat, p_value=p_value, cohens_dz=cohens_dz,\n",
        "        alpha_test=alpha_test,\n",
        "        algos=(\"GA\",\"dPSO\"),\n",
        "        # Si quieres forzar una conclusión personalizada, pásala aquí como string:\n",
        "        conclusion_text=None,\n",
        "        pvalue_csv_path=pvalue_csv_path,\n",
        "    )\n",
        "\n",
        "else:\n",
        "    print(\"\\nNo hay suficientes datos válidos de ambos algoritmos para realizar el análisis pareado.\")\n",
        "\n",
        "print(\"-\" * 75)\n",
        "\n",
        "# --- Gráficos ---\n",
        "\n",
        "def plot_evolution(best_history, avg_history, max_iters_or_gens, algo_name, sim_num):\n",
        "    \"\"\"Genera gráfico de evolución del fitness (mejor y promedio).\"\"\"\n",
        "    plt.figure(figsize=(10, 6))\n",
        "\n",
        "    # Filtrar infinitos para graficar\n",
        "    valid_best = [(i, f) for i, f in enumerate(best_history) if f != float('inf')]\n",
        "    valid_avg = [(i, f) for i, f in enumerate(avg_history) if f != float('inf')]\n",
        "\n",
        "    if valid_best:\n",
        "        iters_best, vals_best = zip(*valid_best)\n",
        "        plt.plot(iters_best, vals_best, label=f'Best fitness ({algo_name})',\n",
        "                 color='blue', linestyle='-', drawstyle='steps-post')\n",
        "    if valid_avg:\n",
        "        iters_avg, vals_avg = zip(*valid_avg)\n",
        "        plt.plot(iters_avg, vals_avg, label=f'Average fitness ({algo_name})',\n",
        "                 color='orangered', linestyle='--')\n",
        "\n",
        "    plt.xlabel('Iteration / Generation')\n",
        "    plt.ylabel('Objective value')\n",
        "    plt.title(f'{algo_name} evolution (Simulation #{sim_num})')\n",
        "    plt.xlim(0, max_iters_or_gens)\n",
        "\n",
        "    # Ajustar límites Y basado en valores finitos\n",
        "    finite_vals = [f for f in best_history + avg_history if f != float('inf')]\n",
        "    if finite_vals:\n",
        "        min_val, max_val = min(finite_vals), max(finite_vals)\n",
        "        y_padding = (max_val - min_val) * 0.1 if max_val > min_val else 1\n",
        "        plt.ylim(max(0, min_val - y_padding), max_val + y_padding)\n",
        "\n",
        "    # Configurar ticks X e Y para mejor visualización\n",
        "    x_tick_step = max(1, max_iters_or_gens // 10)\n",
        "    plt.xticks(np.arange(0, max_iters_or_gens + 1, x_tick_step))\n",
        "\n",
        "    plt.grid(True, linestyle=':', alpha=0.7)\n",
        "    plt.legend()\n",
        "    plt.tight_layout()\n",
        "\n",
        "    plt.savefig(f\"Actualizado/graphs/convergence/{algo_name.lower()}_convergence_sim_{sim_num}.png\")\n",
        "\n",
        "    plt.close()\n",
        "\n",
        "def plot_histogram(results_data, algo_name, num_simulations, bar_color):\n",
        "    \"\"\"\n",
        "    Genera y guarda un histograma para la distribución de resultados de un algoritmo.\n",
        "    \"\"\"\n",
        "    plt.figure(figsize=(10, 6))\n",
        "    plt.hist(results_data, bins='auto', color=bar_color, alpha=0.9, edgecolor='black')\n",
        "    plt.title(f'Makespan results distribution - {algo_name} (N={num_simulations} simulations)')\n",
        "    plt.xlabel('Makespan (minutes)')\n",
        "    plt.ylabel('Frequency (No. of Simulations)')\n",
        "    plt.grid(axis='y', linestyle=':', alpha=0.7)\n",
        "    plt.tight_layout()\n",
        "\n",
        "    # Guarda en la nueva carpeta 'histograms'\n",
        "    plt.savefig(f\"Actualizado/graphs/histograms/histograma_{algo_name.lower()}.png\")\n",
        "    plt.close()\n",
        "    print(f\"\\nHistograma para {algo_name} generado y guardado en la carpeta 'histograms'.\")\n",
        "\n",
        "\n",
        "\n",
        "# --- Boxplot Comparativo de Makespan\n",
        "plt.figure(figsize=(8, 6))\n",
        "data_to_plot = []\n",
        "labels = []\n",
        "\n",
        "# Añadir datos de GA si son válidos\n",
        "if ga_valid_makespans:\n",
        "    data_to_plot.append(ga_valid_makespans)\n",
        "    labels.append('GA')\n",
        "\n",
        "# Añadir datos de dPSO si son válidos\n",
        "if dpso_valid_makespans:\n",
        "    data_to_plot.append(dpso_valid_makespans)\n",
        "    labels.append('dPSO')\n",
        "\n",
        "if data_to_plot:\n",
        "    plt.boxplot(data_to_plot, labels=labels)\n",
        "    plt.ylabel('Real makespan (minutes)')\n",
        "    plt.title(f'Makespan comparison (N={NUM_SIMULATIONS})') # Título actualizado\n",
        "    plt.grid(True, axis='y', linestyle=':', alpha=0.7)\n",
        "    plt.tight_layout()\n",
        "    # Nombre de archivo actualizado\n",
        "    plt.savefig(\"Actualizado/graphs/boxplot/makespan_comparison_boxplot.png\")\n",
        "    plt.close()\n",
        "else:\n",
        "    print(\"\\nNo hay datos válidos para graficar el boxplot.\")\n",
        "\n",
        "# --- Gráfico Evolución Mejor Run GA ---\n",
        "best_ga_sim_idx = -1\n",
        "if ga_valid_makespans:\n",
        "    try:\n",
        "        best_ga_sim_idx = ga_results['makespan'].index(min(ga_valid_makespans))\n",
        "    except (ValueError, IndexError):\n",
        "        pass\n",
        "\n",
        "if best_ga_sim_idx != -1:\n",
        "    print(f\"\\nGenerando gráfico de evolución GA (Mejor Simulación #{best_ga_sim_idx + 1})\")\n",
        "    plot_evolution(\n",
        "        ga_results['best_hist'][best_ga_sim_idx],\n",
        "        ga_results['avg_hist'][best_ga_sim_idx],\n",
        "        MAX_GENERATIONS, \"GA\", best_ga_sim_idx + 1\n",
        "    )\n",
        "else:\n",
        "    print(\"\\nNo se pudo identificar la mejor simulación GA para graficar evolución.\")\n",
        "\n",
        "# --- Gráfico Evolución Mejor Run dPSO\n",
        "best_dpso_sim_idx = -1\n",
        "if dpso_valid_makespans:\n",
        "    try:\n",
        "        best_dpso_sim_idx = dpso_results['makespan'].index(min(dpso_valid_makespans))\n",
        "    except (ValueError, IndexError):\n",
        "        pass\n",
        "\n",
        "if best_dpso_sim_idx != -1:\n",
        "    print(f\"\\nGenerando gráfico de evolución dPSO (Mejor Simulación #{best_dpso_sim_idx + 1})\")\n",
        "    plot_evolution(\n",
        "        dpso_results['best_hist'][best_dpso_sim_idx],\n",
        "        dpso_results['avg_hist'][best_dpso_sim_idx],\n",
        "        MAX_ITERATIONS_DPSO, \"dPSO\", best_dpso_sim_idx + 1\n",
        "    )\n",
        "else:\n",
        "    print(\"\\nNo se pudo identificar la mejor simulación dPSO para graficar evolución.\")\n",
        "\n",
        "from matplotlib.patches import Patch\n",
        "\n",
        "SETUP_COLOR = 'yellow'\n",
        "CLEANUP_COLOR = 'lightcoral'\n",
        "\n",
        "def plot_gantt_chart(schedule_details, all_rooms_ordered, title):\n",
        "    \"\"\"\n",
        "    Genera un diagrama de Gantt con segmentos para Setup, Processing y Cleanup,\n",
        "    agrupando APR, OR y ARR visualmente con bloques achatados y espaciado automático.\n",
        "    \"\"\"\n",
        "    if not schedule_details:\n",
        "        print(f\"No hay detalles de programación válidos para generar el Gantt: {title}\")\n",
        "        return\n",
        "\n",
        "    # === CONFIGURACIÓN DE ALTURA ===\n",
        "    bar_height = 0.25            # Altura visual de cada bloque\n",
        "    room_spacing = bar_height    # Espacio entre recursos del mismo grupo\n",
        "    group_gap = bar_height * 3  # Espacio entre grupos (APR/OR/ARR)\n",
        "\n",
        "    # === COLORMAP PARA JOBS ===\n",
        "    unique_jobs = sorted(set(task['Job'] for task in schedule_details))\n",
        "    try:\n",
        "        colors = plt.cm.get_cmap('tab20', len(unique_jobs))\n",
        "        if len(unique_jobs) > 20:\n",
        "            colors = plt.cm.get_cmap('turbo', len(unique_jobs))\n",
        "    except ValueError:\n",
        "        colors = plt.cm.get_cmap('tab10')\n",
        "    job_colors = {job_id: colors(i % colors.N) for i, job_id in enumerate(unique_jobs)}\n",
        "\n",
        "    fig, ax = plt.subplots(figsize=(11, 6))\n",
        "\n",
        "    # === CATEGORIZACIÓN DE SALAS ===\n",
        "    room_categories = {'APR': [], 'OR': [], 'ARR': []}\n",
        "    for room in all_rooms_ordered:\n",
        "        if room.startswith('APR'): room_categories['APR'].append(room)\n",
        "        elif room.startswith('OR'): room_categories['OR'].append(room)\n",
        "        elif room.startswith('ARR'): room_categories['ARR'].append(room)\n",
        "\n",
        "    # === POSICIONES Y ===\n",
        "    y_pos = {}\n",
        "    y_labels_ordered = []\n",
        "    current_y = 0\n",
        "\n",
        "    for group in ['APR', 'OR', 'ARR']:\n",
        "        for room in sorted(room_categories[group]):\n",
        "            y_pos[room] = current_y\n",
        "            y_labels_ordered.append(room)\n",
        "            current_y += room_spacing\n",
        "        current_y += group_gap\n",
        "\n",
        "    max_time = 0\n",
        "    bar_edge_color = 'black'\n",
        "    bar_linewidth = 0.5\n",
        "    bar_alpha = 0.9\n",
        "\n",
        "    for task in schedule_details:\n",
        "        job = task['Job']\n",
        "        resource = task['Resource']\n",
        "        start = task.get('Start', -1)\n",
        "        processing_end = task.get('ProcessingEnd', -1)\n",
        "        finish = task.get('Finish', -1)\n",
        "\n",
        "        job_type = job_types.get(job, 1)\n",
        "        setup_time_val = setup_times[job_type]\n",
        "        cleanup_time_val = cleanup_times[job_type]\n",
        "\n",
        "        if start < 0 or processing_end < 0 or finish < 0 or processing_end < start or finish < processing_end:\n",
        "            continue\n",
        "        if resource not in y_pos:\n",
        "            continue\n",
        "\n",
        "        setup_duration = setup_time_val\n",
        "        processing_duration = processing_end - (start + setup_duration)\n",
        "        cleanup_duration = cleanup_time_val\n",
        "\n",
        "        if setup_duration < 0 or processing_duration < 0 or cleanup_duration < 0:\n",
        "            continue\n",
        "\n",
        "        setup_start = start\n",
        "        processing_start = start + setup_duration\n",
        "        cleanup_start = processing_end\n",
        "        y = y_pos[resource]\n",
        "        processing_color = job_colors.get(job, 'gray')\n",
        "\n",
        "        if setup_duration > 1e-6:\n",
        "            ax.barh(y=y, width=setup_duration, left=setup_start, height=bar_height,\n",
        "                    color=SETUP_COLOR, edgecolor=bar_edge_color, linewidth=bar_linewidth, alpha=bar_alpha)\n",
        "\n",
        "        if processing_duration > 1e-6:\n",
        "            ax.barh(y=y, width=processing_duration, left=processing_start, height=bar_height,\n",
        "                    color=processing_color, edgecolor=bar_edge_color, linewidth=bar_linewidth, alpha=bar_alpha)\n",
        "\n",
        "            try:\n",
        "                bar_color_rgb = mcolors.to_rgb(processing_color)\n",
        "                luminance = 0.299*bar_color_rgb[0] + 0.587*bar_color_rgb[1] + 0.114*bar_color_rgb[2]\n",
        "                text_color = 'white' if luminance < 0.5 else 'black'\n",
        "            except:\n",
        "                text_color = 'black'\n",
        "\n",
        "            if processing_duration > 20:\n",
        "                ax.text(processing_start + processing_duration / 2, y, f\"{job}\",\n",
        "                        ha='center', va='center', color=text_color,\n",
        "                        fontweight='bold', fontsize=7, clip_on=True)\n",
        "\n",
        "        if cleanup_duration > 1e-6:\n",
        "            ax.barh(y=y, width=cleanup_duration, left=cleanup_start, height=bar_height,\n",
        "                    color=CLEANUP_COLOR, edgecolor=bar_edge_color, linewidth=bar_linewidth, alpha=bar_alpha)\n",
        "\n",
        "        if finish > max_time:\n",
        "            max_time = finish\n",
        "\n",
        "    # === EJE Y ===\n",
        "    ax.set_yticks([y_pos[room] for room in y_labels_ordered])\n",
        "    ax.set_yticklabels(y_labels_ordered, fontsize=9)\n",
        "    ax.set_xlabel(\"Time (minutes)\", fontsize=10)\n",
        "    ax.set_ylabel(\"Resource (Room)\", fontsize=10)\n",
        "    ax.set_title(title + \" (Setup/Proc/Cleanup)\", fontsize=12, fontweight='bold')\n",
        "\n",
        "    # === SEPARADORES ENTRE GRUPOS (opcionales) ===\n",
        "    apr_count = len(room_categories['APR'])\n",
        "    or_count = len(room_categories['OR'])\n",
        "    sep_lines = [y_pos[room_categories['OR'][0]] - group_gap/2,\n",
        "                 y_pos[room_categories['ARR'][0]] - group_gap/2]\n",
        "    for sep in sep_lines:\n",
        "        ax.axhline(y=sep, color='black', linestyle='--', linewidth=0.6, alpha=0.4)\n",
        "\n",
        "    # === EJE X Y ESTILO ===\n",
        "    ax.set_xlim(0, max_time * 1.05 if max_time > 0 else 100)\n",
        "    ax.invert_yaxis()\n",
        "    ax.grid(True, axis='x', linestyle=':', color='gray', alpha=0.6)\n",
        "\n",
        "    # === LEYENDA ===\n",
        "    legend_elements = [\n",
        "        Patch(facecolor=SETUP_COLOR, edgecolor=bar_edge_color, label='Setup'),\n",
        "        Patch(facecolor='grey', edgecolor=bar_edge_color, label='Processing (Color per Job)'),\n",
        "        Patch(facecolor=CLEANUP_COLOR, edgecolor=bar_edge_color, label='Cleanup')\n",
        "    ]\n",
        "    ax.legend(handles=legend_elements, loc='upper right', fontsize='small', title=\"Segments:\")\n",
        "\n",
        "    last_y_value = max(y_pos.values())\n",
        "    #ax.set_ylim(last_y_value + 0.12, -0.12)  # +1 para evitar cortar parte inferior\n",
        "\n",
        "    # === AJUSTE FINAL DE LAYOUT ===\n",
        "    plt.tight_layout(pad=0.2)\n",
        "\n",
        "    # === GUARDAR ===\n",
        "    safe_title = title.replace(\" \", \"_\").replace(\":\", \"\").replace(\"(\", \"\").replace(\")\", \"\").lower()\n",
        "    filename = f\"Actualizado/graphs/gantt/{safe_title}.png\"\n",
        "    plt.savefig(filename)\n",
        "    plt.close()\n",
        "    print(f\"Gantt chart saved to {filename}\")\n",
        "\n",
        "# %%\n",
        "# --- 12. GENERACIÓN DE GRÁFICOS GANTT PARA LOS MEJORES RUNS ---\n",
        "\n",
        "print(\"\\n--- Generando Gráficos Gantt para las Mejores Simulaciones Globales ---\")\n",
        "\n",
        "# Mejor Run GA Global\n",
        "if best_ga_solution_repr and best_ga_data_seed != -1:\n",
        "    print(f\"\\nGenerando Gantt para el mejor GA global...\")\n",
        "    print(f\"  Makespan: {best_ga_makespan_overall:.2f} min\")\n",
        "    print(f\"  Obtenido en simulación con semilla de datos: {best_ga_data_seed}\")\n",
        "\n",
        "    # Regenerar datos de esa simulación específica\n",
        "    np.random.seed(best_ga_data_seed)\n",
        "    best_ga_surgeries_data = generate_day_surgeries_data(job_ids, base_day_surgeries_data, std_factor=std_factor)  # Variabilidad del 0% (ajustable)\n",
        "    # Recalcular con detalles usando la mejor solución guardada\n",
        "    _, _, ga_schedule_details = calculate_makespan_ga(\n",
        "        best_ga_solution_repr, best_ga_surgeries_data, personnel_map, return_details=True\n",
        "    )\n",
        "\n",
        "    if ga_schedule_details:\n",
        "        plot_title_ga = (f\"Gantt diagram - Best GA global fitness \"\n",
        "                        f\"(Makespan: {best_ga_makespan_overall:.2f} min)\")\n",
        "        plot_gantt_chart(ga_schedule_details, all_rooms, plot_title_ga)\n",
        "    else:\n",
        "        print(\"  Error: No se pudieron obtener los detalles de la programación para el mejor GA.\")\n",
        "else:\n",
        "    print(\"\\nNo se encontró una solución válida global para GA para generar Gantt.\")\n",
        "\n",
        "# Mejor Run dPSO Global\n",
        "if best_dpso_solution_repr and best_dpso_data_seed != -1:\n",
        "    print(f\"\\nGenerando Gantt para el mejor dPSO global (Makespan: {best_dpso_makespan_overall:.2f} min)...\")\n",
        "    np.random.seed(best_dpso_data_seed)\n",
        "    best_dpso_surgeries_data = generate_day_surgeries_data(job_ids, base_day_surgeries_data, std_factor=std_factor)\n",
        "    _, _, dpso_schedule_details = calculate_makespan_dpso(\n",
        "        best_dpso_solution_repr, best_dpso_surgeries_data, personnel_map, return_details=True\n",
        "    )\n",
        "    if dpso_schedule_details:\n",
        "        plot_title_dpso = (f\"Gantt diagram - Best dPSO global fitness (Makespan {best_dpso_makespan_overall:.2f})\")\n",
        "        plot_gantt_chart(dpso_schedule_details, all_rooms, plot_title_dpso)\n",
        "    else:\n",
        "        print(\"Error: No se pudieron obtener los detalles de la programación para el mejor dPSO.\")\n",
        "else:\n",
        "    print(\"\\nNo se encontró una solución válida global para dPSO para generar Gantt.\")\n",
        "\n",
        "print(\"\\n--- Fin del Script ---\")\n",
        "\n",
        "\n",
        "\n",
        "# %%\n",
        "# --- 13. IMPRESIÓN Y EXPORTACIÓN DE RESULTADOS FINALES ---\n",
        "\n",
        "# --- Reportes para el Mejor GA Global ---\n",
        "# (Verifica que los detalles del GA existen antes de llamar a las funciones)\n",
        "if 'ga_schedule_details' in locals() and ga_schedule_details:\n",
        "    print(\"\\n\" + \"=\"*25 + \" REPORTE MEJOR RESULTADO: GA \" + \"=\"*25)\n",
        "    print_schedule_summary(ga_schedule_details, \"GA Mejor Run\")\n",
        "    display_scheduling_strategy(ga_schedule_details)\n",
        "    display_starting_timetable(ga_schedule_details)\n",
        "\n",
        "    # Exportar a CSV\n",
        "    export_schedule_to_csv(ga_schedule_details, \"Actualizado/graphs/csv/ga_schedule_detallado.csv\")\n",
        "    export_strategy_to_csv(ga_schedule_details, \"Actualizado/graphs/csv/ga_estrategia_salas.csv\")\n",
        "    export_timetable_to_csv(ga_schedule_details, \"Actualizado/graphs/csv/ga_horarios_inicio.csv\")\n",
        "\n",
        "# --- Reportes para el Mejor dPSO Global ---\n",
        "# (Verifica que los detalles del dPSO existen antes de llamar a las funciones)\n",
        "if 'dpso_schedule_details' in locals() and dpso_schedule_details:\n",
        "    print(\"\\n\" + \"=\"*25 + \" REPORTE MEJOR RESULTADO: dPSO \" + \"=\"*25)\n",
        "    print_schedule_summary(dpso_schedule_details, \"dPSO Mejor Run\")\n",
        "    display_scheduling_strategy(dpso_schedule_details)\n",
        "    display_starting_timetable(dpso_schedule_details)\n",
        "\n",
        "    # Exportar a CSV con nombres de archivo diferentes\n",
        "    export_schedule_to_csv(dpso_schedule_details, \"Actualizado/graphs/csv/dpso_schedule_detallado.csv\")\n",
        "    export_strategy_to_csv(dpso_schedule_details, \"Actualizado/graphs/csv/dpso_estrategia_salas.csv\")\n",
        "    export_timetable_to_csv(dpso_schedule_details, \"Actualizado/graphs/csv/dpso_horarios_inicio.csv\")\n",
        "\n",
        "# --- Llamadas a la nueva función de histogramas ---\n",
        "if ga_valid_makespans:\n",
        "    plot_histogram(ga_valid_makespans, \"GA\", NUM_SIMULATIONS, 'skyblue')\n",
        "\n",
        "if dpso_valid_makespans:\n",
        "    plot_histogram(dpso_valid_makespans, \"dPSO\", NUM_SIMULATIONS, 'salmon')"
      ],
      "outputs": [
        {
          "output_type": "stream",
          "name": "stdout",
          "text": [
            "Iniciando 300 simulaciones Monte Carlo para GA ...\n"
          ]
        },
        {
          "output_type": "stream",
          "name": "stderr",
          "text": [
            "\rMonte Carlo:   0%|          | 0/300 [00:00<?, ?it/s]"
          ]
        },
        {
          "output_type": "stream",
          "name": "stdout",
          "text": [
            "\n",
            "--- Simulación 1/300 ---\n",
            "GA - Gen 0... 200... 400... 600... 800... 1000... ¡Hecho!\n",
            "dPSO - Iter 0... 200... 400... 600... 800..."
          ]
        },
        {
          "output_type": "stream",
          "name": "stderr",
          "text": [
            "\rMonte Carlo:   0%|          | 1/300 [00:14<1:12:30, 14.55s/it]"
          ]
        },
        {
          "output_type": "stream",
          "name": "stdout",
          "text": [
            " 1000... ¡Hecho!\n",
            "GA - Gen 0... 200... 400... 600... 800... 1000... ¡Hecho!\n",
            "dPSO - Iter 0... 200... 400... 600... 800..."
          ]
        },
        {
          "output_type": "stream",
          "name": "stderr",
          "text": [
            "\rMonte Carlo:   1%|          | 2/300 [00:29<1:13:29, 14.80s/it]"
          ]
        },
        {
          "output_type": "stream",
          "name": "stdout",
          "text": [
            " 1000... ¡Hecho!\n",
            "GA - Gen 0... 200... 400... 600... 800... 1000... ¡Hecho!\n",
            "dPSO - Iter 0... 200... 400... 600... 800..."
          ]
        },
        {
          "output_type": "stream",
          "name": "stderr",
          "text": [
            "\rMonte Carlo:   1%|          | 3/300 [00:44<1:13:07, 14.77s/it]"
          ]
        },
        {
          "output_type": "stream",
          "name": "stdout",
          "text": [
            " 1000... ¡Hecho!\n",
            "GA - Gen 0... 200... 400... 600... 800... 1000... ¡Hecho!\n",
            "dPSO - Iter 0... 200... 400... 600... 800..."
          ]
        },
        {
          "output_type": "stream",
          "name": "stderr",
          "text": [
            "\rMonte Carlo:   1%|▏         | 4/300 [00:58<1:11:22, 14.47s/it]"
          ]
        },
        {
          "output_type": "stream",
          "name": "stdout",
          "text": [
            " 1000... ¡Hecho!\n",
            "GA - Gen 0... 200... 400... 600... 800... 1000... ¡Hecho!\n",
            "dPSO - Iter 0... 200... 400... 600... 800..."
          ]
        },
        {
          "output_type": "stream",
          "name": "stderr",
          "text": [
            "\rMonte Carlo:   2%|▏         | 5/300 [01:12<1:10:37, 14.36s/it]"
          ]
        },
        {
          "output_type": "stream",
          "name": "stdout",
          "text": [
            " 1000... ¡Hecho!\n",
            "GA - Gen 0... 200... 400... 600... 800... 1000... ¡Hecho!\n",
            "dPSO - Iter 0... 200... 400... 600... 800..."
          ]
        },
        {
          "output_type": "stream",
          "name": "stderr",
          "text": [
            "\rMonte Carlo:   2%|▏         | 6/300 [01:27<1:11:02, 14.50s/it]"
          ]
        },
        {
          "output_type": "stream",
          "name": "stdout",
          "text": [
            " 1000... ¡Hecho!\n",
            "GA - Gen 0... 200... 400... 600... 800... 1000... ¡Hecho!\n",
            "dPSO - Iter 0... 200... 400... 600... 800..."
          ]
        },
        {
          "output_type": "stream",
          "name": "stderr",
          "text": [
            "\rMonte Carlo:   2%|▏         | 7/300 [01:41<1:10:26, 14.43s/it]"
          ]
        },
        {
          "output_type": "stream",
          "name": "stdout",
          "text": [
            " 1000... ¡Hecho!\n",
            "GA - Gen 0... 200... 400... 600... 800... 1000... ¡Hecho!\n",
            "dPSO - Iter 0... 200... 400... 600... 800..."
          ]
        },
        {
          "output_type": "stream",
          "name": "stderr",
          "text": [
            "\rMonte Carlo:   3%|▎         | 8/300 [01:55<1:09:31, 14.28s/it]"
          ]
        },
        {
          "output_type": "stream",
          "name": "stdout",
          "text": [
            " 1000... ¡Hecho!\n",
            "GA - Gen 0... 200... 400... 600... 800... 1000... ¡Hecho!\n",
            "dPSO - Iter 0... 200... 400... 600... 800..."
          ]
        },
        {
          "output_type": "stream",
          "name": "stderr",
          "text": [
            "\rMonte Carlo:   3%|▎         | 9/300 [02:10<1:11:07, 14.67s/it]"
          ]
        },
        {
          "output_type": "stream",
          "name": "stdout",
          "text": [
            " 1000... ¡Hecho!\n",
            "GA - Gen 0... 200... 400... 600... 800... 1000... ¡Hecho!\n",
            "dPSO - Iter 0... 200... 400... 600... 800..."
          ]
        },
        {
          "output_type": "stream",
          "name": "stderr",
          "text": [
            "\rMonte Carlo:   3%|▎         | 10/300 [02:26<1:11:26, 14.78s/it]"
          ]
        },
        {
          "output_type": "stream",
          "name": "stdout",
          "text": [
            " 1000... ¡Hecho!\n",
            "GA - Gen 0... 200... 400... 600... 800... 1000... ¡Hecho!\n",
            "dPSO - Iter 0... 200... 400... 600... 800..."
          ]
        },
        {
          "output_type": "stream",
          "name": "stderr",
          "text": [
            "\rMonte Carlo:   4%|▎         | 11/300 [02:39<1:09:42, 14.47s/it]"
          ]
        },
        {
          "output_type": "stream",
          "name": "stdout",
          "text": [
            " 1000... ¡Hecho!\n",
            "GA - Gen 0... 200... 400... 600... 800... 1000... ¡Hecho!\n",
            "dPSO - Iter 0... 200... 400... 600... 800..."
          ]
        },
        {
          "output_type": "stream",
          "name": "stderr",
          "text": [
            "\rMonte Carlo:   4%|▍         | 12/300 [02:53<1:09:00, 14.38s/it]"
          ]
        },
        {
          "output_type": "stream",
          "name": "stdout",
          "text": [
            " 1000... ¡Hecho!\n",
            "GA - Gen 0... 200... 400... 600... 800... 1000... ¡Hecho!\n",
            "dPSO - Iter 0... 200... 400... 600... 800..."
          ]
        },
        {
          "output_type": "stream",
          "name": "stderr",
          "text": [
            "\rMonte Carlo:   4%|▍         | 13/300 [03:08<1:08:23, 14.30s/it]"
          ]
        },
        {
          "output_type": "stream",
          "name": "stdout",
          "text": [
            " 1000... ¡Hecho!\n",
            "GA - Gen 0... 200... 400... 600... 800... 1000... ¡Hecho!\n",
            "dPSO - Iter 0... 200... 400... 600... 800..."
          ]
        },
        {
          "output_type": "stream",
          "name": "stderr",
          "text": [
            "\rMonte Carlo:   5%|▍         | 14/300 [03:23<1:09:24, 14.56s/it]"
          ]
        },
        {
          "output_type": "stream",
          "name": "stdout",
          "text": [
            " 1000... ¡Hecho!\n",
            "GA - Gen 0... 200... 400... 600... 800... 1000... ¡Hecho!\n",
            "dPSO - Iter 0... 200... 400... 600... 800..."
          ]
        },
        {
          "output_type": "stream",
          "name": "stderr",
          "text": [
            "\rMonte Carlo:   5%|▌         | 15/300 [03:37<1:08:40, 14.46s/it]"
          ]
        },
        {
          "output_type": "stream",
          "name": "stdout",
          "text": [
            " 1000... ¡Hecho!\n",
            "GA - Gen 0... 200... 400... 600... 800... 1000... ¡Hecho!\n",
            "dPSO - Iter 0... 200... 400... 600... 800..."
          ]
        },
        {
          "output_type": "stream",
          "name": "stderr",
          "text": [
            "\rMonte Carlo:   5%|▌         | 16/300 [03:52<1:08:46, 14.53s/it]"
          ]
        },
        {
          "output_type": "stream",
          "name": "stdout",
          "text": [
            " 1000... ¡Hecho!\n",
            "GA - Gen 0... 200... 400... 600... 800... 1000... ¡Hecho!\n",
            "dPSO - Iter 0... 200... 400... 600... 800..."
          ]
        },
        {
          "output_type": "stream",
          "name": "stderr",
          "text": [
            "\rMonte Carlo:   6%|▌         | 17/300 [04:07<1:09:17, 14.69s/it]"
          ]
        },
        {
          "output_type": "stream",
          "name": "stdout",
          "text": [
            " 1000... ¡Hecho!\n",
            "GA - Gen 0... 200... 400... 600... 800... 1000... ¡Hecho!\n",
            "dPSO - Iter 0... 200... 400... 600... 800..."
          ]
        },
        {
          "output_type": "stream",
          "name": "stderr",
          "text": [
            "\rMonte Carlo:   6%|▌         | 18/300 [04:21<1:08:57, 14.67s/it]"
          ]
        },
        {
          "output_type": "stream",
          "name": "stdout",
          "text": [
            " 1000... ¡Hecho!\n",
            "GA - Gen 0... 200... 400... 600... 800... 1000... ¡Hecho!\n",
            "dPSO - Iter 0... 200... 400... 600... 800..."
          ]
        },
        {
          "output_type": "stream",
          "name": "stderr",
          "text": [
            "\rMonte Carlo:   6%|▋         | 19/300 [04:35<1:07:49, 14.48s/it]"
          ]
        },
        {
          "output_type": "stream",
          "name": "stdout",
          "text": [
            " 1000... ¡Hecho!\n",
            "\n",
            "--- Simulación 20/300 ---\n",
            "GA - Gen 0... 200... 400... 600... 800... 1000... ¡Hecho!\n",
            "dPSO - Iter 0... 200... 400... 600... 800..."
          ]
        },
        {
          "output_type": "stream",
          "name": "stderr",
          "text": [
            "\rMonte Carlo:   7%|▋         | 20/300 [04:50<1:08:15, 14.63s/it]"
          ]
        },
        {
          "output_type": "stream",
          "name": "stdout",
          "text": [
            " 1000... ¡Hecho!\n",
            "GA - Gen 0... 200... 400... 600... 800... 1000... ¡Hecho!\n",
            "dPSO - Iter 0... 200... 400... 600... 800..."
          ]
        },
        {
          "output_type": "stream",
          "name": "stderr",
          "text": [
            "\rMonte Carlo:   7%|▋         | 21/300 [05:05<1:08:07, 14.65s/it]"
          ]
        },
        {
          "output_type": "stream",
          "name": "stdout",
          "text": [
            " 1000... ¡Hecho!\n",
            "GA - Gen 0... 200... 400... 600... 800... 1000... ¡Hecho!\n",
            "dPSO - Iter 0... 200... 400... 600... 800..."
          ]
        },
        {
          "output_type": "stream",
          "name": "stderr",
          "text": [
            "\rMonte Carlo:   7%|▋         | 22/300 [05:19<1:07:36, 14.59s/it]"
          ]
        },
        {
          "output_type": "stream",
          "name": "stdout",
          "text": [
            " 1000... ¡Hecho!\n",
            "GA - Gen 0... 200... 400... 600... 800... 1000... ¡Hecho!\n",
            "dPSO - Iter 0... 200... 400... 600... 800..."
          ]
        },
        {
          "output_type": "stream",
          "name": "stderr",
          "text": [
            "\rMonte Carlo:   8%|▊         | 23/300 [05:34<1:07:03, 14.52s/it]"
          ]
        },
        {
          "output_type": "stream",
          "name": "stdout",
          "text": [
            " 1000... ¡Hecho!\n",
            "GA - Gen 0... 200... 400... 600... 800... 1000... ¡Hecho!\n",
            "dPSO - Iter 0... 200... 400... 600... 800..."
          ]
        },
        {
          "output_type": "stream",
          "name": "stderr",
          "text": [
            "\rMonte Carlo:   8%|▊         | 24/300 [05:49<1:07:31, 14.68s/it]"
          ]
        },
        {
          "output_type": "stream",
          "name": "stdout",
          "text": [
            " 1000... ¡Hecho!\n",
            "GA - Gen 0... 200... 400... 600... 800... 1000... ¡Hecho!\n",
            "dPSO - Iter 0... 200... 400... 600... 800..."
          ]
        },
        {
          "output_type": "stream",
          "name": "stderr",
          "text": [
            "\rMonte Carlo:   8%|▊         | 25/300 [06:03<1:06:32, 14.52s/it]"
          ]
        },
        {
          "output_type": "stream",
          "name": "stdout",
          "text": [
            " 1000... ¡Hecho!\n",
            "GA - Gen 0... 200... 400... 600... 800... 1000... ¡Hecho!\n",
            "dPSO - Iter 0... 200... 400... 600... 800..."
          ]
        },
        {
          "output_type": "stream",
          "name": "stderr",
          "text": [
            "\rMonte Carlo:   9%|▊         | 26/300 [06:17<1:05:13, 14.28s/it]"
          ]
        },
        {
          "output_type": "stream",
          "name": "stdout",
          "text": [
            " 1000... ¡Hecho!\n",
            "GA - Gen 0... 200... 400... 600... 800... 1000... ¡Hecho!\n",
            "dPSO - Iter 0... 200... 400... 600... 800..."
          ]
        },
        {
          "output_type": "stream",
          "name": "stderr",
          "text": [
            "\rMonte Carlo:   9%|▉         | 27/300 [06:31<1:04:26, 14.16s/it]"
          ]
        },
        {
          "output_type": "stream",
          "name": "stdout",
          "text": [
            " 1000... ¡Hecho!\n",
            "GA - Gen 0... 200... 400... 600... 800... 1000... ¡Hecho!\n",
            "dPSO - Iter 0... 200... 400... 600... 800..."
          ]
        },
        {
          "output_type": "stream",
          "name": "stderr",
          "text": [
            "\rMonte Carlo:   9%|▉         | 28/300 [06:46<1:05:36, 14.47s/it]"
          ]
        },
        {
          "output_type": "stream",
          "name": "stdout",
          "text": [
            " 1000... ¡Hecho!\n",
            "GA - Gen 0... 200... 400... 600... 800... 1000... ¡Hecho!\n",
            "dPSO - Iter 0... 200... 400... 600... 800..."
          ]
        },
        {
          "output_type": "stream",
          "name": "stderr",
          "text": [
            "\rMonte Carlo:  10%|▉         | 29/300 [07:00<1:05:10, 14.43s/it]"
          ]
        },
        {
          "output_type": "stream",
          "name": "stdout",
          "text": [
            " 1000... ¡Hecho!\n",
            "GA - Gen 0... 200... 400... 600... 800... 1000... ¡Hecho!\n",
            "dPSO - Iter 0... 200... 400... 600... 800..."
          ]
        },
        {
          "output_type": "stream",
          "name": "stderr",
          "text": [
            "\rMonte Carlo:  10%|█         | 30/300 [07:15<1:05:39, 14.59s/it]"
          ]
        },
        {
          "output_type": "stream",
          "name": "stdout",
          "text": [
            " 1000... ¡Hecho!\n",
            "GA - Gen 0... 200... 400... 600... 800... 1000... ¡Hecho!\n",
            "dPSO - Iter 0... 200... 400... 600... 800..."
          ]
        },
        {
          "output_type": "stream",
          "name": "stderr",
          "text": [
            "\rMonte Carlo:  10%|█         | 31/300 [07:29<1:03:57, 14.27s/it]"
          ]
        },
        {
          "output_type": "stream",
          "name": "stdout",
          "text": [
            " 1000... ¡Hecho!\n",
            "GA - Gen 0... 200... 400... 600... 800... 1000... ¡Hecho!\n",
            "dPSO - Iter 0... 200... 400... 600... 800..."
          ]
        },
        {
          "output_type": "stream",
          "name": "stderr",
          "text": [
            "\rMonte Carlo:  11%|█         | 32/300 [07:44<1:04:43, 14.49s/it]"
          ]
        },
        {
          "output_type": "stream",
          "name": "stdout",
          "text": [
            " 1000... ¡Hecho!\n",
            "GA - Gen 0... 200... 400... 600... 800... 1000... ¡Hecho!\n",
            "dPSO - Iter 0... 200... 400... 600... 800..."
          ]
        },
        {
          "output_type": "stream",
          "name": "stderr",
          "text": [
            "\rMonte Carlo:  11%|█         | 33/300 [07:58<1:04:17, 14.45s/it]"
          ]
        },
        {
          "output_type": "stream",
          "name": "stdout",
          "text": [
            " 1000... ¡Hecho!\n",
            "GA - Gen 0... 200... 400... 600... 800... 1000... ¡Hecho!\n",
            "dPSO - Iter 0... 200... 400... 600... 800..."
          ]
        },
        {
          "output_type": "stream",
          "name": "stderr",
          "text": [
            "\rMonte Carlo:  11%|█▏        | 34/300 [08:12<1:03:54, 14.42s/it]"
          ]
        },
        {
          "output_type": "stream",
          "name": "stdout",
          "text": [
            " 1000... ¡Hecho!\n",
            "GA - Gen 0... 200... 400... 600... 800... 1000... ¡Hecho!\n",
            "dPSO - Iter 0... 200... 400... 600... 800..."
          ]
        },
        {
          "output_type": "stream",
          "name": "stderr",
          "text": [
            "\rMonte Carlo:  12%|█▏        | 35/300 [08:27<1:04:10, 14.53s/it]"
          ]
        },
        {
          "output_type": "stream",
          "name": "stdout",
          "text": [
            " 1000... ¡Hecho!\n",
            "GA - Gen 0... 200... 400... 600... 800... 1000... ¡Hecho!\n",
            "dPSO - Iter 0... 200... 400... 600... 800..."
          ]
        },
        {
          "output_type": "stream",
          "name": "stderr",
          "text": [
            "\rMonte Carlo:  12%|█▏        | 36/300 [08:43<1:05:13, 14.82s/it]"
          ]
        },
        {
          "output_type": "stream",
          "name": "stdout",
          "text": [
            " 1000... ¡Hecho!\n",
            "GA - Gen 0... 200... 400... 600... 800... 1000... ¡Hecho!\n",
            "dPSO - Iter 0... 200... 400... 600... 800..."
          ]
        },
        {
          "output_type": "stream",
          "name": "stderr",
          "text": [
            "\rMonte Carlo:  12%|█▏        | 37/300 [08:57<1:03:57, 14.59s/it]"
          ]
        },
        {
          "output_type": "stream",
          "name": "stdout",
          "text": [
            " 1000... ¡Hecho!\n",
            "GA - Gen 0... 200... 400... 600... 800... 1000... ¡Hecho!\n",
            "dPSO - Iter 0... 200... 400... 600... 800..."
          ]
        },
        {
          "output_type": "stream",
          "name": "stderr",
          "text": [
            "\rMonte Carlo:  13%|█▎        | 38/300 [09:11<1:03:55, 14.64s/it]"
          ]
        },
        {
          "output_type": "stream",
          "name": "stdout",
          "text": [
            " 1000... ¡Hecho!\n",
            "GA - Gen 0... 200... 400... 600... 800... 1000... ¡Hecho!\n",
            "dPSO - Iter 0... 200... 400... 600... 800..."
          ]
        },
        {
          "output_type": "stream",
          "name": "stderr",
          "text": [
            "\rMonte Carlo:  13%|█▎        | 39/300 [09:27<1:04:25, 14.81s/it]"
          ]
        },
        {
          "output_type": "stream",
          "name": "stdout",
          "text": [
            " 1000... ¡Hecho!\n",
            "\n",
            "--- Simulación 40/300 ---\n",
            "GA - Gen 0... 200... 400... 600... 800... 1000... ¡Hecho!\n",
            "dPSO - Iter 0... 200... 400... 600... 800..."
          ]
        },
        {
          "output_type": "stream",
          "name": "stderr",
          "text": [
            "\rMonte Carlo:  13%|█▎        | 40/300 [09:41<1:03:56, 14.75s/it]"
          ]
        },
        {
          "output_type": "stream",
          "name": "stdout",
          "text": [
            " 1000... ¡Hecho!\n",
            "GA - Gen 0... 200... 400... 600... 800... 1000... ¡Hecho!\n",
            "dPSO - Iter 0... 200... 400... 600... 800..."
          ]
        },
        {
          "output_type": "stream",
          "name": "stderr",
          "text": [
            "\rMonte Carlo:  14%|█▎        | 41/300 [09:55<1:02:44, 14.54s/it]"
          ]
        },
        {
          "output_type": "stream",
          "name": "stdout",
          "text": [
            " 1000... ¡Hecho!\n",
            "GA - Gen 0... 200... 400... 600... 800... 1000... ¡Hecho!\n",
            "dPSO - Iter 0... 200... 400... 600... 800..."
          ]
        },
        {
          "output_type": "stream",
          "name": "stderr",
          "text": [
            "\rMonte Carlo:  14%|█▍        | 42/300 [10:10<1:02:01, 14.43s/it]"
          ]
        },
        {
          "output_type": "stream",
          "name": "stdout",
          "text": [
            " 1000... ¡Hecho!\n",
            "GA - Gen 0... 200... 400... 600... 800... 1000... ¡Hecho!\n",
            "dPSO - Iter 0... 200... 400... 600... 800..."
          ]
        },
        {
          "output_type": "stream",
          "name": "stderr",
          "text": [
            "\rMonte Carlo:  14%|█▍        | 43/300 [10:24<1:02:17, 14.54s/it]"
          ]
        },
        {
          "output_type": "stream",
          "name": "stdout",
          "text": [
            " 1000... ¡Hecho!\n",
            "GA - Gen 0... 200... 400... 600... 800... 1000... ¡Hecho!\n",
            "dPSO - Iter 0... 200... 400... 600... 800..."
          ]
        },
        {
          "output_type": "stream",
          "name": "stderr",
          "text": [
            "\rMonte Carlo:  15%|█▍        | 44/300 [10:39<1:02:41, 14.69s/it]"
          ]
        },
        {
          "output_type": "stream",
          "name": "stdout",
          "text": [
            " 1000... ¡Hecho!\n",
            "GA - Gen 0... 200... 400... 600... 800... 1000... ¡Hecho!\n",
            "dPSO - Iter 0... 200... 400... 600... 800..."
          ]
        },
        {
          "output_type": "stream",
          "name": "stderr",
          "text": [
            "\rMonte Carlo:  15%|█▌        | 45/300 [10:54<1:01:46, 14.54s/it]"
          ]
        },
        {
          "output_type": "stream",
          "name": "stdout",
          "text": [
            " 1000... ¡Hecho!\n",
            "GA - Gen 0... 200... 400... 600... 800... 1000... ¡Hecho!\n",
            "dPSO - Iter 0... 200... 400... 600... 800..."
          ]
        },
        {
          "output_type": "stream",
          "name": "stderr",
          "text": [
            "\rMonte Carlo:  15%|█▌        | 46/300 [11:08<1:01:01, 14.42s/it]"
          ]
        },
        {
          "output_type": "stream",
          "name": "stdout",
          "text": [
            " 1000... ¡Hecho!\n",
            "GA - Gen 0... 200... 400... 600... 800... 1000... ¡Hecho!\n",
            "dPSO - Iter 0... 200... 400... 600... 800..."
          ]
        },
        {
          "output_type": "stream",
          "name": "stderr",
          "text": [
            "\rMonte Carlo:  16%|█▌        | 47/300 [11:22<1:01:17, 14.54s/it]"
          ]
        },
        {
          "output_type": "stream",
          "name": "stdout",
          "text": [
            " 1000... ¡Hecho!\n",
            "GA - Gen 0... 200... 400... 600... 800... 1000... ¡Hecho!\n",
            "dPSO - Iter 0... 200... 400... 600... 800..."
          ]
        },
        {
          "output_type": "stream",
          "name": "stderr",
          "text": [
            "\rMonte Carlo:  16%|█▌        | 48/300 [11:37<1:00:24, 14.38s/it]"
          ]
        },
        {
          "output_type": "stream",
          "name": "stdout",
          "text": [
            " 1000... ¡Hecho!\n",
            "GA - Gen 0... 200... 400... 600... 800... 1000... ¡Hecho!\n",
            "dPSO - Iter 0... 200... 400... 600... 800..."
          ]
        },
        {
          "output_type": "stream",
          "name": "stderr",
          "text": [
            "\rMonte Carlo:  16%|█▋        | 49/300 [11:50<59:38, 14.26s/it]  "
          ]
        },
        {
          "output_type": "stream",
          "name": "stdout",
          "text": [
            " 1000... ¡Hecho!\n",
            "GA - Gen 0... 200... 400... 600... 800... 1000... ¡Hecho!\n",
            "dPSO - Iter 0... 200... 400... 600... 800..."
          ]
        },
        {
          "output_type": "stream",
          "name": "stderr",
          "text": [
            "\rMonte Carlo:  17%|█▋        | 50/300 [12:05<59:36, 14.31s/it]"
          ]
        },
        {
          "output_type": "stream",
          "name": "stdout",
          "text": [
            " 1000... ¡Hecho!\n",
            "GA - Gen 0... 200... 400... 600... 800... 1000... ¡Hecho!\n",
            "dPSO - Iter 0... 200... 400... 600... 800..."
          ]
        },
        {
          "output_type": "stream",
          "name": "stderr",
          "text": [
            "\rMonte Carlo:  17%|█▋        | 51/300 [12:19<59:33, 14.35s/it]"
          ]
        },
        {
          "output_type": "stream",
          "name": "stdout",
          "text": [
            " 1000... ¡Hecho!\n",
            "GA - Gen 0... 200... 400... 600... 800... 1000... ¡Hecho!\n",
            "dPSO - Iter 0... 200... 400... 600... 800..."
          ]
        },
        {
          "output_type": "stream",
          "name": "stderr",
          "text": [
            "\rMonte Carlo:  17%|█▋        | 52/300 [12:33<58:49, 14.23s/it]"
          ]
        },
        {
          "output_type": "stream",
          "name": "stdout",
          "text": [
            " 1000... ¡Hecho!\n",
            "GA - Gen 0... 200... 400... 600... 800... 1000... ¡Hecho!\n",
            "dPSO - Iter 0... 200... 400... 600... 800..."
          ]
        },
        {
          "output_type": "stream",
          "name": "stderr",
          "text": [
            "\rMonte Carlo:  18%|█▊        | 53/300 [12:48<59:16, 14.40s/it]"
          ]
        },
        {
          "output_type": "stream",
          "name": "stdout",
          "text": [
            " 1000... ¡Hecho!\n",
            "GA - Gen 0... 200... 400... 600... 800... 1000... ¡Hecho!\n",
            "dPSO - Iter 0... 200... 400... 600... 800..."
          ]
        },
        {
          "output_type": "stream",
          "name": "stderr",
          "text": [
            "\rMonte Carlo:  18%|█▊        | 54/300 [13:03<59:37, 14.54s/it]"
          ]
        },
        {
          "output_type": "stream",
          "name": "stdout",
          "text": [
            " 1000... ¡Hecho!\n",
            "GA - Gen 0... 200... 400... 600... 800... 1000... ¡Hecho!\n",
            "dPSO - Iter 0... 200... 400... 600... 800..."
          ]
        },
        {
          "output_type": "stream",
          "name": "stderr",
          "text": [
            "\rMonte Carlo:  18%|█▊        | 55/300 [13:18<59:58, 14.69s/it]"
          ]
        },
        {
          "output_type": "stream",
          "name": "stdout",
          "text": [
            " 1000... ¡Hecho!\n",
            "GA - Gen 0... 200... 400... 600... 800... 1000... ¡Hecho!\n",
            "dPSO - Iter 0... 200... 400... 600... 800..."
          ]
        },
        {
          "output_type": "stream",
          "name": "stderr",
          "text": [
            "\rMonte Carlo:  19%|█▊        | 56/300 [13:32<58:59, 14.51s/it]"
          ]
        },
        {
          "output_type": "stream",
          "name": "stdout",
          "text": [
            " 1000... ¡Hecho!\n",
            "GA - Gen 0... 200... 400... 600... 800... 1000... ¡Hecho!\n",
            "dPSO - Iter 0... 200... 400... 600... 800..."
          ]
        },
        {
          "output_type": "stream",
          "name": "stderr",
          "text": [
            "\rMonte Carlo:  19%|█▉        | 57/300 [13:47<59:36, 14.72s/it]"
          ]
        },
        {
          "output_type": "stream",
          "name": "stdout",
          "text": [
            " 1000... ¡Hecho!\n",
            "GA - Gen 0... 200... 400... 600... 800... 1000... ¡Hecho!\n",
            "dPSO - Iter 0... 200... 400... 600... 800..."
          ]
        },
        {
          "output_type": "stream",
          "name": "stderr",
          "text": [
            "\rMonte Carlo:  19%|█▉        | 58/300 [14:02<59:43, 14.81s/it]"
          ]
        },
        {
          "output_type": "stream",
          "name": "stdout",
          "text": [
            " 1000... ¡Hecho!\n",
            "GA - Gen 0... 200... 400... 600... 800... 1000... ¡Hecho!\n",
            "dPSO - Iter 0... 200... 400... 600... 800..."
          ]
        },
        {
          "output_type": "stream",
          "name": "stderr",
          "text": [
            "\rMonte Carlo:  20%|█▉        | 59/300 [14:17<58:48, 14.64s/it]"
          ]
        },
        {
          "output_type": "stream",
          "name": "stdout",
          "text": [
            " 1000... ¡Hecho!\n",
            "\n",
            "--- Simulación 60/300 ---\n",
            "GA - Gen 0... 200... 400... 600... 800... 1000... ¡Hecho!\n",
            "dPSO - Iter 0... 200... 400... 600... 800..."
          ]
        },
        {
          "output_type": "stream",
          "name": "stderr",
          "text": [
            "\rMonte Carlo:  20%|██        | 60/300 [14:30<57:30, 14.38s/it]"
          ]
        },
        {
          "output_type": "stream",
          "name": "stdout",
          "text": [
            " 1000... ¡Hecho!\n",
            "GA - Gen 0... 200... 400... 600... 800... 1000... ¡Hecho!\n",
            "dPSO - Iter 0... 200... 400... 600... 800..."
          ]
        },
        {
          "output_type": "stream",
          "name": "stderr",
          "text": [
            "\rMonte Carlo:  20%|██        | 61/300 [14:45<57:17, 14.38s/it]"
          ]
        },
        {
          "output_type": "stream",
          "name": "stdout",
          "text": [
            " 1000... ¡Hecho!\n",
            "GA - Gen 0... 200... 400... 600... 800... 1000... ¡Hecho!\n",
            "dPSO - Iter 0... 200... 400... 600... 800..."
          ]
        },
        {
          "output_type": "stream",
          "name": "stderr",
          "text": [
            "\rMonte Carlo:  21%|██        | 62/300 [14:59<57:19, 14.45s/it]"
          ]
        },
        {
          "output_type": "stream",
          "name": "stdout",
          "text": [
            " 1000... ¡Hecho!\n",
            "GA - Gen 0... 200... 400... 600... 800... 1000... ¡Hecho!\n",
            "dPSO - Iter 0... 200... 400... 600... 800..."
          ]
        },
        {
          "output_type": "stream",
          "name": "stderr",
          "text": [
            "\rMonte Carlo:  21%|██        | 63/300 [15:13<56:09, 14.22s/it]"
          ]
        },
        {
          "output_type": "stream",
          "name": "stdout",
          "text": [
            " 1000... ¡Hecho!\n",
            "GA - Gen 0... 200... 400... 600... 800... 1000... ¡Hecho!\n",
            "dPSO - Iter 0... 200... 400... 600... 800..."
          ]
        },
        {
          "output_type": "stream",
          "name": "stderr",
          "text": [
            "\rMonte Carlo:  21%|██▏       | 64/300 [15:28<57:06, 14.52s/it]"
          ]
        },
        {
          "output_type": "stream",
          "name": "stdout",
          "text": [
            " 1000... ¡Hecho!\n",
            "GA - Gen 0... 200... 400... 600... 800... 1000... ¡Hecho!\n",
            "dPSO - Iter 0... 200... 400... 600... 800..."
          ]
        },
        {
          "output_type": "stream",
          "name": "stderr",
          "text": [
            "\rMonte Carlo:  22%|██▏       | 65/300 [15:43<56:55, 14.53s/it]"
          ]
        },
        {
          "output_type": "stream",
          "name": "stdout",
          "text": [
            " 1000... ¡Hecho!\n",
            "GA - Gen 0... 200... 400... 600... 800... 1000... ¡Hecho!\n",
            "dPSO - Iter 0... 200... 400... 600... 800..."
          ]
        },
        {
          "output_type": "stream",
          "name": "stderr",
          "text": [
            "\rMonte Carlo:  22%|██▏       | 66/300 [15:57<55:52, 14.33s/it]"
          ]
        },
        {
          "output_type": "stream",
          "name": "stdout",
          "text": [
            " 1000... ¡Hecho!\n",
            "GA - Gen 0... 200... 400... 600... 800... 1000... ¡Hecho!\n",
            "dPSO - Iter 0... 200... 400... 600... 800..."
          ]
        },
        {
          "output_type": "stream",
          "name": "stderr",
          "text": [
            "\rMonte Carlo:  22%|██▏       | 67/300 [16:11<55:19, 14.25s/it]"
          ]
        },
        {
          "output_type": "stream",
          "name": "stdout",
          "text": [
            " 1000... ¡Hecho!\n",
            "GA - Gen 0... 200... 400... 600... 800... 1000... ¡Hecho!\n",
            "dPSO - Iter 0... 200... 400... 600... 800..."
          ]
        },
        {
          "output_type": "stream",
          "name": "stderr",
          "text": [
            "\rMonte Carlo:  23%|██▎       | 68/300 [16:25<55:04, 14.24s/it]"
          ]
        },
        {
          "output_type": "stream",
          "name": "stdout",
          "text": [
            " 1000... ¡Hecho!\n",
            "GA - Gen 0... 200... 400... 600... 800... 1000... ¡Hecho!\n",
            "dPSO - Iter 0... 200... 400... 600... 800..."
          ]
        },
        {
          "output_type": "stream",
          "name": "stderr",
          "text": [
            "\rMonte Carlo:  23%|██▎       | 69/300 [16:39<54:13, 14.08s/it]"
          ]
        },
        {
          "output_type": "stream",
          "name": "stdout",
          "text": [
            " 1000... ¡Hecho!\n",
            "GA - Gen 0... 200... 400... 600... 800... 1000... ¡Hecho!\n",
            "dPSO - Iter 0... 200... 400... 600... 800..."
          ]
        },
        {
          "output_type": "stream",
          "name": "stderr",
          "text": [
            "\rMonte Carlo:  23%|██▎       | 70/300 [16:54<55:15, 14.41s/it]"
          ]
        },
        {
          "output_type": "stream",
          "name": "stdout",
          "text": [
            " 1000... ¡Hecho!\n",
            "GA - Gen 0... 200... 400... 600... 800... 1000... ¡Hecho!\n",
            "dPSO - Iter 0... 200... 400... 600... 800..."
          ]
        },
        {
          "output_type": "stream",
          "name": "stderr",
          "text": [
            "\rMonte Carlo:  24%|██▎       | 71/300 [17:08<55:01, 14.42s/it]"
          ]
        },
        {
          "output_type": "stream",
          "name": "stdout",
          "text": [
            " 1000... ¡Hecho!\n",
            "GA - Gen 0... 200... 400... 600... 800... 1000... ¡Hecho!\n",
            "dPSO - Iter 0... 200... 400... 600... 800..."
          ]
        },
        {
          "output_type": "stream",
          "name": "stderr",
          "text": [
            "\rMonte Carlo:  24%|██▍       | 72/300 [17:22<54:15, 14.28s/it]"
          ]
        },
        {
          "output_type": "stream",
          "name": "stdout",
          "text": [
            " 1000... ¡Hecho!\n",
            "GA - Gen 0... 200... 400... 600... 800... 1000... ¡Hecho!\n",
            "dPSO - Iter 0... 200... 400... 600... 800..."
          ]
        },
        {
          "output_type": "stream",
          "name": "stderr",
          "text": [
            "\rMonte Carlo:  24%|██▍       | 73/300 [17:37<54:02, 14.28s/it]"
          ]
        },
        {
          "output_type": "stream",
          "name": "stdout",
          "text": [
            " 1000... ¡Hecho!\n",
            "GA - Gen 0... 200... 400... 600... 800... 1000... ¡Hecho!\n",
            "dPSO - Iter 0... 200... 400... 600... 800..."
          ]
        },
        {
          "output_type": "stream",
          "name": "stderr",
          "text": [
            "\rMonte Carlo:  25%|██▍       | 74/300 [17:51<54:26, 14.45s/it]"
          ]
        },
        {
          "output_type": "stream",
          "name": "stdout",
          "text": [
            " 1000... ¡Hecho!\n",
            "GA - Gen 0... 200... 400... 600... 800... 1000... ¡Hecho!\n",
            "dPSO - Iter 0... 200... 400... 600... 800..."
          ]
        },
        {
          "output_type": "stream",
          "name": "stderr",
          "text": [
            "\rMonte Carlo:  25%|██▌       | 75/300 [18:06<54:46, 14.61s/it]"
          ]
        },
        {
          "output_type": "stream",
          "name": "stdout",
          "text": [
            " 1000... ¡Hecho!\n",
            "GA - Gen 0... 200... 400... 600... 800... 1000... ¡Hecho!\n",
            "dPSO - Iter 0... 200... 400... 600... 800..."
          ]
        },
        {
          "output_type": "stream",
          "name": "stderr",
          "text": [
            "\rMonte Carlo:  25%|██▌       | 76/300 [18:21<54:47, 14.68s/it]"
          ]
        },
        {
          "output_type": "stream",
          "name": "stdout",
          "text": [
            " 1000... ¡Hecho!\n",
            "GA - Gen 0... 200... 400... 600... 800... 1000... ¡Hecho!\n",
            "dPSO - Iter 0... 200... 400... 600... 800..."
          ]
        },
        {
          "output_type": "stream",
          "name": "stderr",
          "text": [
            "\rMonte Carlo:  26%|██▌       | 77/300 [18:36<54:34, 14.69s/it]"
          ]
        },
        {
          "output_type": "stream",
          "name": "stdout",
          "text": [
            " 1000... ¡Hecho!\n",
            "GA - Gen 0... 200... 400... 600... 800... 1000... ¡Hecho!\n",
            "dPSO - Iter 0... 200... 400... 600... 800..."
          ]
        },
        {
          "output_type": "stream",
          "name": "stderr",
          "text": [
            "\rMonte Carlo:  26%|██▌       | 78/300 [18:50<53:55, 14.58s/it]"
          ]
        },
        {
          "output_type": "stream",
          "name": "stdout",
          "text": [
            " 1000... ¡Hecho!\n",
            "GA - Gen 0... 200... 400... 600... 800... 1000... ¡Hecho!\n",
            "dPSO - Iter 0... 200... 400... 600... 800..."
          ]
        },
        {
          "output_type": "stream",
          "name": "stderr",
          "text": [
            "\rMonte Carlo:  26%|██▋       | 79/300 [19:04<53:23, 14.49s/it]"
          ]
        },
        {
          "output_type": "stream",
          "name": "stdout",
          "text": [
            " 1000... ¡Hecho!\n",
            "\n",
            "--- Simulación 80/300 ---\n",
            "GA - Gen 0... 200... 400... 600... 800... 1000... ¡Hecho!\n",
            "dPSO - Iter 0... 200... 400... 600... 800..."
          ]
        },
        {
          "output_type": "stream",
          "name": "stderr",
          "text": [
            "\rMonte Carlo:  27%|██▋       | 80/300 [19:19<53:06, 14.49s/it]"
          ]
        },
        {
          "output_type": "stream",
          "name": "stdout",
          "text": [
            " 1000... ¡Hecho!\n",
            "GA - Gen 0... 200... 400... 600... 800... 1000... ¡Hecho!\n",
            "dPSO - Iter 0... 200... 400... 600... 800..."
          ]
        },
        {
          "output_type": "stream",
          "name": "stderr",
          "text": [
            "\rMonte Carlo:  27%|██▋       | 81/300 [19:34<53:29, 14.66s/it]"
          ]
        },
        {
          "output_type": "stream",
          "name": "stdout",
          "text": [
            " 1000... ¡Hecho!\n",
            "GA - Gen 0... 200... 400... 600... 800... 1000... ¡Hecho!\n",
            "dPSO - Iter 0... 200... 400... 600... 800..."
          ]
        },
        {
          "output_type": "stream",
          "name": "stderr",
          "text": [
            "\rMonte Carlo:  27%|██▋       | 82/300 [19:49<53:14, 14.65s/it]"
          ]
        },
        {
          "output_type": "stream",
          "name": "stdout",
          "text": [
            " 1000... ¡Hecho!\n",
            "GA - Gen 0... 200... 400... 600... 800... 1000... ¡Hecho!\n",
            "dPSO - Iter 0... 200... 400... 600... 800..."
          ]
        },
        {
          "output_type": "stream",
          "name": "stderr",
          "text": [
            "\rMonte Carlo:  28%|██▊       | 83/300 [20:03<52:23, 14.49s/it]"
          ]
        },
        {
          "output_type": "stream",
          "name": "stdout",
          "text": [
            " 1000... ¡Hecho!\n",
            "GA - Gen 0... 200... 400... 600... 800... 1000... ¡Hecho!\n",
            "dPSO - Iter 0... 200... 400... 600... 800..."
          ]
        },
        {
          "output_type": "stream",
          "name": "stderr",
          "text": [
            "\rMonte Carlo:  28%|██▊       | 84/300 [20:18<52:52, 14.69s/it]"
          ]
        },
        {
          "output_type": "stream",
          "name": "stdout",
          "text": [
            " 1000... ¡Hecho!\n",
            "GA - Gen 0... 200... 400... 600... 800... 1000... ¡Hecho!\n",
            "dPSO - Iter 0... 200... 400... 600... 800..."
          ]
        },
        {
          "output_type": "stream",
          "name": "stderr",
          "text": [
            "\rMonte Carlo:  28%|██▊       | 85/300 [20:33<52:57, 14.78s/it]"
          ]
        },
        {
          "output_type": "stream",
          "name": "stdout",
          "text": [
            " 1000... ¡Hecho!\n",
            "GA - Gen 0... 200... 400... 600... 800... 1000... ¡Hecho!\n",
            "dPSO - Iter 0... 200... 400... 600... 800..."
          ]
        },
        {
          "output_type": "stream",
          "name": "stderr",
          "text": [
            "\rMonte Carlo:  29%|██▊       | 86/300 [20:48<52:34, 14.74s/it]"
          ]
        },
        {
          "output_type": "stream",
          "name": "stdout",
          "text": [
            " 1000... ¡Hecho!\n",
            "GA - Gen 0... 200... 400... 600... 800... 1000... ¡Hecho!\n",
            "dPSO - Iter 0... 200... 400... 600... 800..."
          ]
        },
        {
          "output_type": "stream",
          "name": "stderr",
          "text": [
            "\rMonte Carlo:  29%|██▉       | 87/300 [21:01<51:26, 14.49s/it]"
          ]
        },
        {
          "output_type": "stream",
          "name": "stdout",
          "text": [
            " 1000... ¡Hecho!\n",
            "GA - Gen 0... 200... 400... 600... 800... 1000... ¡Hecho!\n",
            "dPSO - Iter 0... 200... 400... 600... 800..."
          ]
        },
        {
          "output_type": "stream",
          "name": "stderr",
          "text": [
            "\rMonte Carlo:  29%|██▉       | 88/300 [21:16<51:20, 14.53s/it]"
          ]
        },
        {
          "output_type": "stream",
          "name": "stdout",
          "text": [
            " 1000... ¡Hecho!\n",
            "GA - Gen 0... 200... 400... 600... 800... 1000... ¡Hecho!\n",
            "dPSO - Iter 0... 200... 400... 600... 800..."
          ]
        },
        {
          "output_type": "stream",
          "name": "stderr",
          "text": [
            "\rMonte Carlo:  30%|██▉       | 89/300 [21:31<51:20, 14.60s/it]"
          ]
        },
        {
          "output_type": "stream",
          "name": "stdout",
          "text": [
            " 1000... ¡Hecho!\n",
            "GA - Gen 0... 200... 400... 600... 800... 1000... ¡Hecho!\n",
            "dPSO - Iter 0... 200... 400... 600... 800..."
          ]
        },
        {
          "output_type": "stream",
          "name": "stderr",
          "text": [
            "\rMonte Carlo:  30%|███       | 90/300 [21:46<51:33, 14.73s/it]"
          ]
        },
        {
          "output_type": "stream",
          "name": "stdout",
          "text": [
            " 1000... ¡Hecho!\n",
            "GA - Gen 0... 200... 400... 600... 800... 1000... ¡Hecho!\n",
            "dPSO - Iter 0... 200... 400... 600... 800..."
          ]
        },
        {
          "output_type": "stream",
          "name": "stderr",
          "text": [
            "\rMonte Carlo:  30%|███       | 91/300 [22:00<51:02, 14.65s/it]"
          ]
        },
        {
          "output_type": "stream",
          "name": "stdout",
          "text": [
            " 1000... ¡Hecho!\n",
            "GA - Gen 0... 200... 400... 600... 800... 1000... ¡Hecho!\n",
            "dPSO - Iter 0... 200... 400... 600... 800..."
          ]
        },
        {
          "output_type": "stream",
          "name": "stderr",
          "text": [
            "\rMonte Carlo:  31%|███       | 92/300 [22:14<50:00, 14.42s/it]"
          ]
        },
        {
          "output_type": "stream",
          "name": "stdout",
          "text": [
            " 1000... ¡Hecho!\n",
            "GA - Gen 0... 200... 400... 600... 800... 1000... ¡Hecho!\n",
            "dPSO - Iter 0... 200... 400... 600... 800..."
          ]
        },
        {
          "output_type": "stream",
          "name": "stderr",
          "text": [
            "\rMonte Carlo:  31%|███       | 93/300 [22:28<49:33, 14.37s/it]"
          ]
        },
        {
          "output_type": "stream",
          "name": "stdout",
          "text": [
            " 1000... ¡Hecho!\n",
            "GA - Gen 0... 200... 400... 600... 800... 1000... ¡Hecho!\n",
            "dPSO - Iter 0... 200... 400... 600... 800..."
          ]
        },
        {
          "output_type": "stream",
          "name": "stderr",
          "text": [
            "\rMonte Carlo:  31%|███▏      | 94/300 [22:43<49:39, 14.46s/it]"
          ]
        },
        {
          "output_type": "stream",
          "name": "stdout",
          "text": [
            " 1000... ¡Hecho!\n",
            "GA - Gen 0... 200... 400... 600... 800... 1000... ¡Hecho!\n",
            "dPSO - Iter 0... 200... 400... 600... 800..."
          ]
        },
        {
          "output_type": "stream",
          "name": "stderr",
          "text": [
            "\rMonte Carlo:  32%|███▏      | 95/300 [22:58<49:19, 14.44s/it]"
          ]
        },
        {
          "output_type": "stream",
          "name": "stdout",
          "text": [
            " 1000... ¡Hecho!\n",
            "GA - Gen 0... 200... 400... 600... 800... 1000... ¡Hecho!\n",
            "dPSO - Iter 0... 200... 400... 600... 800..."
          ]
        },
        {
          "output_type": "stream",
          "name": "stderr",
          "text": [
            "\rMonte Carlo:  32%|███▏      | 96/300 [23:12<49:30, 14.56s/it]"
          ]
        },
        {
          "output_type": "stream",
          "name": "stdout",
          "text": [
            " 1000... ¡Hecho!\n",
            "GA - Gen 0... 200... 400... 600... 800... 1000... ¡Hecho!\n",
            "dPSO - Iter 0... 200... 400... 600... 800..."
          ]
        },
        {
          "output_type": "stream",
          "name": "stderr",
          "text": [
            "\rMonte Carlo:  32%|███▏      | 97/300 [23:27<49:03, 14.50s/it]"
          ]
        },
        {
          "output_type": "stream",
          "name": "stdout",
          "text": [
            " 1000... ¡Hecho!\n",
            "GA - Gen 0... 200... 400... 600... 800... 1000... ¡Hecho!\n",
            "dPSO - Iter 0... 200... 400... 600... 800..."
          ]
        },
        {
          "output_type": "stream",
          "name": "stderr",
          "text": [
            "\rMonte Carlo:  33%|███▎      | 98/300 [23:42<49:04, 14.58s/it]"
          ]
        },
        {
          "output_type": "stream",
          "name": "stdout",
          "text": [
            " 1000... ¡Hecho!\n",
            "GA - Gen 0... 200... 400... 600... 800... 1000... ¡Hecho!\n",
            "dPSO - Iter 0... 200... 400... 600... 800..."
          ]
        },
        {
          "output_type": "stream",
          "name": "stderr",
          "text": [
            "\rMonte Carlo:  33%|███▎      | 99/300 [23:56<49:04, 14.65s/it]"
          ]
        },
        {
          "output_type": "stream",
          "name": "stdout",
          "text": [
            " 1000... ¡Hecho!\n",
            "\n",
            "--- Simulación 100/300 ---\n",
            "GA - Gen 0... 200... 400... 600... 800... 1000... ¡Hecho!\n",
            "dPSO - Iter 0... 200... 400... 600... 800..."
          ]
        },
        {
          "output_type": "stream",
          "name": "stderr",
          "text": [
            "\rMonte Carlo:  33%|███▎      | 100/300 [24:11<48:25, 14.53s/it]"
          ]
        },
        {
          "output_type": "stream",
          "name": "stdout",
          "text": [
            " 1000... ¡Hecho!\n",
            "GA - Gen 0... 200... 400... 600... 800... 1000... ¡Hecho!\n",
            "dPSO - Iter 0... 200... 400... 600... 800..."
          ]
        },
        {
          "output_type": "stream",
          "name": "stderr",
          "text": [
            "\rMonte Carlo:  34%|███▎      | 101/300 [24:25<47:58, 14.47s/it]"
          ]
        },
        {
          "output_type": "stream",
          "name": "stdout",
          "text": [
            " 1000... ¡Hecho!\n",
            "GA - Gen 0... 200... 400... 600... 800... 1000... ¡Hecho!\n",
            "dPSO - Iter 0... 200... 400... 600... 800..."
          ]
        },
        {
          "output_type": "stream",
          "name": "stderr",
          "text": [
            "\rMonte Carlo:  34%|███▍      | 102/300 [24:40<47:56, 14.53s/it]"
          ]
        },
        {
          "output_type": "stream",
          "name": "stdout",
          "text": [
            " 1000... ¡Hecho!\n",
            "GA - Gen 0... 200... 400... 600... 800... 1000... ¡Hecho!\n",
            "dPSO - Iter 0... 200... 400... 600... 800..."
          ]
        },
        {
          "output_type": "stream",
          "name": "stderr",
          "text": [
            "\rMonte Carlo:  34%|███▍      | 103/300 [24:54<47:51, 14.58s/it]"
          ]
        },
        {
          "output_type": "stream",
          "name": "stdout",
          "text": [
            " 1000... ¡Hecho!\n",
            "GA - Gen 0... 200... 400... 600... 800... 1000... ¡Hecho!\n",
            "dPSO - Iter 0... 200... 400... 600... 800..."
          ]
        },
        {
          "output_type": "stream",
          "name": "stderr",
          "text": [
            "\rMonte Carlo:  35%|███▍      | 104/300 [25:09<48:01, 14.70s/it]"
          ]
        },
        {
          "output_type": "stream",
          "name": "stdout",
          "text": [
            " 1000... ¡Hecho!\n",
            "GA - Gen 0... 200... 400... 600... 800... 1000... ¡Hecho!\n",
            "dPSO - Iter 0... 200... 400... 600... 800..."
          ]
        },
        {
          "output_type": "stream",
          "name": "stderr",
          "text": [
            "\rMonte Carlo:  35%|███▌      | 105/300 [25:23<46:54, 14.43s/it]"
          ]
        },
        {
          "output_type": "stream",
          "name": "stdout",
          "text": [
            " 1000... ¡Hecho!\n",
            "GA - Gen 0... 200... 400... 600... 800... 1000... ¡Hecho!\n",
            "dPSO - Iter 0... 200... 400... 600... 800..."
          ]
        },
        {
          "output_type": "stream",
          "name": "stderr",
          "text": [
            "\rMonte Carlo:  35%|███▌      | 106/300 [25:38<46:47, 14.47s/it]"
          ]
        },
        {
          "output_type": "stream",
          "name": "stdout",
          "text": [
            " 1000... ¡Hecho!\n",
            "GA - Gen 0... 200... 400... 600... 800... 1000... ¡Hecho!\n",
            "dPSO - Iter 0... 200... 400... 600... 800..."
          ]
        },
        {
          "output_type": "stream",
          "name": "stderr",
          "text": [
            "\rMonte Carlo:  36%|███▌      | 107/300 [25:53<47:03, 14.63s/it]"
          ]
        },
        {
          "output_type": "stream",
          "name": "stdout",
          "text": [
            " 1000... ¡Hecho!\n",
            "GA - Gen 0... 200... 400... 600... 800... 1000... ¡Hecho!\n",
            "dPSO - Iter 0... 200... 400... 600... 800..."
          ]
        },
        {
          "output_type": "stream",
          "name": "stderr",
          "text": [
            "\rMonte Carlo:  36%|███▌      | 108/300 [26:07<46:22, 14.49s/it]"
          ]
        },
        {
          "output_type": "stream",
          "name": "stdout",
          "text": [
            " 1000... ¡Hecho!\n",
            "GA - Gen 0... 200... 400... 600... 800... 1000... ¡Hecho!\n",
            "dPSO - Iter 0... 200... 400... 600... 800..."
          ]
        },
        {
          "output_type": "stream",
          "name": "stderr",
          "text": [
            "\rMonte Carlo:  36%|███▋      | 109/300 [26:21<46:18, 14.55s/it]"
          ]
        },
        {
          "output_type": "stream",
          "name": "stdout",
          "text": [
            " 1000... ¡Hecho!\n",
            "GA - Gen 0... 200... 400... 600... 800... 1000... ¡Hecho!\n",
            "dPSO - Iter 0... 200... 400... 600... 800..."
          ]
        },
        {
          "output_type": "stream",
          "name": "stderr",
          "text": [
            "\rMonte Carlo:  37%|███▋      | 110/300 [26:35<45:10, 14.26s/it]"
          ]
        },
        {
          "output_type": "stream",
          "name": "stdout",
          "text": [
            " 1000... ¡Hecho!\n",
            "GA - Gen 0... 200... 400... 600... 800... 1000... ¡Hecho!\n",
            "dPSO - Iter 0... 200... 400... 600... 800..."
          ]
        },
        {
          "output_type": "stream",
          "name": "stderr",
          "text": [
            "\rMonte Carlo:  37%|███▋      | 111/300 [26:50<45:20, 14.39s/it]"
          ]
        },
        {
          "output_type": "stream",
          "name": "stdout",
          "text": [
            " 1000... ¡Hecho!\n",
            "GA - Gen 0... 200... 400... 600... 800... 1000... ¡Hecho!\n",
            "dPSO - Iter 0... 200... 400... 600... 800..."
          ]
        },
        {
          "output_type": "stream",
          "name": "stderr",
          "text": [
            "\rMonte Carlo:  37%|███▋      | 112/300 [27:04<45:21, 14.47s/it]"
          ]
        },
        {
          "output_type": "stream",
          "name": "stdout",
          "text": [
            " 1000... ¡Hecho!\n",
            "GA - Gen 0... 200... 400... 600... 800... 1000... ¡Hecho!\n",
            "dPSO - Iter 0... 200... 400... 600... 800..."
          ]
        },
        {
          "output_type": "stream",
          "name": "stderr",
          "text": [
            "\rMonte Carlo:  38%|███▊      | 113/300 [27:19<45:07, 14.48s/it]"
          ]
        },
        {
          "output_type": "stream",
          "name": "stdout",
          "text": [
            " 1000... ¡Hecho!\n",
            "GA - Gen 0... 200... 400... 600... 800... 1000... ¡Hecho!\n",
            "dPSO - Iter 0... 200... 400... 600... 800..."
          ]
        },
        {
          "output_type": "stream",
          "name": "stderr",
          "text": [
            "\rMonte Carlo:  38%|███▊      | 114/300 [27:35<46:03, 14.86s/it]"
          ]
        },
        {
          "output_type": "stream",
          "name": "stdout",
          "text": [
            " 1000... ¡Hecho!\n",
            "GA - Gen 0... 200... 400... 600... 800... 1000... ¡Hecho!\n",
            "dPSO - Iter 0... 200... 400... 600... 800..."
          ]
        },
        {
          "output_type": "stream",
          "name": "stderr",
          "text": [
            "\rMonte Carlo:  38%|███▊      | 115/300 [27:48<44:42, 14.50s/it]"
          ]
        },
        {
          "output_type": "stream",
          "name": "stdout",
          "text": [
            " 1000... ¡Hecho!\n",
            "GA - Gen 0... 200... 400... 600... 800... 1000... ¡Hecho!\n",
            "dPSO - Iter 0... 200... 400... 600... 800..."
          ]
        },
        {
          "output_type": "stream",
          "name": "stderr",
          "text": [
            "\rMonte Carlo:  39%|███▊      | 116/300 [28:02<44:01, 14.36s/it]"
          ]
        },
        {
          "output_type": "stream",
          "name": "stdout",
          "text": [
            " 1000... ¡Hecho!\n",
            "GA - Gen 0... 200... 400... 600... 800... 1000... ¡Hecho!\n",
            "dPSO - Iter 0... 200... 400... 600... 800..."
          ]
        },
        {
          "output_type": "stream",
          "name": "stderr",
          "text": [
            "\rMonte Carlo:  39%|███▉      | 117/300 [28:17<44:03, 14.44s/it]"
          ]
        },
        {
          "output_type": "stream",
          "name": "stdout",
          "text": [
            " 1000... ¡Hecho!\n",
            "GA - Gen 0... 200... 400... 600... 800... 1000... ¡Hecho!\n",
            "dPSO - Iter 0... 200... 400... 600... 800..."
          ]
        },
        {
          "output_type": "stream",
          "name": "stderr",
          "text": [
            "\rMonte Carlo:  39%|███▉      | 118/300 [28:32<44:22, 14.63s/it]"
          ]
        },
        {
          "output_type": "stream",
          "name": "stdout",
          "text": [
            " 1000... ¡Hecho!\n",
            "GA - Gen 0... 200... 400... 600... 800... 1000... ¡Hecho!\n",
            "dPSO - Iter 0... 200... 400... 600... 800..."
          ]
        },
        {
          "output_type": "stream",
          "name": "stderr",
          "text": [
            "\rMonte Carlo:  40%|███▉      | 119/300 [28:47<44:35, 14.78s/it]"
          ]
        },
        {
          "output_type": "stream",
          "name": "stdout",
          "text": [
            " 1000... ¡Hecho!\n",
            "\n",
            "--- Simulación 120/300 ---\n",
            "GA - Gen 0... 200... 400... 600... 800... 1000... ¡Hecho!\n",
            "dPSO - Iter 0... 200... 400... 600... 800..."
          ]
        },
        {
          "output_type": "stream",
          "name": "stderr",
          "text": [
            "\rMonte Carlo:  40%|████      | 120/300 [29:02<44:32, 14.85s/it]"
          ]
        },
        {
          "output_type": "stream",
          "name": "stdout",
          "text": [
            " 1000... ¡Hecho!\n",
            "GA - Gen 0... 200... 400... 600... 800... 1000... ¡Hecho!\n",
            "dPSO - Iter 0... 200... 400... 600... 800..."
          ]
        },
        {
          "output_type": "stream",
          "name": "stderr",
          "text": [
            "\rMonte Carlo:  40%|████      | 121/300 [29:17<44:00, 14.75s/it]"
          ]
        },
        {
          "output_type": "stream",
          "name": "stdout",
          "text": [
            " 1000... ¡Hecho!\n",
            "GA - Gen 0... 200... 400... 600... 800... 1000... ¡Hecho!\n",
            "dPSO - Iter 0... 200... 400... 600... 800..."
          ]
        },
        {
          "output_type": "stream",
          "name": "stderr",
          "text": [
            "\rMonte Carlo:  41%|████      | 122/300 [29:31<43:12, 14.56s/it]"
          ]
        },
        {
          "output_type": "stream",
          "name": "stdout",
          "text": [
            " 1000... ¡Hecho!\n",
            "GA - Gen 0... 200... 400... 600... 800... 1000... ¡Hecho!\n",
            "dPSO - Iter 0... 200... 400... 600... 800..."
          ]
        },
        {
          "output_type": "stream",
          "name": "stderr",
          "text": [
            "\rMonte Carlo:  41%|████      | 123/300 [29:45<42:35, 14.44s/it]"
          ]
        },
        {
          "output_type": "stream",
          "name": "stdout",
          "text": [
            " 1000... ¡Hecho!\n",
            "GA - Gen 0... 200... 400... 600... 800... 1000... ¡Hecho!\n",
            "dPSO - Iter 0... 200... 400... 600... 800..."
          ]
        },
        {
          "output_type": "stream",
          "name": "stderr",
          "text": [
            "\rMonte Carlo:  41%|████▏     | 124/300 [30:00<42:32, 14.50s/it]"
          ]
        },
        {
          "output_type": "stream",
          "name": "stdout",
          "text": [
            " 1000... ¡Hecho!\n",
            "GA - Gen 0... 200... 400... 600... 800... 1000... ¡Hecho!\n",
            "dPSO - Iter 0... 200... 400... 600... 800..."
          ]
        },
        {
          "output_type": "stream",
          "name": "stderr",
          "text": [
            "\rMonte Carlo:  42%|████▏     | 125/300 [30:15<42:55, 14.72s/it]"
          ]
        },
        {
          "output_type": "stream",
          "name": "stdout",
          "text": [
            " 1000... ¡Hecho!\n",
            "GA - Gen 0... 200... 400... 600... 800... 1000... ¡Hecho!\n",
            "dPSO - Iter 0... 200... 400... 600... 800..."
          ]
        },
        {
          "output_type": "stream",
          "name": "stderr",
          "text": [
            "\rMonte Carlo:  42%|████▏     | 126/300 [30:29<42:16, 14.58s/it]"
          ]
        },
        {
          "output_type": "stream",
          "name": "stdout",
          "text": [
            " 1000... ¡Hecho!\n",
            "GA - Gen 0... 200... 400... 600... 800... 1000... ¡Hecho!\n",
            "dPSO - Iter 0... 200... 400... 600... 800..."
          ]
        },
        {
          "output_type": "stream",
          "name": "stderr",
          "text": [
            "\rMonte Carlo:  42%|████▏     | 127/300 [30:44<41:57, 14.55s/it]"
          ]
        },
        {
          "output_type": "stream",
          "name": "stdout",
          "text": [
            " 1000... ¡Hecho!\n",
            "GA - Gen 0... 200... 400... 600... 800... 1000... ¡Hecho!\n",
            "dPSO - Iter 0... 200... 400... 600... 800..."
          ]
        },
        {
          "output_type": "stream",
          "name": "stderr",
          "text": [
            "\rMonte Carlo:  43%|████▎     | 128/300 [30:58<41:51, 14.60s/it]"
          ]
        },
        {
          "output_type": "stream",
          "name": "stdout",
          "text": [
            " 1000... ¡Hecho!\n",
            "GA - Gen 0... 200... 400... 600... 800... 1000... ¡Hecho!\n",
            "dPSO - Iter 0... 200... 400... 600... 800..."
          ]
        },
        {
          "output_type": "stream",
          "name": "stderr",
          "text": [
            "\rMonte Carlo:  43%|████▎     | 129/300 [31:13<41:34, 14.59s/it]"
          ]
        },
        {
          "output_type": "stream",
          "name": "stdout",
          "text": [
            " 1000... ¡Hecho!\n",
            "GA - Gen 0... 200... 400... 600... 800... 1000... ¡Hecho!\n",
            "dPSO - Iter 0... 200... 400... 600... 800..."
          ]
        },
        {
          "output_type": "stream",
          "name": "stderr",
          "text": [
            "\rMonte Carlo:  43%|████▎     | 130/300 [31:27<41:09, 14.52s/it]"
          ]
        },
        {
          "output_type": "stream",
          "name": "stdout",
          "text": [
            " 1000... ¡Hecho!\n",
            "GA - Gen 0... 200... 400... 600... 800... 1000... ¡Hecho!\n",
            "dPSO - Iter 0... 200... 400... 600... 800..."
          ]
        },
        {
          "output_type": "stream",
          "name": "stderr",
          "text": [
            "\rMonte Carlo:  44%|████▎     | 131/300 [31:42<41:31, 14.74s/it]"
          ]
        },
        {
          "output_type": "stream",
          "name": "stdout",
          "text": [
            " 1000... ¡Hecho!\n",
            "GA - Gen 0... 200... 400... 600... 800... 1000... ¡Hecho!\n",
            "dPSO - Iter 0... 200... 400... 600... 800..."
          ]
        },
        {
          "output_type": "stream",
          "name": "stderr",
          "text": [
            "\rMonte Carlo:  44%|████▍     | 132/300 [31:58<41:46, 14.92s/it]"
          ]
        },
        {
          "output_type": "stream",
          "name": "stdout",
          "text": [
            " 1000... ¡Hecho!\n",
            "GA - Gen 0... 200... 400... 600... 800... 1000... ¡Hecho!\n",
            "dPSO - Iter 0... 200... 400... 600... 800..."
          ]
        },
        {
          "output_type": "stream",
          "name": "stderr",
          "text": [
            "\rMonte Carlo:  44%|████▍     | 133/300 [32:12<40:41, 14.62s/it]"
          ]
        },
        {
          "output_type": "stream",
          "name": "stdout",
          "text": [
            " 1000... ¡Hecho!\n",
            "GA - Gen 0... 200... 400... 600... 800... 1000... ¡Hecho!\n",
            "dPSO - Iter 0... 200... 400... 600... 800..."
          ]
        },
        {
          "output_type": "stream",
          "name": "stderr",
          "text": [
            "\rMonte Carlo:  45%|████▍     | 134/300 [32:26<39:51, 14.40s/it]"
          ]
        },
        {
          "output_type": "stream",
          "name": "stdout",
          "text": [
            " 1000... ¡Hecho!\n",
            "GA - Gen 0... 200... 400... 600... 800... 1000... ¡Hecho!\n",
            "dPSO - Iter 0... 200... 400... 600... 800..."
          ]
        },
        {
          "output_type": "stream",
          "name": "stderr",
          "text": [
            "\rMonte Carlo:  45%|████▌     | 135/300 [32:40<39:53, 14.51s/it]"
          ]
        },
        {
          "output_type": "stream",
          "name": "stdout",
          "text": [
            " 1000... ¡Hecho!\n",
            "GA - Gen 0... 200... 400... 600... 800... 1000... ¡Hecho!\n",
            "dPSO - Iter 0... 200... 400... 600... 800..."
          ]
        },
        {
          "output_type": "stream",
          "name": "stderr",
          "text": [
            "\rMonte Carlo:  45%|████▌     | 136/300 [32:55<39:24, 14.42s/it]"
          ]
        },
        {
          "output_type": "stream",
          "name": "stdout",
          "text": [
            " 1000... ¡Hecho!\n",
            "GA - Gen 0... 200... 400... 600... 800... 1000... ¡Hecho!\n",
            "dPSO - Iter 0... 200... 400... 600... 800..."
          ]
        },
        {
          "output_type": "stream",
          "name": "stderr",
          "text": [
            "\rMonte Carlo:  46%|████▌     | 137/300 [33:09<38:54, 14.32s/it]"
          ]
        },
        {
          "output_type": "stream",
          "name": "stdout",
          "text": [
            " 1000... ¡Hecho!\n",
            "GA - Gen 0... 200... 400... 600... 800... 1000... ¡Hecho!\n",
            "dPSO - Iter 0... 200... 400... 600... 800..."
          ]
        },
        {
          "output_type": "stream",
          "name": "stderr",
          "text": [
            "\rMonte Carlo:  46%|████▌     | 138/300 [33:23<38:54, 14.41s/it]"
          ]
        },
        {
          "output_type": "stream",
          "name": "stdout",
          "text": [
            " 1000... ¡Hecho!\n",
            "GA - Gen 0... 200... 400... 600... 800... 1000... ¡Hecho!\n",
            "dPSO - Iter 0... 200... 400... 600... 800..."
          ]
        },
        {
          "output_type": "stream",
          "name": "stderr",
          "text": [
            "\rMonte Carlo:  46%|████▋     | 139/300 [33:37<38:25, 14.32s/it]"
          ]
        },
        {
          "output_type": "stream",
          "name": "stdout",
          "text": [
            " 1000... ¡Hecho!\n",
            "\n",
            "--- Simulación 140/300 ---\n",
            "GA - Gen 0... 200... 400... 600... 800... 1000... ¡Hecho!\n",
            "dPSO - Iter 0... 200... 400... 600... 800..."
          ]
        },
        {
          "output_type": "stream",
          "name": "stderr",
          "text": [
            "\rMonte Carlo:  47%|████▋     | 140/300 [33:53<38:50, 14.57s/it]"
          ]
        },
        {
          "output_type": "stream",
          "name": "stdout",
          "text": [
            " 1000... ¡Hecho!\n",
            "GA - Gen 0... 200... 400... 600... 800... 1000... ¡Hecho!\n",
            "dPSO - Iter 0... 200... 400... 600... 800..."
          ]
        },
        {
          "output_type": "stream",
          "name": "stderr",
          "text": [
            "\rMonte Carlo:  47%|████▋     | 141/300 [34:06<37:49, 14.28s/it]"
          ]
        },
        {
          "output_type": "stream",
          "name": "stdout",
          "text": [
            " 1000... ¡Hecho!\n",
            "GA - Gen 0... 200... 400... 600... 800... 1000... ¡Hecho!\n",
            "dPSO - Iter 0... 200... 400... 600... 800..."
          ]
        },
        {
          "output_type": "stream",
          "name": "stderr",
          "text": [
            "\rMonte Carlo:  47%|████▋     | 142/300 [34:20<37:15, 14.15s/it]"
          ]
        },
        {
          "output_type": "stream",
          "name": "stdout",
          "text": [
            " 1000... ¡Hecho!\n",
            "GA - Gen 0... 200... 400... 600... 800... 1000... ¡Hecho!\n",
            "dPSO - Iter 0... 200... 400... 600... 800..."
          ]
        },
        {
          "output_type": "stream",
          "name": "stderr",
          "text": [
            "\rMonte Carlo:  48%|████▊     | 143/300 [34:34<36:57, 14.13s/it]"
          ]
        },
        {
          "output_type": "stream",
          "name": "stdout",
          "text": [
            " 1000... ¡Hecho!\n",
            "GA - Gen 0... 200... 400... 600... 800... 1000... ¡Hecho!\n",
            "dPSO - Iter 0... 200... 400... 600... 800..."
          ]
        },
        {
          "output_type": "stream",
          "name": "stderr",
          "text": [
            "\rMonte Carlo:  48%|████▊     | 144/300 [34:49<37:25, 14.40s/it]"
          ]
        },
        {
          "output_type": "stream",
          "name": "stdout",
          "text": [
            " 1000... ¡Hecho!\n",
            "GA - Gen 0... 200... 400... 600... 800... 1000... ¡Hecho!\n",
            "dPSO - Iter 0... 200... 400... 600... 800..."
          ]
        },
        {
          "output_type": "stream",
          "name": "stderr",
          "text": [
            "\rMonte Carlo:  48%|████▊     | 145/300 [35:04<37:16, 14.43s/it]"
          ]
        },
        {
          "output_type": "stream",
          "name": "stdout",
          "text": [
            " 1000... ¡Hecho!\n",
            "GA - Gen 0... 200... 400... 600... 800... 1000... ¡Hecho!\n",
            "dPSO - Iter 0... 200... 400... 600... 800..."
          ]
        },
        {
          "output_type": "stream",
          "name": "stderr",
          "text": [
            "\rMonte Carlo:  49%|████▊     | 146/300 [35:18<37:16, 14.52s/it]"
          ]
        },
        {
          "output_type": "stream",
          "name": "stdout",
          "text": [
            " 1000... ¡Hecho!\n",
            "GA - Gen 0... 200... 400... 600... 800... 1000... ¡Hecho!\n",
            "dPSO - Iter 0... 200... 400... 600... 800..."
          ]
        },
        {
          "output_type": "stream",
          "name": "stderr",
          "text": [
            "\rMonte Carlo:  49%|████▉     | 147/300 [35:32<36:39, 14.37s/it]"
          ]
        },
        {
          "output_type": "stream",
          "name": "stdout",
          "text": [
            " 1000... ¡Hecho!\n",
            "GA - Gen 0... 200... 400... 600... 800... 1000... ¡Hecho!\n",
            "dPSO - Iter 0... 200... 400... 600... 800..."
          ]
        },
        {
          "output_type": "stream",
          "name": "stderr",
          "text": [
            "\rMonte Carlo:  49%|████▉     | 148/300 [35:47<36:42, 14.49s/it]"
          ]
        },
        {
          "output_type": "stream",
          "name": "stdout",
          "text": [
            " 1000... ¡Hecho!\n",
            "GA - Gen 0... 200... 400... 600... 800... 1000... ¡Hecho!\n",
            "dPSO - Iter 0... 200... 400... 600... 800..."
          ]
        },
        {
          "output_type": "stream",
          "name": "stderr",
          "text": [
            "\rMonte Carlo:  50%|████▉     | 149/300 [36:02<36:30, 14.51s/it]"
          ]
        },
        {
          "output_type": "stream",
          "name": "stdout",
          "text": [
            " 1000... ¡Hecho!\n",
            "GA - Gen 0... 200... 400... 600... 800... 1000... ¡Hecho!\n",
            "dPSO - Iter 0... 200... 400... 600... 800..."
          ]
        },
        {
          "output_type": "stream",
          "name": "stderr",
          "text": [
            "\rMonte Carlo:  50%|█████     | 150/300 [36:17<36:38, 14.65s/it]"
          ]
        },
        {
          "output_type": "stream",
          "name": "stdout",
          "text": [
            " 1000... ¡Hecho!\n",
            "GA - Gen 0... 200... 400... 600... 800... 1000... ¡Hecho!\n",
            "dPSO - Iter 0... 200... 400... 600... 800..."
          ]
        },
        {
          "output_type": "stream",
          "name": "stderr",
          "text": [
            "\rMonte Carlo:  50%|█████     | 151/300 [36:31<35:45, 14.40s/it]"
          ]
        },
        {
          "output_type": "stream",
          "name": "stdout",
          "text": [
            " 1000... ¡Hecho!\n",
            "GA - Gen 0... 200... 400... 600... 800... 1000... ¡Hecho!\n",
            "dPSO - Iter 0... 200... 400... 600... 800..."
          ]
        },
        {
          "output_type": "stream",
          "name": "stderr",
          "text": [
            "\rMonte Carlo:  51%|█████     | 152/300 [36:46<35:59, 14.59s/it]"
          ]
        },
        {
          "output_type": "stream",
          "name": "stdout",
          "text": [
            " 1000... ¡Hecho!\n",
            "GA - Gen 0... 200... 400... 600... 800... 1000... ¡Hecho!\n",
            "dPSO - Iter 0... 200... 400... 600... 800..."
          ]
        },
        {
          "output_type": "stream",
          "name": "stderr",
          "text": [
            "\rMonte Carlo:  51%|█████     | 153/300 [36:59<35:04, 14.31s/it]"
          ]
        },
        {
          "output_type": "stream",
          "name": "stdout",
          "text": [
            " 1000... ¡Hecho!\n",
            "GA - Gen 0... 200... 400... 600... 800... 1000... ¡Hecho!\n",
            "dPSO - Iter 0... 200... 400... 600... 800..."
          ]
        },
        {
          "output_type": "stream",
          "name": "stderr",
          "text": [
            "\rMonte Carlo:  51%|█████▏    | 154/300 [37:14<34:49, 14.31s/it]"
          ]
        },
        {
          "output_type": "stream",
          "name": "stdout",
          "text": [
            " 1000... ¡Hecho!\n",
            "GA - Gen 0... 200... 400... 600... 800... 1000... ¡Hecho!\n",
            "dPSO - Iter 0... 200... 400... 600... 800..."
          ]
        },
        {
          "output_type": "stream",
          "name": "stderr",
          "text": [
            "\rMonte Carlo:  52%|█████▏    | 155/300 [37:29<35:10, 14.56s/it]"
          ]
        },
        {
          "output_type": "stream",
          "name": "stdout",
          "text": [
            " 1000... ¡Hecho!\n",
            "GA - Gen 0... 200... 400... 600... 800... 1000... ¡Hecho!\n",
            "dPSO - Iter 0... 200... 400... 600... 800..."
          ]
        },
        {
          "output_type": "stream",
          "name": "stderr",
          "text": [
            "\rMonte Carlo:  52%|█████▏    | 156/300 [37:43<35:02, 14.60s/it]"
          ]
        },
        {
          "output_type": "stream",
          "name": "stdout",
          "text": [
            " 1000... ¡Hecho!\n",
            "GA - Gen 0... 200... 400... 600... 800... 1000... ¡Hecho!\n",
            "dPSO - Iter 0... 200... 400... 600... 800..."
          ]
        },
        {
          "output_type": "stream",
          "name": "stderr",
          "text": [
            "\rMonte Carlo:  52%|█████▏    | 157/300 [37:58<35:03, 14.71s/it]"
          ]
        },
        {
          "output_type": "stream",
          "name": "stdout",
          "text": [
            " 1000... ¡Hecho!\n",
            "GA - Gen 0... 200... 400... 600... 800... 1000... ¡Hecho!\n",
            "dPSO - Iter 0... 200... 400... 600... 800..."
          ]
        },
        {
          "output_type": "stream",
          "name": "stderr",
          "text": [
            "\rMonte Carlo:  53%|█████▎    | 158/300 [38:12<34:21, 14.52s/it]"
          ]
        },
        {
          "output_type": "stream",
          "name": "stdout",
          "text": [
            " 1000... ¡Hecho!\n",
            "GA - Gen 0... 200... 400... 600... 800... 1000... ¡Hecho!\n",
            "dPSO - Iter 0... 200... 400... 600... 800..."
          ]
        },
        {
          "output_type": "stream",
          "name": "stderr",
          "text": [
            "\rMonte Carlo:  53%|█████▎    | 159/300 [38:27<33:52, 14.42s/it]"
          ]
        },
        {
          "output_type": "stream",
          "name": "stdout",
          "text": [
            " 1000... ¡Hecho!\n",
            "\n",
            "--- Simulación 160/300 ---\n",
            "GA - Gen 0... 200... 400... 600... 800... 1000... ¡Hecho!\n",
            "dPSO - Iter 0... 200... 400... 600... 800..."
          ]
        },
        {
          "output_type": "stream",
          "name": "stderr",
          "text": [
            "\rMonte Carlo:  53%|█████▎    | 160/300 [38:40<33:16, 14.26s/it]"
          ]
        },
        {
          "output_type": "stream",
          "name": "stdout",
          "text": [
            " 1000... ¡Hecho!\n",
            "GA - Gen 0... 200... 400... 600... 800... 1000... ¡Hecho!\n",
            "dPSO - Iter 0... 200... 400... 600... 800..."
          ]
        },
        {
          "output_type": "stream",
          "name": "stderr",
          "text": [
            "\rMonte Carlo:  54%|█████▎    | 161/300 [38:54<32:47, 14.16s/it]"
          ]
        },
        {
          "output_type": "stream",
          "name": "stdout",
          "text": [
            " 1000... ¡Hecho!\n",
            "GA - Gen 0... 200... 400... 600... 800... 1000... ¡Hecho!\n",
            "dPSO - Iter 0... 200... 400... 600... 800..."
          ]
        },
        {
          "output_type": "stream",
          "name": "stderr",
          "text": [
            "\rMonte Carlo:  54%|█████▍    | 162/300 [39:09<32:36, 14.18s/it]"
          ]
        },
        {
          "output_type": "stream",
          "name": "stdout",
          "text": [
            " 1000... ¡Hecho!\n",
            "GA - Gen 0... 200... 400... 600... 800... 1000... ¡Hecho!\n",
            "dPSO - Iter 0... 200... 400... 600... 800..."
          ]
        },
        {
          "output_type": "stream",
          "name": "stderr",
          "text": [
            "\rMonte Carlo:  54%|█████▍    | 163/300 [39:22<31:45, 13.91s/it]"
          ]
        },
        {
          "output_type": "stream",
          "name": "stdout",
          "text": [
            " 1000... ¡Hecho!\n",
            "GA - Gen 0... 200... 400... 600... 800... 1000... ¡Hecho!\n",
            "dPSO - Iter 0... 200... 400... 600... 800..."
          ]
        },
        {
          "output_type": "stream",
          "name": "stderr",
          "text": [
            "\rMonte Carlo:  55%|█████▍    | 164/300 [39:37<32:03, 14.14s/it]"
          ]
        },
        {
          "output_type": "stream",
          "name": "stdout",
          "text": [
            " 1000... ¡Hecho!\n",
            "GA - Gen 0... 200... 400... 600... 800... 1000... ¡Hecho!\n",
            "dPSO - Iter 0... 200... 400... 600... 800..."
          ]
        },
        {
          "output_type": "stream",
          "name": "stderr",
          "text": [
            "\rMonte Carlo:  55%|█████▌    | 165/300 [39:52<32:22, 14.39s/it]"
          ]
        },
        {
          "output_type": "stream",
          "name": "stdout",
          "text": [
            " 1000... ¡Hecho!\n",
            "GA - Gen 0... 200... 400... 600... 800... 1000... ¡Hecho!\n",
            "dPSO - Iter 0... 200... 400... 600... 800..."
          ]
        },
        {
          "output_type": "stream",
          "name": "stderr",
          "text": [
            "\rMonte Carlo:  55%|█████▌    | 166/300 [40:06<32:18, 14.47s/it]"
          ]
        },
        {
          "output_type": "stream",
          "name": "stdout",
          "text": [
            " 1000... ¡Hecho!\n",
            "GA - Gen 0... 200... 400... 600... 800... 1000... ¡Hecho!\n",
            "dPSO - Iter 0... 200... 400... 600... 800..."
          ]
        },
        {
          "output_type": "stream",
          "name": "stderr",
          "text": [
            "\rMonte Carlo:  56%|█████▌    | 167/300 [40:21<32:22, 14.61s/it]"
          ]
        },
        {
          "output_type": "stream",
          "name": "stdout",
          "text": [
            " 1000... ¡Hecho!\n",
            "GA - Gen 0... 200... 400... 600... 800... 1000... ¡Hecho!\n",
            "dPSO - Iter 0... 200... 400... 600... 800..."
          ]
        },
        {
          "output_type": "stream",
          "name": "stderr",
          "text": [
            "\rMonte Carlo:  56%|█████▌    | 168/300 [40:35<31:52, 14.49s/it]"
          ]
        },
        {
          "output_type": "stream",
          "name": "stdout",
          "text": [
            " 1000... ¡Hecho!\n",
            "GA - Gen 0... 200... 400... 600... 800... 1000... ¡Hecho!\n",
            "dPSO - Iter 0... 200... 400... 600... 800..."
          ]
        },
        {
          "output_type": "stream",
          "name": "stderr",
          "text": [
            "\rMonte Carlo:  56%|█████▋    | 169/300 [40:50<31:33, 14.45s/it]"
          ]
        },
        {
          "output_type": "stream",
          "name": "stdout",
          "text": [
            " 1000... ¡Hecho!\n",
            "GA - Gen 0... 200... 400... 600... 800... 1000... ¡Hecho!\n",
            "dPSO - Iter 0... 200... 400... 600... 800..."
          ]
        },
        {
          "output_type": "stream",
          "name": "stderr",
          "text": [
            "\rMonte Carlo:  57%|█████▋    | 170/300 [41:05<31:53, 14.72s/it]"
          ]
        },
        {
          "output_type": "stream",
          "name": "stdout",
          "text": [
            " 1000... ¡Hecho!\n",
            "GA - Gen 0... 200... 400... 600... 800... 1000... ¡Hecho!\n",
            "dPSO - Iter 0... 200... 400... 600... 800..."
          ]
        },
        {
          "output_type": "stream",
          "name": "stderr",
          "text": [
            "\rMonte Carlo:  57%|█████▋    | 171/300 [41:21<32:11, 14.97s/it]"
          ]
        },
        {
          "output_type": "stream",
          "name": "stdout",
          "text": [
            " 1000... ¡Hecho!\n",
            "GA - Gen 0... 200... 400... 600... 800... 1000... ¡Hecho!\n",
            "dPSO - Iter 0... 200... 400... 600... 800..."
          ]
        },
        {
          "output_type": "stream",
          "name": "stderr",
          "text": [
            "\rMonte Carlo:  57%|█████▋    | 172/300 [41:36<31:54, 14.95s/it]"
          ]
        },
        {
          "output_type": "stream",
          "name": "stdout",
          "text": [
            " 1000... ¡Hecho!\n",
            "GA - Gen 0... 200... 400... 600... 800... 1000... ¡Hecho!\n",
            "dPSO - Iter 0... 200... 400... 600... 800..."
          ]
        },
        {
          "output_type": "stream",
          "name": "stderr",
          "text": [
            "\rMonte Carlo:  58%|█████▊    | 173/300 [41:50<31:02, 14.66s/it]"
          ]
        },
        {
          "output_type": "stream",
          "name": "stdout",
          "text": [
            " 1000... ¡Hecho!\n",
            "GA - Gen 0... 200... 400... 600... 800... 1000... ¡Hecho!\n",
            "dPSO - Iter 0... 200... 400... 600... 800..."
          ]
        },
        {
          "output_type": "stream",
          "name": "stderr",
          "text": [
            "\rMonte Carlo:  58%|█████▊    | 174/300 [42:05<31:01, 14.78s/it]"
          ]
        },
        {
          "output_type": "stream",
          "name": "stdout",
          "text": [
            " 1000... ¡Hecho!\n",
            "GA - Gen 0... 200... 400... 600... 800... 1000... ¡Hecho!\n",
            "dPSO - Iter 0... 200... 400... 600... 800..."
          ]
        },
        {
          "output_type": "stream",
          "name": "stderr",
          "text": [
            "\rMonte Carlo:  58%|█████▊    | 175/300 [42:19<30:30, 14.64s/it]"
          ]
        },
        {
          "output_type": "stream",
          "name": "stdout",
          "text": [
            " 1000... ¡Hecho!\n",
            "GA - Gen 0... 200... 400... 600... 800... 1000... ¡Hecho!\n",
            "dPSO - Iter 0... 200... 400... 600... 800..."
          ]
        },
        {
          "output_type": "stream",
          "name": "stderr",
          "text": [
            "\rMonte Carlo:  59%|█████▊    | 176/300 [42:33<30:11, 14.61s/it]"
          ]
        },
        {
          "output_type": "stream",
          "name": "stdout",
          "text": [
            " 1000... ¡Hecho!\n",
            "GA - Gen 0... 200... 400... 600... 800... 1000... ¡Hecho!\n",
            "dPSO - Iter 0... 200... 400... 600... 800..."
          ]
        },
        {
          "output_type": "stream",
          "name": "stderr",
          "text": [
            "\rMonte Carlo:  59%|█████▉    | 177/300 [42:47<29:31, 14.40s/it]"
          ]
        },
        {
          "output_type": "stream",
          "name": "stdout",
          "text": [
            " 1000... ¡Hecho!\n",
            "GA - Gen 0... 200... 400... 600... 800... 1000... ¡Hecho!\n",
            "dPSO - Iter 0... 200... 400... 600... 800..."
          ]
        },
        {
          "output_type": "stream",
          "name": "stderr",
          "text": [
            "\rMonte Carlo:  59%|█████▉    | 178/300 [43:02<29:36, 14.56s/it]"
          ]
        },
        {
          "output_type": "stream",
          "name": "stdout",
          "text": [
            " 1000... ¡Hecho!\n",
            "GA - Gen 0... 200... 400... 600... 800... 1000... ¡Hecho!\n",
            "dPSO - Iter 0... 200... 400... 600... 800..."
          ]
        },
        {
          "output_type": "stream",
          "name": "stderr",
          "text": [
            "\rMonte Carlo:  60%|█████▉    | 179/300 [43:16<29:06, 14.43s/it]"
          ]
        },
        {
          "output_type": "stream",
          "name": "stdout",
          "text": [
            " 1000... ¡Hecho!\n",
            "\n",
            "--- Simulación 180/300 ---\n",
            "GA - Gen 0... 200... 400... 600... 800... 1000... ¡Hecho!\n",
            "dPSO - Iter 0... 200... 400... 600... 800..."
          ]
        },
        {
          "output_type": "stream",
          "name": "stderr",
          "text": [
            "\rMonte Carlo:  60%|██████    | 180/300 [43:31<28:50, 14.42s/it]"
          ]
        },
        {
          "output_type": "stream",
          "name": "stdout",
          "text": [
            " 1000... ¡Hecho!\n",
            "GA - Gen 0... 200... 400... 600... 800... 1000... ¡Hecho!\n",
            "dPSO - Iter 0... 200... 400... 600... 800..."
          ]
        },
        {
          "output_type": "stream",
          "name": "stderr",
          "text": [
            "\rMonte Carlo:  60%|██████    | 181/300 [43:45<28:27, 14.35s/it]"
          ]
        },
        {
          "output_type": "stream",
          "name": "stdout",
          "text": [
            " 1000... ¡Hecho!\n",
            "GA - Gen 0... 200... 400... 600... 800... 1000... ¡Hecho!\n",
            "dPSO - Iter 0... 200... 400... 600... 800..."
          ]
        },
        {
          "output_type": "stream",
          "name": "stderr",
          "text": [
            "\rMonte Carlo:  61%|██████    | 182/300 [44:00<28:35, 14.54s/it]"
          ]
        },
        {
          "output_type": "stream",
          "name": "stdout",
          "text": [
            " 1000... ¡Hecho!\n",
            "GA - Gen 0... 200... 400... 600... 800... 1000... ¡Hecho!\n",
            "dPSO - Iter 0... 200... 400... 600... 800..."
          ]
        },
        {
          "output_type": "stream",
          "name": "stderr",
          "text": [
            "\rMonte Carlo:  61%|██████    | 183/300 [44:14<28:06, 14.41s/it]"
          ]
        },
        {
          "output_type": "stream",
          "name": "stdout",
          "text": [
            " 1000... ¡Hecho!\n",
            "GA - Gen 0... 200... 400... 600... 800... 1000... ¡Hecho!\n",
            "dPSO - Iter 0... 200... 400... 600... 800..."
          ]
        },
        {
          "output_type": "stream",
          "name": "stderr",
          "text": [
            "\rMonte Carlo:  61%|██████▏   | 184/300 [44:28<27:43, 14.34s/it]"
          ]
        },
        {
          "output_type": "stream",
          "name": "stdout",
          "text": [
            " 1000... ¡Hecho!\n",
            "GA - Gen 0... 200... 400... 600... 800... 1000... ¡Hecho!\n",
            "dPSO - Iter 0... 200... 400... 600... 800..."
          ]
        },
        {
          "output_type": "stream",
          "name": "stderr",
          "text": [
            "\rMonte Carlo:  62%|██████▏   | 185/300 [44:43<27:36, 14.40s/it]"
          ]
        },
        {
          "output_type": "stream",
          "name": "stdout",
          "text": [
            " 1000... ¡Hecho!\n",
            "GA - Gen 0... 200... 400... 600... 800... 1000... ¡Hecho!\n",
            "dPSO - Iter 0... 200... 400... 600... 800..."
          ]
        },
        {
          "output_type": "stream",
          "name": "stderr",
          "text": [
            "\rMonte Carlo:  62%|██████▏   | 186/300 [44:58<27:43, 14.59s/it]"
          ]
        },
        {
          "output_type": "stream",
          "name": "stdout",
          "text": [
            " 1000... ¡Hecho!\n",
            "GA - Gen 0... 200... 400... 600... 800... 1000... ¡Hecho!\n",
            "dPSO - Iter 0... 200... 400... 600... 800..."
          ]
        },
        {
          "output_type": "stream",
          "name": "stderr",
          "text": [
            "\rMonte Carlo:  62%|██████▏   | 187/300 [45:12<27:15, 14.47s/it]"
          ]
        },
        {
          "output_type": "stream",
          "name": "stdout",
          "text": [
            " 1000... ¡Hecho!\n",
            "GA - Gen 0... 200... 400... 600... 800... 1000... ¡Hecho!\n",
            "dPSO - Iter 0... 200... 400... 600... 800..."
          ]
        },
        {
          "output_type": "stream",
          "name": "stderr",
          "text": [
            "\rMonte Carlo:  63%|██████▎   | 188/300 [45:26<26:45, 14.33s/it]"
          ]
        },
        {
          "output_type": "stream",
          "name": "stdout",
          "text": [
            " 1000... ¡Hecho!\n",
            "GA - Gen 0... 200... 400... 600... 800... 1000... ¡Hecho!\n",
            "dPSO - Iter 0... 200... 400... 600... 800..."
          ]
        },
        {
          "output_type": "stream",
          "name": "stderr",
          "text": [
            "\rMonte Carlo:  63%|██████▎   | 189/300 [45:41<26:39, 14.41s/it]"
          ]
        },
        {
          "output_type": "stream",
          "name": "stdout",
          "text": [
            " 1000... ¡Hecho!\n",
            "GA - Gen 0... 200... 400... 600... 800... 1000... ¡Hecho!\n",
            "dPSO - Iter 0... 200... 400... 600... 800..."
          ]
        },
        {
          "output_type": "stream",
          "name": "stderr",
          "text": [
            "\rMonte Carlo:  63%|██████▎   | 190/300 [45:56<26:52, 14.66s/it]"
          ]
        },
        {
          "output_type": "stream",
          "name": "stdout",
          "text": [
            " 1000... ¡Hecho!\n",
            "GA - Gen 0... 200... 400... 600... 800... 1000... ¡Hecho!\n",
            "dPSO - Iter 0... 200... 400... 600... 800..."
          ]
        },
        {
          "output_type": "stream",
          "name": "stderr",
          "text": [
            "\rMonte Carlo:  64%|██████▎   | 191/300 [46:10<26:35, 14.63s/it]"
          ]
        },
        {
          "output_type": "stream",
          "name": "stdout",
          "text": [
            " 1000... ¡Hecho!\n",
            "GA - Gen 0... 200... 400... 600... 800... 1000... ¡Hecho!\n",
            "dPSO - Iter 0... 200... 400... 600... 800..."
          ]
        },
        {
          "output_type": "stream",
          "name": "stderr",
          "text": [
            "\rMonte Carlo:  64%|██████▍   | 192/300 [46:25<26:03, 14.48s/it]"
          ]
        },
        {
          "output_type": "stream",
          "name": "stdout",
          "text": [
            " 1000... ¡Hecho!\n",
            "GA - Gen 0... 200... 400... 600... 800... 1000... ¡Hecho!\n",
            "dPSO - Iter 0... 200... 400... 600... 800..."
          ]
        },
        {
          "output_type": "stream",
          "name": "stderr",
          "text": [
            "\rMonte Carlo:  64%|██████▍   | 193/300 [46:39<26:01, 14.59s/it]"
          ]
        },
        {
          "output_type": "stream",
          "name": "stdout",
          "text": [
            " 1000... ¡Hecho!\n",
            "GA - Gen 0... 200... 400... 600... 800... 1000... ¡Hecho!\n",
            "dPSO - Iter 0... 200... 400... 600... 800..."
          ]
        },
        {
          "output_type": "stream",
          "name": "stderr",
          "text": [
            "\rMonte Carlo:  65%|██████▍   | 194/300 [46:55<26:10, 14.82s/it]"
          ]
        },
        {
          "output_type": "stream",
          "name": "stdout",
          "text": [
            " 1000... ¡Hecho!\n",
            "GA - Gen 0... 200... 400... 600... 800... 1000... ¡Hecho!\n",
            "dPSO - Iter 0... 200... 400... 600... 800..."
          ]
        },
        {
          "output_type": "stream",
          "name": "stderr",
          "text": [
            "\rMonte Carlo:  65%|██████▌   | 195/300 [47:09<25:52, 14.78s/it]"
          ]
        },
        {
          "output_type": "stream",
          "name": "stdout",
          "text": [
            " 1000... ¡Hecho!\n",
            "GA - Gen 0... 200... 400... 600... 800... 1000... ¡Hecho!\n",
            "dPSO - Iter 0... 200... 400... 600... 800..."
          ]
        },
        {
          "output_type": "stream",
          "name": "stderr",
          "text": [
            "\rMonte Carlo:  65%|██████▌   | 196/300 [47:24<25:34, 14.75s/it]"
          ]
        },
        {
          "output_type": "stream",
          "name": "stdout",
          "text": [
            " 1000... ¡Hecho!\n",
            "GA - Gen 0... 200... 400... 600... 800... 1000... ¡Hecho!\n",
            "dPSO - Iter 0... 200... 400... 600... 800..."
          ]
        },
        {
          "output_type": "stream",
          "name": "stderr",
          "text": [
            "\rMonte Carlo:  66%|██████▌   | 197/300 [47:39<25:17, 14.74s/it]"
          ]
        },
        {
          "output_type": "stream",
          "name": "stdout",
          "text": [
            " 1000... ¡Hecho!\n",
            "GA - Gen 0... 200... 400... 600... 800... 1000... ¡Hecho!\n",
            "dPSO - Iter 0... 200... 400... 600... 800..."
          ]
        },
        {
          "output_type": "stream",
          "name": "stderr",
          "text": [
            "\rMonte Carlo:  66%|██████▌   | 198/300 [47:53<24:52, 14.63s/it]"
          ]
        },
        {
          "output_type": "stream",
          "name": "stdout",
          "text": [
            " 1000... ¡Hecho!\n",
            "GA - Gen 0... 200... 400... 600... 800... 1000... ¡Hecho!\n",
            "dPSO - Iter 0... 200... 400... 600... 800..."
          ]
        },
        {
          "output_type": "stream",
          "name": "stderr",
          "text": [
            "\rMonte Carlo:  66%|██████▋   | 199/300 [48:08<24:28, 14.53s/it]"
          ]
        },
        {
          "output_type": "stream",
          "name": "stdout",
          "text": [
            " 1000... ¡Hecho!\n",
            "\n",
            "--- Simulación 200/300 ---\n",
            "GA - Gen 0... 200... 400... 600... 800... 1000... ¡Hecho!\n",
            "dPSO - Iter 0... 200... 400... 600... 800..."
          ]
        },
        {
          "output_type": "stream",
          "name": "stderr",
          "text": [
            "\rMonte Carlo:  67%|██████▋   | 200/300 [48:22<24:06, 14.47s/it]"
          ]
        },
        {
          "output_type": "stream",
          "name": "stdout",
          "text": [
            " 1000... ¡Hecho!\n",
            "GA - Gen 0... 200... 400... 600... 800... 1000... ¡Hecho!\n",
            "dPSO - Iter 0... 200... 400... 600... 800..."
          ]
        },
        {
          "output_type": "stream",
          "name": "stderr",
          "text": [
            "\rMonte Carlo:  67%|██████▋   | 201/300 [48:36<23:39, 14.34s/it]"
          ]
        },
        {
          "output_type": "stream",
          "name": "stdout",
          "text": [
            " 1000... ¡Hecho!\n",
            "GA - Gen 0... 200... 400... 600... 800... 1000... ¡Hecho!\n",
            "dPSO - Iter 0... 200... 400... 600... 800..."
          ]
        },
        {
          "output_type": "stream",
          "name": "stderr",
          "text": [
            "\rMonte Carlo:  67%|██████▋   | 202/300 [48:51<23:34, 14.43s/it]"
          ]
        },
        {
          "output_type": "stream",
          "name": "stdout",
          "text": [
            " 1000... ¡Hecho!\n",
            "GA - Gen 0... 200... 400... 600... 800... 1000... ¡Hecho!\n",
            "dPSO - Iter 0... 200... 400... 600... 800..."
          ]
        },
        {
          "output_type": "stream",
          "name": "stderr",
          "text": [
            "\rMonte Carlo:  68%|██████▊   | 203/300 [49:05<23:10, 14.33s/it]"
          ]
        },
        {
          "output_type": "stream",
          "name": "stdout",
          "text": [
            " 1000... ¡Hecho!\n",
            "GA - Gen 0... 200... 400... 600... 800... 1000... ¡Hecho!\n",
            "dPSO - Iter 0... 200... 400... 600... 800..."
          ]
        },
        {
          "output_type": "stream",
          "name": "stderr",
          "text": [
            "\rMonte Carlo:  68%|██████▊   | 204/300 [49:20<23:17, 14.56s/it]"
          ]
        },
        {
          "output_type": "stream",
          "name": "stdout",
          "text": [
            " 1000... ¡Hecho!\n",
            "GA - Gen 0... 200... 400... 600... 800... 1000... ¡Hecho!\n",
            "dPSO - Iter 0... 200... 400... 600... 800..."
          ]
        },
        {
          "output_type": "stream",
          "name": "stderr",
          "text": [
            "\rMonte Carlo:  68%|██████▊   | 205/300 [49:34<23:00, 14.53s/it]"
          ]
        },
        {
          "output_type": "stream",
          "name": "stdout",
          "text": [
            " 1000... ¡Hecho!\n",
            "GA - Gen 0... 200... 400... 600... 800... 1000... ¡Hecho!\n",
            "dPSO - Iter 0... 200... 400... 600... 800..."
          ]
        },
        {
          "output_type": "stream",
          "name": "stderr",
          "text": [
            "\rMonte Carlo:  69%|██████▊   | 206/300 [49:48<22:27, 14.34s/it]"
          ]
        },
        {
          "output_type": "stream",
          "name": "stdout",
          "text": [
            " 1000... ¡Hecho!\n",
            "GA - Gen 0... 200... 400... 600... 800... 1000... ¡Hecho!\n",
            "dPSO - Iter 0... 200... 400... 600... 800..."
          ]
        },
        {
          "output_type": "stream",
          "name": "stderr",
          "text": [
            "\rMonte Carlo:  69%|██████▉   | 207/300 [50:02<22:02, 14.22s/it]"
          ]
        },
        {
          "output_type": "stream",
          "name": "stdout",
          "text": [
            " 1000... ¡Hecho!\n",
            "GA - Gen 0... 200... 400... 600... 800... 1000... ¡Hecho!\n",
            "dPSO - Iter 0... 200... 400... 600... 800..."
          ]
        },
        {
          "output_type": "stream",
          "name": "stderr",
          "text": [
            "\rMonte Carlo:  69%|██████▉   | 208/300 [50:17<22:18, 14.54s/it]"
          ]
        },
        {
          "output_type": "stream",
          "name": "stdout",
          "text": [
            " 1000... ¡Hecho!\n",
            "GA - Gen 0... 200... 400... 600... 800... 1000... ¡Hecho!\n",
            "dPSO - Iter 0... 200... 400... 600... 800..."
          ]
        },
        {
          "output_type": "stream",
          "name": "stderr",
          "text": [
            "\rMonte Carlo:  70%|██████▉   | 209/300 [50:32<22:02, 14.53s/it]"
          ]
        },
        {
          "output_type": "stream",
          "name": "stdout",
          "text": [
            " 1000... ¡Hecho!\n",
            "GA - Gen 0... 200... 400... 600... 800... 1000... ¡Hecho!\n",
            "dPSO - Iter 0... 200... 400... 600... 800..."
          ]
        },
        {
          "output_type": "stream",
          "name": "stderr",
          "text": [
            "\rMonte Carlo:  70%|███████   | 210/300 [50:46<21:42, 14.47s/it]"
          ]
        },
        {
          "output_type": "stream",
          "name": "stdout",
          "text": [
            " 1000... ¡Hecho!\n",
            "GA - Gen 0... 200... 400... 600... 800... 1000... ¡Hecho!\n",
            "dPSO - Iter 0... 200... 400... 600... 800..."
          ]
        },
        {
          "output_type": "stream",
          "name": "stderr",
          "text": [
            "\rMonte Carlo:  70%|███████   | 211/300 [51:01<21:30, 14.50s/it]"
          ]
        },
        {
          "output_type": "stream",
          "name": "stdout",
          "text": [
            " 1000... ¡Hecho!\n",
            "GA - Gen 0... 200... 400... 600... 800... 1000... ¡Hecho!\n",
            "dPSO - Iter 0... 200... 400... 600... 800..."
          ]
        },
        {
          "output_type": "stream",
          "name": "stderr",
          "text": [
            "\rMonte Carlo:  71%|███████   | 212/300 [51:16<21:46, 14.85s/it]"
          ]
        },
        {
          "output_type": "stream",
          "name": "stdout",
          "text": [
            " 1000... ¡Hecho!\n",
            "GA - Gen 0... 200... 400... 600... 800... 1000... ¡Hecho!\n",
            "dPSO - Iter 0... 200... 400... 600... 800..."
          ]
        },
        {
          "output_type": "stream",
          "name": "stderr",
          "text": [
            "\rMonte Carlo:  71%|███████   | 213/300 [51:31<21:18, 14.69s/it]"
          ]
        },
        {
          "output_type": "stream",
          "name": "stdout",
          "text": [
            " 1000... ¡Hecho!\n",
            "GA - Gen 0... 200... 400... 600... 800... 1000... ¡Hecho!\n",
            "dPSO - Iter 0... 200... 400... 600... 800..."
          ]
        },
        {
          "output_type": "stream",
          "name": "stderr",
          "text": [
            "\rMonte Carlo:  71%|███████▏  | 214/300 [51:45<20:49, 14.53s/it]"
          ]
        },
        {
          "output_type": "stream",
          "name": "stdout",
          "text": [
            " 1000... ¡Hecho!\n",
            "GA - Gen 0... 200... 400... 600... 800... 1000... ¡Hecho!\n",
            "dPSO - Iter 0... 200... 400... 600... 800..."
          ]
        },
        {
          "output_type": "stream",
          "name": "stderr",
          "text": [
            "\rMonte Carlo:  72%|███████▏  | 215/300 [52:00<20:51, 14.72s/it]"
          ]
        },
        {
          "output_type": "stream",
          "name": "stdout",
          "text": [
            " 1000... ¡Hecho!\n",
            "GA - Gen 0... 200... 400... 600... 800... 1000... ¡Hecho!\n",
            "dPSO - Iter 0... 200... 400... 600... 800..."
          ]
        },
        {
          "output_type": "stream",
          "name": "stderr",
          "text": [
            "\rMonte Carlo:  72%|███████▏  | 216/300 [52:14<20:25, 14.58s/it]"
          ]
        },
        {
          "output_type": "stream",
          "name": "stdout",
          "text": [
            " 1000... ¡Hecho!\n",
            "GA - Gen 0... 200... 400... 600... 800... 1000... ¡Hecho!\n",
            "dPSO - Iter 0... 200... 400... 600... 800..."
          ]
        },
        {
          "output_type": "stream",
          "name": "stderr",
          "text": [
            "\rMonte Carlo:  72%|███████▏  | 217/300 [52:29<20:11, 14.60s/it]"
          ]
        },
        {
          "output_type": "stream",
          "name": "stdout",
          "text": [
            " 1000... ¡Hecho!\n",
            "GA - Gen 0... 200... 400... 600... 800... 1000... ¡Hecho!\n",
            "dPSO - Iter 0... 200... 400... 600... 800..."
          ]
        },
        {
          "output_type": "stream",
          "name": "stderr",
          "text": [
            "\rMonte Carlo:  73%|███████▎  | 218/300 [52:44<20:11, 14.77s/it]"
          ]
        },
        {
          "output_type": "stream",
          "name": "stdout",
          "text": [
            " 1000... ¡Hecho!\n",
            "GA - Gen 0... 200... 400... 600... 800... 1000... ¡Hecho!\n",
            "dPSO - Iter 0... 200... 400... 600... 800..."
          ]
        },
        {
          "output_type": "stream",
          "name": "stderr",
          "text": [
            "\rMonte Carlo:  73%|███████▎  | 219/300 [52:59<19:57, 14.79s/it]"
          ]
        },
        {
          "output_type": "stream",
          "name": "stdout",
          "text": [
            " 1000... ¡Hecho!\n",
            "\n",
            "--- Simulación 220/300 ---\n",
            "GA - Gen 0... 200... 400... 600... 800... 1000... ¡Hecho!\n",
            "dPSO - Iter 0... 200... 400... 600... 800..."
          ]
        },
        {
          "output_type": "stream",
          "name": "stderr",
          "text": [
            "\rMonte Carlo:  73%|███████▎  | 220/300 [53:13<19:17, 14.46s/it]"
          ]
        },
        {
          "output_type": "stream",
          "name": "stdout",
          "text": [
            " 1000... ¡Hecho!\n",
            "GA - Gen 0... 200... 400... 600... 800... 1000... ¡Hecho!\n",
            "dPSO - Iter 0... 200... 400... 600... 800..."
          ]
        },
        {
          "output_type": "stream",
          "name": "stderr",
          "text": [
            "\rMonte Carlo:  74%|███████▎  | 221/300 [53:27<18:56, 14.39s/it]"
          ]
        },
        {
          "output_type": "stream",
          "name": "stdout",
          "text": [
            " 1000... ¡Hecho!\n",
            "GA - Gen 0... 200... 400... 600... 800... 1000... ¡Hecho!\n",
            "dPSO - Iter 0... 200... 400... 600... 800..."
          ]
        },
        {
          "output_type": "stream",
          "name": "stderr",
          "text": [
            "\rMonte Carlo:  74%|███████▍  | 222/300 [53:41<18:41, 14.38s/it]"
          ]
        },
        {
          "output_type": "stream",
          "name": "stdout",
          "text": [
            " 1000... ¡Hecho!\n",
            "GA - Gen 0... 200... 400... 600... 800... 1000... ¡Hecho!\n",
            "dPSO - Iter 0... 200... 400... 600... 800..."
          ]
        },
        {
          "output_type": "stream",
          "name": "stderr",
          "text": [
            "\rMonte Carlo:  74%|███████▍  | 223/300 [53:57<18:49, 14.67s/it]"
          ]
        },
        {
          "output_type": "stream",
          "name": "stdout",
          "text": [
            " 1000... ¡Hecho!\n",
            "GA - Gen 0... 200... 400... 600... 800... 1000... ¡Hecho!\n",
            "dPSO - Iter 0... 200... 400... 600... 800..."
          ]
        },
        {
          "output_type": "stream",
          "name": "stderr",
          "text": [
            "\rMonte Carlo:  75%|███████▍  | 224/300 [54:11<18:35, 14.68s/it]"
          ]
        },
        {
          "output_type": "stream",
          "name": "stdout",
          "text": [
            " 1000... ¡Hecho!\n",
            "GA - Gen 0... 200... 400... 600... 800... 1000... ¡Hecho!\n",
            "dPSO - Iter 0... 200... 400... 600... 800..."
          ]
        },
        {
          "output_type": "stream",
          "name": "stderr",
          "text": [
            "\rMonte Carlo:  75%|███████▌  | 225/300 [54:25<18:02, 14.44s/it]"
          ]
        },
        {
          "output_type": "stream",
          "name": "stdout",
          "text": [
            " 1000... ¡Hecho!\n",
            "GA - Gen 0... 200... 400... 600... 800... 1000... ¡Hecho!\n",
            "dPSO - Iter 0... 200... 400... 600... 800..."
          ]
        },
        {
          "output_type": "stream",
          "name": "stderr",
          "text": [
            "\rMonte Carlo:  75%|███████▌  | 226/300 [54:40<17:54, 14.52s/it]"
          ]
        },
        {
          "output_type": "stream",
          "name": "stdout",
          "text": [
            " 1000... ¡Hecho!\n",
            "GA - Gen 0... 200... 400... 600... 800... 1000... ¡Hecho!\n",
            "dPSO - Iter 0... 200... 400... 600... 800..."
          ]
        },
        {
          "output_type": "stream",
          "name": "stderr",
          "text": [
            "\rMonte Carlo:  76%|███████▌  | 227/300 [54:54<17:34, 14.45s/it]"
          ]
        },
        {
          "output_type": "stream",
          "name": "stdout",
          "text": [
            " 1000... ¡Hecho!\n",
            "GA - Gen 0... 200... 400... 600... 800... 1000... ¡Hecho!\n",
            "dPSO - Iter 0... 200... 400... 600... 800..."
          ]
        },
        {
          "output_type": "stream",
          "name": "stderr",
          "text": [
            "\rMonte Carlo:  76%|███████▌  | 228/300 [55:09<17:21, 14.47s/it]"
          ]
        },
        {
          "output_type": "stream",
          "name": "stdout",
          "text": [
            " 1000... ¡Hecho!\n",
            "GA - Gen 0... 200... 400... 600... 800... 1000... ¡Hecho!\n",
            "dPSO - Iter 0... 200... 400... 600... 800..."
          ]
        },
        {
          "output_type": "stream",
          "name": "stderr",
          "text": [
            "\rMonte Carlo:  76%|███████▋  | 229/300 [55:22<16:48, 14.20s/it]"
          ]
        },
        {
          "output_type": "stream",
          "name": "stdout",
          "text": [
            " 1000... ¡Hecho!\n",
            "GA - Gen 0... 200... 400... 600... 800... 1000... ¡Hecho!\n",
            "dPSO - Iter 0... 200... 400... 600... 800..."
          ]
        },
        {
          "output_type": "stream",
          "name": "stderr",
          "text": [
            "\rMonte Carlo:  77%|███████▋  | 230/300 [55:36<16:34, 14.21s/it]"
          ]
        },
        {
          "output_type": "stream",
          "name": "stdout",
          "text": [
            " 1000... ¡Hecho!\n",
            "GA - Gen 0... 200... 400... 600... 800... 1000... ¡Hecho!\n",
            "dPSO - Iter 0... 200... 400... 600... 800..."
          ]
        },
        {
          "output_type": "stream",
          "name": "stderr",
          "text": [
            "\rMonte Carlo:  77%|███████▋  | 231/300 [55:51<16:33, 14.40s/it]"
          ]
        },
        {
          "output_type": "stream",
          "name": "stdout",
          "text": [
            " 1000... ¡Hecho!\n",
            "GA - Gen 0... 200... 400... 600... 800... 1000... ¡Hecho!\n",
            "dPSO - Iter 0... 200... 400... 600... 800..."
          ]
        },
        {
          "output_type": "stream",
          "name": "stderr",
          "text": [
            "\rMonte Carlo:  77%|███████▋  | 232/300 [56:06<16:25, 14.49s/it]"
          ]
        },
        {
          "output_type": "stream",
          "name": "stdout",
          "text": [
            " 1000... ¡Hecho!\n",
            "GA - Gen 0... 200... 400... 600... 800... 1000... ¡Hecho!\n",
            "dPSO - Iter 0... 200... 400... 600... 800..."
          ]
        },
        {
          "output_type": "stream",
          "name": "stderr",
          "text": [
            "\rMonte Carlo:  78%|███████▊  | 233/300 [56:20<16:07, 14.44s/it]"
          ]
        },
        {
          "output_type": "stream",
          "name": "stdout",
          "text": [
            " 1000... ¡Hecho!\n",
            "GA - Gen 0... 200... 400... 600... 800... 1000... ¡Hecho!\n",
            "dPSO - Iter 0... 200... 400... 600... 800..."
          ]
        },
        {
          "output_type": "stream",
          "name": "stderr",
          "text": [
            "\rMonte Carlo:  78%|███████▊  | 234/300 [56:35<15:56, 14.49s/it]"
          ]
        },
        {
          "output_type": "stream",
          "name": "stdout",
          "text": [
            " 1000... ¡Hecho!\n",
            "GA - Gen 0... 200... 400... 600... 800... 1000... ¡Hecho!\n",
            "dPSO - Iter 0... 200... 400... 600... 800..."
          ]
        },
        {
          "output_type": "stream",
          "name": "stderr",
          "text": [
            "\rMonte Carlo:  78%|███████▊  | 235/300 [56:49<15:37, 14.42s/it]"
          ]
        },
        {
          "output_type": "stream",
          "name": "stdout",
          "text": [
            " 1000... ¡Hecho!\n",
            "GA - Gen 0... 200... 400... 600... 800... 1000... ¡Hecho!\n",
            "dPSO - Iter 0... 200... 400... 600... 800..."
          ]
        },
        {
          "output_type": "stream",
          "name": "stderr",
          "text": [
            "\rMonte Carlo:  79%|███████▊  | 236/300 [57:03<15:20, 14.38s/it]"
          ]
        },
        {
          "output_type": "stream",
          "name": "stdout",
          "text": [
            " 1000... ¡Hecho!\n",
            "GA - Gen 0... 200... 400... 600... 800... 1000... ¡Hecho!\n",
            "dPSO - Iter 0... 200... 400... 600... 800..."
          ]
        },
        {
          "output_type": "stream",
          "name": "stderr",
          "text": [
            "\rMonte Carlo:  79%|███████▉  | 237/300 [57:18<15:02, 14.32s/it]"
          ]
        },
        {
          "output_type": "stream",
          "name": "stdout",
          "text": [
            " 1000... ¡Hecho!\n",
            "GA - Gen 0... 200... 400... 600... 800... 1000... ¡Hecho!\n",
            "dPSO - Iter 0... 200... 400... 600... 800..."
          ]
        },
        {
          "output_type": "stream",
          "name": "stderr",
          "text": [
            "\rMonte Carlo:  79%|███████▉  | 238/300 [57:33<14:59, 14.52s/it]"
          ]
        },
        {
          "output_type": "stream",
          "name": "stdout",
          "text": [
            " 1000... ¡Hecho!\n",
            "GA - Gen 0... 200... 400... 600... 800... 1000... ¡Hecho!\n",
            "dPSO - Iter 0... 200... 400... 600... 800..."
          ]
        },
        {
          "output_type": "stream",
          "name": "stderr",
          "text": [
            "\rMonte Carlo:  80%|███████▉  | 239/300 [57:47<14:46, 14.53s/it]"
          ]
        },
        {
          "output_type": "stream",
          "name": "stdout",
          "text": [
            " 1000... ¡Hecho!\n",
            "\n",
            "--- Simulación 240/300 ---\n",
            "GA - Gen 0... 200... 400... 600... 800... 1000... ¡Hecho!\n",
            "dPSO - Iter 0... 200... 400... 600... 800..."
          ]
        },
        {
          "output_type": "stream",
          "name": "stderr",
          "text": [
            "\rMonte Carlo:  80%|████████  | 240/300 [58:01<14:26, 14.44s/it]"
          ]
        },
        {
          "output_type": "stream",
          "name": "stdout",
          "text": [
            " 1000... ¡Hecho!\n",
            "GA - Gen 0... 200... 400... 600... 800... 1000... ¡Hecho!\n",
            "dPSO - Iter 0... 200... 400... 600... 800..."
          ]
        },
        {
          "output_type": "stream",
          "name": "stderr",
          "text": [
            "\rMonte Carlo:  80%|████████  | 241/300 [58:16<14:11, 14.43s/it]"
          ]
        },
        {
          "output_type": "stream",
          "name": "stdout",
          "text": [
            " 1000... ¡Hecho!\n",
            "GA - Gen 0... 200... 400... 600... 800... 1000... ¡Hecho!\n",
            "dPSO - Iter 0... 200... 400... 600... 800..."
          ]
        },
        {
          "output_type": "stream",
          "name": "stderr",
          "text": [
            "\rMonte Carlo:  81%|████████  | 242/300 [58:32<14:19, 14.82s/it]"
          ]
        },
        {
          "output_type": "stream",
          "name": "stdout",
          "text": [
            " 1000... ¡Hecho!\n",
            "GA - Gen 0... 200... 400... 600... 800... 1000... ¡Hecho!\n",
            "dPSO - Iter 0... 200... 400... 600... 800..."
          ]
        },
        {
          "output_type": "stream",
          "name": "stderr",
          "text": [
            "\rMonte Carlo:  81%|████████  | 243/300 [58:46<13:58, 14.70s/it]"
          ]
        },
        {
          "output_type": "stream",
          "name": "stdout",
          "text": [
            " 1000... ¡Hecho!\n",
            "GA - Gen 0... 200... 400... 600... 800... 1000... ¡Hecho!\n",
            "dPSO - Iter 0... 200... 400... 600... 800..."
          ]
        },
        {
          "output_type": "stream",
          "name": "stderr",
          "text": [
            "\rMonte Carlo:  81%|████████▏ | 244/300 [59:00<13:34, 14.54s/it]"
          ]
        },
        {
          "output_type": "stream",
          "name": "stdout",
          "text": [
            " 1000... ¡Hecho!\n",
            "GA - Gen 0... 200... 400... 600... 800... 1000... ¡Hecho!\n",
            "dPSO - Iter 0... 200... 400... 600... 800..."
          ]
        },
        {
          "output_type": "stream",
          "name": "stderr",
          "text": [
            "\rMonte Carlo:  82%|████████▏ | 245/300 [59:15<13:17, 14.51s/it]"
          ]
        },
        {
          "output_type": "stream",
          "name": "stdout",
          "text": [
            " 1000... ¡Hecho!\n",
            "GA - Gen 0... 200... 400... 600... 800... 1000... ¡Hecho!\n",
            "dPSO - Iter 0... 200... 400... 600... 800..."
          ]
        },
        {
          "output_type": "stream",
          "name": "stderr",
          "text": [
            "\rMonte Carlo:  82%|████████▏ | 246/300 [59:29<12:58, 14.42s/it]"
          ]
        },
        {
          "output_type": "stream",
          "name": "stdout",
          "text": [
            " 1000... ¡Hecho!\n",
            "GA - Gen 0... 200... 400... 600... 800... 1000... ¡Hecho!\n",
            "dPSO - Iter 0... 200... 400... 600... 800..."
          ]
        },
        {
          "output_type": "stream",
          "name": "stderr",
          "text": [
            "\rMonte Carlo:  82%|████████▏ | 247/300 [59:42<12:31, 14.18s/it]"
          ]
        },
        {
          "output_type": "stream",
          "name": "stdout",
          "text": [
            " 1000... ¡Hecho!\n",
            "GA - Gen 0... 200... 400... 600... 800... 1000... ¡Hecho!\n",
            "dPSO - Iter 0... 200... 400... 600... 800..."
          ]
        },
        {
          "output_type": "stream",
          "name": "stderr",
          "text": [
            "\rMonte Carlo:  83%|████████▎ | 248/300 [59:57<12:20, 14.23s/it]"
          ]
        },
        {
          "output_type": "stream",
          "name": "stdout",
          "text": [
            " 1000... ¡Hecho!\n",
            "GA - Gen 0... 200... 400... 600... 800... 1000... ¡Hecho!\n",
            "dPSO - Iter 0... 200... 400... 600... 800..."
          ]
        },
        {
          "output_type": "stream",
          "name": "stderr",
          "text": [
            "\rMonte Carlo:  83%|████████▎ | 249/300 [1:00:11<12:02, 14.17s/it]"
          ]
        },
        {
          "output_type": "stream",
          "name": "stdout",
          "text": [
            " 1000... ¡Hecho!\n",
            "GA - Gen 0... 200... 400... 600... 800... 1000... ¡Hecho!\n",
            "dPSO - Iter 0... 200... 400... 600... 800..."
          ]
        },
        {
          "output_type": "stream",
          "name": "stderr",
          "text": [
            "\rMonte Carlo:  83%|████████▎ | 250/300 [1:00:26<11:58, 14.37s/it]"
          ]
        },
        {
          "output_type": "stream",
          "name": "stdout",
          "text": [
            " 1000... ¡Hecho!\n",
            "GA - Gen 0... 200... 400... 600... 800... 1000... ¡Hecho!\n",
            "dPSO - Iter 0... 200... 400... 600... 800..."
          ]
        },
        {
          "output_type": "stream",
          "name": "stderr",
          "text": [
            "\rMonte Carlo:  84%|████████▎ | 251/300 [1:00:40<11:37, 14.24s/it]"
          ]
        },
        {
          "output_type": "stream",
          "name": "stdout",
          "text": [
            " 1000... ¡Hecho!\n",
            "GA - Gen 0... 200... 400... 600... 800... 1000... ¡Hecho!\n",
            "dPSO - Iter 0... 200... 400... 600... 800..."
          ]
        },
        {
          "output_type": "stream",
          "name": "stderr",
          "text": [
            "\rMonte Carlo:  84%|████████▍ | 252/300 [1:00:54<11:33, 14.45s/it]"
          ]
        },
        {
          "output_type": "stream",
          "name": "stdout",
          "text": [
            " 1000... ¡Hecho!\n",
            "GA - Gen 0... 200... 400... 600... 800... 1000... ¡Hecho!\n",
            "dPSO - Iter 0... 200... 400... 600... 800..."
          ]
        },
        {
          "output_type": "stream",
          "name": "stderr",
          "text": [
            "\rMonte Carlo:  84%|████████▍ | 253/300 [1:01:08<11:08, 14.23s/it]"
          ]
        },
        {
          "output_type": "stream",
          "name": "stdout",
          "text": [
            " 1000... ¡Hecho!\n",
            "GA - Gen 0... 200... 400... 600... 800... 1000... ¡Hecho!\n",
            "dPSO - Iter 0... 200... 400... 600... 800..."
          ]
        },
        {
          "output_type": "stream",
          "name": "stderr",
          "text": [
            "\rMonte Carlo:  85%|████████▍ | 254/300 [1:01:24<11:12, 14.62s/it]"
          ]
        },
        {
          "output_type": "stream",
          "name": "stdout",
          "text": [
            " 1000... ¡Hecho!\n",
            "GA - Gen 0... 200... 400... 600... 800... 1000... ¡Hecho!\n",
            "dPSO - Iter 0... 200... 400... 600... 800..."
          ]
        },
        {
          "output_type": "stream",
          "name": "stderr",
          "text": [
            "\rMonte Carlo:  85%|████████▌ | 255/300 [1:01:38<10:54, 14.55s/it]"
          ]
        },
        {
          "output_type": "stream",
          "name": "stdout",
          "text": [
            " 1000... ¡Hecho!\n",
            "GA - Gen 0... 200... 400... 600... 800... 1000... ¡Hecho!\n",
            "dPSO - Iter 0... 200... 400... 600... 800..."
          ]
        },
        {
          "output_type": "stream",
          "name": "stderr",
          "text": [
            "\rMonte Carlo:  85%|████████▌ | 256/300 [1:01:52<10:32, 14.37s/it]"
          ]
        },
        {
          "output_type": "stream",
          "name": "stdout",
          "text": [
            " 1000... ¡Hecho!\n",
            "GA - Gen 0... 200... 400... 600... 800... 1000... ¡Hecho!\n",
            "dPSO - Iter 0... 200... 400... 600... 800..."
          ]
        },
        {
          "output_type": "stream",
          "name": "stderr",
          "text": [
            "\rMonte Carlo:  86%|████████▌ | 257/300 [1:02:06<10:18, 14.38s/it]"
          ]
        },
        {
          "output_type": "stream",
          "name": "stdout",
          "text": [
            " 1000... ¡Hecho!\n",
            "GA - Gen 0... 200... 400... 600... 800... 1000... ¡Hecho!\n",
            "dPSO - Iter 0... 200... 400... 600... 800..."
          ]
        },
        {
          "output_type": "stream",
          "name": "stderr",
          "text": [
            "\rMonte Carlo:  86%|████████▌ | 258/300 [1:02:21<10:11, 14.57s/it]"
          ]
        },
        {
          "output_type": "stream",
          "name": "stdout",
          "text": [
            " 1000... ¡Hecho!\n",
            "GA - Gen 0... 200... 400... 600... 800... 1000... ¡Hecho!\n",
            "dPSO - Iter 0... 200... 400... 600... 800..."
          ]
        },
        {
          "output_type": "stream",
          "name": "stderr",
          "text": [
            "\rMonte Carlo:  86%|████████▋ | 259/300 [1:02:36<09:58, 14.59s/it]"
          ]
        },
        {
          "output_type": "stream",
          "name": "stdout",
          "text": [
            " 1000... ¡Hecho!\n",
            "\n",
            "--- Simulación 260/300 ---\n",
            "GA - Gen 0... 200... 400... 600... 800... 1000... ¡Hecho!\n",
            "dPSO - Iter 0... 200... 400... 600... 800..."
          ]
        },
        {
          "output_type": "stream",
          "name": "stderr",
          "text": [
            "\rMonte Carlo:  87%|████████▋ | 260/300 [1:02:50<09:39, 14.49s/it]"
          ]
        },
        {
          "output_type": "stream",
          "name": "stdout",
          "text": [
            " 1000... ¡Hecho!\n",
            "GA - Gen 0... 200... 400... 600... 800... 1000... ¡Hecho!\n",
            "dPSO - Iter 0... 200... 400... 600... 800..."
          ]
        },
        {
          "output_type": "stream",
          "name": "stderr",
          "text": [
            "\rMonte Carlo:  87%|████████▋ | 261/300 [1:03:05<09:29, 14.61s/it]"
          ]
        },
        {
          "output_type": "stream",
          "name": "stdout",
          "text": [
            " 1000... ¡Hecho!\n",
            "GA - Gen 0... 200... 400... 600... 800... 1000... ¡Hecho!\n",
            "dPSO - Iter 0... 200... 400... 600... 800..."
          ]
        },
        {
          "output_type": "stream",
          "name": "stderr",
          "text": [
            "\rMonte Carlo:  87%|████████▋ | 262/300 [1:03:20<09:10, 14.50s/it]"
          ]
        },
        {
          "output_type": "stream",
          "name": "stdout",
          "text": [
            " 1000... ¡Hecho!\n",
            "GA - Gen 0... 200... 400... 600... 800... 1000... ¡Hecho!\n",
            "dPSO - Iter 0... 200... 400... 600... 800..."
          ]
        },
        {
          "output_type": "stream",
          "name": "stderr",
          "text": [
            "\rMonte Carlo:  88%|████████▊ | 263/300 [1:03:34<08:57, 14.51s/it]"
          ]
        },
        {
          "output_type": "stream",
          "name": "stdout",
          "text": [
            " 1000... ¡Hecho!\n",
            "GA - Gen 0... 200... 400... 600... 800... 1000... ¡Hecho!\n",
            "dPSO - Iter 0... 200... 400... 600... 800..."
          ]
        },
        {
          "output_type": "stream",
          "name": "stderr",
          "text": [
            "\rMonte Carlo:  88%|████████▊ | 264/300 [1:03:49<08:45, 14.59s/it]"
          ]
        },
        {
          "output_type": "stream",
          "name": "stdout",
          "text": [
            " 1000... ¡Hecho!\n",
            "GA - Gen 0... 200... 400... 600... 800... 1000... ¡Hecho!\n",
            "dPSO - Iter 0... 200... 400... 600... 800..."
          ]
        },
        {
          "output_type": "stream",
          "name": "stderr",
          "text": [
            "\rMonte Carlo:  88%|████████▊ | 265/300 [1:04:04<08:37, 14.78s/it]"
          ]
        },
        {
          "output_type": "stream",
          "name": "stdout",
          "text": [
            " 1000... ¡Hecho!\n",
            "GA - Gen 0... 200... 400... 600... 800... 1000... ¡Hecho!\n",
            "dPSO - Iter 0... 200... 400... 600... 800..."
          ]
        },
        {
          "output_type": "stream",
          "name": "stderr",
          "text": [
            "\rMonte Carlo:  89%|████████▊ | 266/300 [1:04:18<08:14, 14.53s/it]"
          ]
        },
        {
          "output_type": "stream",
          "name": "stdout",
          "text": [
            " 1000... ¡Hecho!\n",
            "GA - Gen 0... 200... 400... 600... 800... 1000... ¡Hecho!\n",
            "dPSO - Iter 0... 200... 400... 600... 800..."
          ]
        },
        {
          "output_type": "stream",
          "name": "stderr",
          "text": [
            "\rMonte Carlo:  89%|████████▉ | 267/300 [1:04:33<08:02, 14.62s/it]"
          ]
        },
        {
          "output_type": "stream",
          "name": "stdout",
          "text": [
            " 1000... ¡Hecho!\n",
            "GA - Gen 0... 200... 400... 600... 800... 1000... ¡Hecho!\n",
            "dPSO - Iter 0... 200... 400... 600... 800..."
          ]
        },
        {
          "output_type": "stream",
          "name": "stderr",
          "text": [
            "\rMonte Carlo:  89%|████████▉ | 268/300 [1:04:48<07:48, 14.66s/it]"
          ]
        },
        {
          "output_type": "stream",
          "name": "stdout",
          "text": [
            " 1000... ¡Hecho!\n",
            "GA - Gen 0... 200... 400... 600... 800... 1000... ¡Hecho!\n",
            "dPSO - Iter 0... 200... 400... 600... 800..."
          ]
        },
        {
          "output_type": "stream",
          "name": "stderr",
          "text": [
            "\rMonte Carlo:  90%|████████▉ | 269/300 [1:05:02<07:28, 14.48s/it]"
          ]
        },
        {
          "output_type": "stream",
          "name": "stdout",
          "text": [
            " 1000... ¡Hecho!\n",
            "GA - Gen 0... 200... 400... 600... 800... 1000... ¡Hecho!\n",
            "dPSO - Iter 0... 200... 400... 600... 800..."
          ]
        },
        {
          "output_type": "stream",
          "name": "stderr",
          "text": [
            "\rMonte Carlo:  90%|█████████ | 270/300 [1:05:16<07:16, 14.53s/it]"
          ]
        },
        {
          "output_type": "stream",
          "name": "stdout",
          "text": [
            " 1000... ¡Hecho!\n",
            "GA - Gen 0... 200... 400... 600... 800... 1000... ¡Hecho!\n",
            "dPSO - Iter 0... 200... 400... 600... 800..."
          ]
        },
        {
          "output_type": "stream",
          "name": "stderr",
          "text": [
            "\rMonte Carlo:  90%|█████████ | 271/300 [1:05:31<06:59, 14.47s/it]"
          ]
        },
        {
          "output_type": "stream",
          "name": "stdout",
          "text": [
            " 1000... ¡Hecho!\n",
            "GA - Gen 0... 200... 400... 600... 800... 1000... ¡Hecho!\n",
            "dPSO - Iter 0... 200... 400... 600... 800..."
          ]
        },
        {
          "output_type": "stream",
          "name": "stderr",
          "text": [
            "\rMonte Carlo:  91%|█████████ | 272/300 [1:05:46<06:50, 14.65s/it]"
          ]
        },
        {
          "output_type": "stream",
          "name": "stdout",
          "text": [
            " 1000... ¡Hecho!\n",
            "GA - Gen 0... 200... 400... 600... 800... 1000... ¡Hecho!\n",
            "dPSO - Iter 0... 200... 400... 600... 800..."
          ]
        },
        {
          "output_type": "stream",
          "name": "stderr",
          "text": [
            "\rMonte Carlo:  91%|█████████ | 273/300 [1:06:00<06:35, 14.65s/it]"
          ]
        },
        {
          "output_type": "stream",
          "name": "stdout",
          "text": [
            " 1000... ¡Hecho!\n",
            "GA - Gen 0... 200... 400... 600... 800... 1000... ¡Hecho!\n",
            "dPSO - Iter 0... 200... 400... 600... 800..."
          ]
        },
        {
          "output_type": "stream",
          "name": "stderr",
          "text": [
            "\rMonte Carlo:  91%|█████████▏| 274/300 [1:06:15<06:22, 14.70s/it]"
          ]
        },
        {
          "output_type": "stream",
          "name": "stdout",
          "text": [
            " 1000... ¡Hecho!\n",
            "GA - Gen 0... 200... 400... 600... 800... 1000... ¡Hecho!\n",
            "dPSO - Iter 0... 200... 400... 600... 800..."
          ]
        },
        {
          "output_type": "stream",
          "name": "stderr",
          "text": [
            "\rMonte Carlo:  92%|█████████▏| 275/300 [1:06:30<06:07, 14.71s/it]"
          ]
        },
        {
          "output_type": "stream",
          "name": "stdout",
          "text": [
            " 1000... ¡Hecho!\n",
            "GA - Gen 0... 200... 400... 600... 800... 1000... ¡Hecho!\n",
            "dPSO - Iter 0... 200... 400... 600... 800..."
          ]
        },
        {
          "output_type": "stream",
          "name": "stderr",
          "text": [
            "\rMonte Carlo:  92%|█████████▏| 276/300 [1:06:45<05:53, 14.72s/it]"
          ]
        },
        {
          "output_type": "stream",
          "name": "stdout",
          "text": [
            " 1000... ¡Hecho!\n",
            "GA - Gen 0... 200... 400... 600... 800... 1000... ¡Hecho!\n",
            "dPSO - Iter 0... 200... 400... 600... 800..."
          ]
        },
        {
          "output_type": "stream",
          "name": "stderr",
          "text": [
            "\rMonte Carlo:  92%|█████████▏| 277/300 [1:06:59<05:38, 14.74s/it]"
          ]
        },
        {
          "output_type": "stream",
          "name": "stdout",
          "text": [
            " 1000... ¡Hecho!\n",
            "GA - Gen 0... 200... 400... 600... 800... 1000... ¡Hecho!\n",
            "dPSO - Iter 0... 200... 400... 600... 800..."
          ]
        },
        {
          "output_type": "stream",
          "name": "stderr",
          "text": [
            "\rMonte Carlo:  93%|█████████▎| 278/300 [1:07:14<05:21, 14.62s/it]"
          ]
        },
        {
          "output_type": "stream",
          "name": "stdout",
          "text": [
            " 1000... ¡Hecho!\n",
            "GA - Gen 0... 200... 400... 600... 800... 1000... ¡Hecho!\n",
            "dPSO - Iter 0... 200... 400... 600... 800..."
          ]
        },
        {
          "output_type": "stream",
          "name": "stderr",
          "text": [
            "\rMonte Carlo:  93%|█████████▎| 279/300 [1:07:29<05:13, 14.94s/it]"
          ]
        },
        {
          "output_type": "stream",
          "name": "stdout",
          "text": [
            " 1000... ¡Hecho!\n",
            "\n",
            "--- Simulación 280/300 ---\n",
            "GA - Gen 0... 200... 400... 600... 800... 1000... ¡Hecho!\n",
            "dPSO - Iter 0... 200... 400... 600... 800..."
          ]
        },
        {
          "output_type": "stream",
          "name": "stderr",
          "text": [
            "\rMonte Carlo:  93%|█████████▎| 280/300 [1:07:44<04:58, 14.91s/it]"
          ]
        },
        {
          "output_type": "stream",
          "name": "stdout",
          "text": [
            " 1000... ¡Hecho!\n",
            "GA - Gen 0... 200... 400... 600... 800... 1000... ¡Hecho!\n",
            "dPSO - Iter 0... 200... 400... 600... 800..."
          ]
        },
        {
          "output_type": "stream",
          "name": "stderr",
          "text": [
            "\rMonte Carlo:  94%|█████████▎| 281/300 [1:07:59<04:39, 14.73s/it]"
          ]
        },
        {
          "output_type": "stream",
          "name": "stdout",
          "text": [
            " 1000... ¡Hecho!\n",
            "GA - Gen 0... 200... 400... 600... 800... 1000... ¡Hecho!\n",
            "dPSO - Iter 0... 200... 400... 600... 800..."
          ]
        },
        {
          "output_type": "stream",
          "name": "stderr",
          "text": [
            "\rMonte Carlo:  94%|█████████▍| 282/300 [1:08:14<04:30, 15.04s/it]"
          ]
        },
        {
          "output_type": "stream",
          "name": "stdout",
          "text": [
            " 1000... ¡Hecho!\n",
            "GA - Gen 0... 200... 400... 600... 800... 1000... ¡Hecho!\n",
            "dPSO - Iter 0... 200... 400... 600... 800..."
          ]
        },
        {
          "output_type": "stream",
          "name": "stderr",
          "text": [
            "\rMonte Carlo:  94%|█████████▍| 283/300 [1:08:29<04:14, 14.99s/it]"
          ]
        },
        {
          "output_type": "stream",
          "name": "stdout",
          "text": [
            " 1000... ¡Hecho!\n",
            "GA - Gen 0... 200... 400... 600... 800... 1000... ¡Hecho!\n",
            "dPSO - Iter 0... 200... 400... 600... 800..."
          ]
        },
        {
          "output_type": "stream",
          "name": "stderr",
          "text": [
            "\rMonte Carlo:  95%|█████████▍| 284/300 [1:08:44<03:57, 14.85s/it]"
          ]
        },
        {
          "output_type": "stream",
          "name": "stdout",
          "text": [
            " 1000... ¡Hecho!\n",
            "GA - Gen 0... 200... 400... 600... 800... 1000... ¡Hecho!\n",
            "dPSO - Iter 0... 200... 400... 600... 800..."
          ]
        },
        {
          "output_type": "stream",
          "name": "stderr",
          "text": [
            "\rMonte Carlo:  95%|█████████▌| 285/300 [1:08:58<03:41, 14.74s/it]"
          ]
        },
        {
          "output_type": "stream",
          "name": "stdout",
          "text": [
            " 1000... ¡Hecho!\n",
            "GA - Gen 0... 200... 400... 600... 800... 1000... ¡Hecho!\n",
            "dPSO - Iter 0... 200... 400... 600... 800..."
          ]
        },
        {
          "output_type": "stream",
          "name": "stderr",
          "text": [
            "\rMonte Carlo:  95%|█████████▌| 286/300 [1:09:14<03:29, 14.97s/it]"
          ]
        },
        {
          "output_type": "stream",
          "name": "stdout",
          "text": [
            " 1000... ¡Hecho!\n",
            "GA - Gen 0... 200... 400... 600... 800... 1000... ¡Hecho!\n",
            "dPSO - Iter 0... 200... 400... 600... 800..."
          ]
        },
        {
          "output_type": "stream",
          "name": "stderr",
          "text": [
            "\rMonte Carlo:  96%|█████████▌| 287/300 [1:09:28<03:11, 14.75s/it]"
          ]
        },
        {
          "output_type": "stream",
          "name": "stdout",
          "text": [
            " 1000... ¡Hecho!\n",
            "GA - Gen 0... 200... 400... 600... 800... 1000... ¡Hecho!\n",
            "dPSO - Iter 0... 200... 400... 600... 800..."
          ]
        },
        {
          "output_type": "stream",
          "name": "stderr",
          "text": [
            "\rMonte Carlo:  96%|█████████▌| 288/300 [1:09:43<02:57, 14.76s/it]"
          ]
        },
        {
          "output_type": "stream",
          "name": "stdout",
          "text": [
            " 1000... ¡Hecho!\n",
            "GA - Gen 0... 200... 400... 600... 800... 1000... ¡Hecho!\n",
            "dPSO - Iter 0... 200... 400... 600... 800..."
          ]
        },
        {
          "output_type": "stream",
          "name": "stderr",
          "text": [
            "\rMonte Carlo:  96%|█████████▋| 289/300 [1:09:58<02:42, 14.76s/it]"
          ]
        },
        {
          "output_type": "stream",
          "name": "stdout",
          "text": [
            " 1000... ¡Hecho!\n",
            "GA - Gen 0... 200... 400... 600... 800... 1000... ¡Hecho!\n",
            "dPSO - Iter 0... 200... 400... 600... 800..."
          ]
        },
        {
          "output_type": "stream",
          "name": "stderr",
          "text": [
            "\rMonte Carlo:  97%|█████████▋| 290/300 [1:10:12<02:26, 14.67s/it]"
          ]
        },
        {
          "output_type": "stream",
          "name": "stdout",
          "text": [
            " 1000... ¡Hecho!\n",
            "GA - Gen 0... 200... 400... 600... 800... 1000... ¡Hecho!\n",
            "dPSO - Iter 0... 200... 400... 600... 800..."
          ]
        },
        {
          "output_type": "stream",
          "name": "stderr",
          "text": [
            "\rMonte Carlo:  97%|█████████▋| 291/300 [1:10:26<02:10, 14.51s/it]"
          ]
        },
        {
          "output_type": "stream",
          "name": "stdout",
          "text": [
            " 1000... ¡Hecho!\n",
            "GA - Gen 0... 200... 400... 600... 800... 1000... ¡Hecho!\n",
            "dPSO - Iter 0... 200... 400... 600... 800..."
          ]
        },
        {
          "output_type": "stream",
          "name": "stderr",
          "text": [
            "\rMonte Carlo:  97%|█████████▋| 292/300 [1:10:41<01:56, 14.51s/it]"
          ]
        },
        {
          "output_type": "stream",
          "name": "stdout",
          "text": [
            " 1000... ¡Hecho!\n",
            "GA - Gen 0... 200... 400... 600... 800... 1000... ¡Hecho!\n",
            "dPSO - Iter 0... 200... 400... 600... 800..."
          ]
        },
        {
          "output_type": "stream",
          "name": "stderr",
          "text": [
            "\rMonte Carlo:  98%|█████████▊| 293/300 [1:10:56<01:43, 14.82s/it]"
          ]
        },
        {
          "output_type": "stream",
          "name": "stdout",
          "text": [
            " 1000... ¡Hecho!\n",
            "GA - Gen 0... 200... 400... 600... 800... 1000... ¡Hecho!\n",
            "dPSO - Iter 0... 200... 400... 600... 800..."
          ]
        },
        {
          "output_type": "stream",
          "name": "stderr",
          "text": [
            "\rMonte Carlo:  98%|█████████▊| 294/300 [1:11:11<01:28, 14.71s/it]"
          ]
        },
        {
          "output_type": "stream",
          "name": "stdout",
          "text": [
            " 1000... ¡Hecho!\n",
            "GA - Gen 0... 200... 400... 600... 800... 1000... ¡Hecho!\n",
            "dPSO - Iter 0... 200... 400... 600... 800..."
          ]
        },
        {
          "output_type": "stream",
          "name": "stderr",
          "text": [
            "\rMonte Carlo:  98%|█████████▊| 295/300 [1:11:25<01:13, 14.61s/it]"
          ]
        },
        {
          "output_type": "stream",
          "name": "stdout",
          "text": [
            " 1000... ¡Hecho!\n",
            "GA - Gen 0... 200... 400... 600... 800... 1000... ¡Hecho!\n",
            "dPSO - Iter 0... 200... 400... 600... 800..."
          ]
        },
        {
          "output_type": "stream",
          "name": "stderr",
          "text": [
            "\rMonte Carlo:  99%|█████████▊| 296/300 [1:11:39<00:58, 14.54s/it]"
          ]
        },
        {
          "output_type": "stream",
          "name": "stdout",
          "text": [
            " 1000... ¡Hecho!\n",
            "GA - Gen 0... 200... 400... 600... 800... 1000... ¡Hecho!\n",
            "dPSO - Iter 0... 200... 400... 600... 800..."
          ]
        },
        {
          "output_type": "stream",
          "name": "stderr",
          "text": [
            "\rMonte Carlo:  99%|█████████▉| 297/300 [1:11:54<00:43, 14.60s/it]"
          ]
        },
        {
          "output_type": "stream",
          "name": "stdout",
          "text": [
            " 1000... ¡Hecho!\n",
            "GA - Gen 0... 200... 400... 600... 800... 1000... ¡Hecho!\n",
            "dPSO - Iter 0... 200... 400... 600... 800..."
          ]
        },
        {
          "output_type": "stream",
          "name": "stderr",
          "text": [
            "\rMonte Carlo:  99%|█████████▉| 298/300 [1:12:08<00:29, 14.52s/it]"
          ]
        },
        {
          "output_type": "stream",
          "name": "stdout",
          "text": [
            " 1000... ¡Hecho!\n",
            "GA - Gen 0... 200... 400... 600... 800... 1000... ¡Hecho!\n",
            "dPSO - Iter 0... 200... 400... 600... 800..."
          ]
        },
        {
          "output_type": "stream",
          "name": "stderr",
          "text": [
            "\rMonte Carlo: 100%|█████████▉| 299/300 [1:12:23<00:14, 14.53s/it]"
          ]
        },
        {
          "output_type": "stream",
          "name": "stdout",
          "text": [
            " 1000... ¡Hecho!\n",
            "\n",
            "--- Simulación 300/300 ---\n",
            "GA - Gen 0... 200... 400... 600... 800... 1000... ¡Hecho!\n",
            "dPSO - Iter 0... 200... 400... 600... 800..."
          ]
        },
        {
          "output_type": "stream",
          "name": "stderr",
          "text": [
            "Monte Carlo: 100%|██████████| 300/300 [1:12:38<00:00, 14.53s/it]"
          ]
        },
        {
          "output_type": "stream",
          "name": "stdout",
          "text": [
            " 1000... ¡Hecho!\n",
            "\n",
            "--- Monte Carlo Finalizado (300 simulaciones) ---\n",
            "Tiempo total Monte Carlo: 4358.32 segundos\n",
            "\n",
            "Resumen tiempos GA (s): mean=6.513, std=0.484, min=5.389, max=7.787\n",
            "Resumen tiempos dPSO (s): mean=8.013, std=0.267, min=7.463, max=8.359\n",
            "\n",
            "--- Monte Carlo Finalizado (300 simulaciones) ---\n",
            "Tiempo total Monte Carlo: 4358.32 segundos\n",
            "\n",
            "--- Estadísticas Comparativas ---\n",
            "Resultados basados en 300 simulaciones.\n",
            "--- Estadísticas Comparativas ---\n",
            "\n",
            "Algoritmo Genético (GA): Válidas: 300/300\n",
            "  Makespan Mínimo:      1100.57 min\n",
            "  Makespan Promedio:    1180.13 ± 30.22 min\n",
            "\n",
            "Discrete PSO (dPSO): Válidas: 300/300\n",
            "  Makespan Mínimo:      1095.28 min\n",
            "  Makespan Promedio:    1184.80 ± 29.67 min\n",
            "Estadísticas comparativas exportadas exitosamente a Actualizado/graphs/csv/summary_statistics.csv\n",
            "\n",
            "------------------------- ANÁLISIS ESTADÍSTICO (PAREADO) -------------------------\n",
            "Resumen descriptivo:\n",
            "  - GA:   media = 1180.1267 min | sd = 30.2686 | n = 300\n",
            "  - dPSO: media = 1184.8035 min | sd = 29.7203 | n = 300\n",
            "\n",
            "Contraste pareado:\n",
            "  - Δ = GA - dPSO = -4.6768 min (IC95% [-5.9434, -3.4703])\n",
            "  - Wilcoxon pareado: W = 5929.5000, p = 0.0000\n",
            "  - Tamaño de efecto (Cohen's dz) = -0.424\n",
            "  → Conclusión: GA obtiene makespan significativamente menor que dPSO (mejor desempeño).\n",
            "\n",
            "Tabla de P-value promedio (Fila vs. Columna)\n",
            "        GA        dPSO      \n",
            "GA      -         < 0.05    \n",
            "dPSO    < 0.05    -         \n",
            "---------------------------------------------------------------------------\n",
            "\n",
            "Generando gráfico de evolución GA (Mejor Simulación #107)\n"
          ]
        },
        {
          "output_type": "stream",
          "name": "stderr",
          "text": [
            "\n",
            "/tmp/ipython-input-1057971950.py:1591: MatplotlibDeprecationWarning: The 'labels' parameter of boxplot() has been renamed 'tick_labels' since Matplotlib 3.9; support for the old name will be dropped in 3.11.\n",
            "  plt.boxplot(data_to_plot, labels=labels)\n"
          ]
        },
        {
          "output_type": "stream",
          "name": "stdout",
          "text": [
            "\n",
            "Generando gráfico de evolución dPSO (Mejor Simulación #107)\n",
            "\n",
            "--- Generando Gráficos Gantt para las Mejores Simulaciones Globales ---\n",
            "\n",
            "Generando Gantt para el mejor GA global...\n",
            "  Makespan: 1100.57 min\n",
            "  Obtenido en simulación con semilla de datos: 106\n"
          ]
        },
        {
          "output_type": "stream",
          "name": "stderr",
          "text": [
            "/tmp/ipython-input-1057971950.py:1660: MatplotlibDeprecationWarning: The get_cmap function was deprecated in Matplotlib 3.7 and will be removed in 3.11. Use ``matplotlib.colormaps[name]`` or ``matplotlib.colormaps.get_cmap()`` or ``pyplot.get_cmap()`` instead.\n",
            "  colors = plt.cm.get_cmap('tab20', len(unique_jobs))\n"
          ]
        },
        {
          "output_type": "stream",
          "name": "stdout",
          "text": [
            "Gantt chart saved to Actualizado/graphs/gantt/gantt_diagram_-_best_ga_global_fitness_makespan_1100.57_min.png\n",
            "\n",
            "Generando Gantt para el mejor dPSO global (Makespan: 1095.28 min)...\n"
          ]
        },
        {
          "output_type": "stream",
          "name": "stderr",
          "text": [
            "/tmp/ipython-input-1057971950.py:1660: MatplotlibDeprecationWarning: The get_cmap function was deprecated in Matplotlib 3.7 and will be removed in 3.11. Use ``matplotlib.colormaps[name]`` or ``matplotlib.colormaps.get_cmap()`` or ``pyplot.get_cmap()`` instead.\n",
            "  colors = plt.cm.get_cmap('tab20', len(unique_jobs))\n"
          ]
        },
        {
          "output_type": "stream",
          "name": "stdout",
          "text": [
            "Gantt chart saved to Actualizado/graphs/gantt/gantt_diagram_-_best_dpso_global_fitness_makespan_1095.28.png\n",
            "\n",
            "--- Fin del Script ---\n",
            "\n",
            "========================= REPORTE MEJOR RESULTADO: GA =========================\n",
            "\n",
            "--- Schedule Summary: GA Mejor Run ---\n",
            "Job (E)    | Operation  | Resource     |      Start |     Finish |   Duration\n",
            "-----------------------------------------------------------------------------\n",
            "10         |     1      | APR_1        |       0.00 |      82.34 |      82.34\n",
            "8          |     1      | APR_2        |       0.00 |     113.56 |     113.56\n",
            "5          |     1      | APR_3        |       0.00 |     130.89 |     130.89\n",
            "2          |     1      | APR_4        |       0.00 |      92.66 |      92.66\n",
            "10         |     2      | OR_2         |      62.34 |     193.17 |     130.83\n",
            "2          |     2      | OR_4         |      72.66 |     175.62 |     102.96\n",
            "15         |     1      | APR_1        |      82.34 |     213.90 |     131.56\n",
            "9          |     1      | APR_4        |      92.66 |     179.76 |      87.10\n",
            "8          |     2      | OR_3         |      93.56 |     250.66 |     157.10\n",
            "1          |     1      | APR_2        |     113.56 |     200.05 |      86.49\n",
            "2          |     3      | ARR_4        |     155.62 |     243.21 |      87.59\n",
            "10         |     3      | ARR_3        |     173.17 |     261.74 |      88.57\n",
            "5          |     2      | OR_1         |     175.62 |     378.16 |     202.54\n",
            "13         |     1      | APR_4        |     179.76 |     302.51 |     122.75\n",
            "1          |     2      | OR_4         |     193.17 |     297.23 |     104.06\n",
            "11         |     1      | APR_1        |     213.90 |     320.52 |     106.62\n",
            "14         |     1      | APR_2        |     213.90 |     302.35 |      88.45\n",
            "8          |     3      | ARR_2        |     230.66 |     328.38 |      97.72\n",
            "9          |     2      | OR_2         |     250.66 |     376.30 |     125.64\n",
            "1          |     3      | ARR_4        |     277.23 |     369.04 |      91.81\n",
            "11         |     2      | OR_4         |     300.52 |     469.42 |     168.90\n",
            "3          |     1      | APR_2        |     302.35 |     388.24 |      85.89\n",
            "7          |     1      | APR_4        |     302.51 |     426.98 |     124.47\n",
            "12         |     1      | APR_3        |     320.52 |     451.36 |     130.84\n",
            "9          |     3      | ARR_1        |     356.30 |     446.06 |      89.76\n",
            "5          |     3      | ARR_2        |     358.16 |     469.98 |     111.82\n",
            "13         |     2      | OR_2         |     376.30 |     643.69 |     267.39\n",
            "15         |     2      | OR_1         |     378.16 |     550.87 |     172.71\n",
            "4          |     1      | APR_2        |     388.24 |     503.64 |     115.40\n",
            "6          |     1      | APR_1        |     426.98 |     533.63 |     106.65\n",
            "11         |     3      | ARR_4        |     449.42 |     542.75 |      93.33\n",
            "6          |     2      | OR_4         |     513.63 |     776.23 |     262.60\n",
            "15         |     3      | ARR_3        |     530.87 |     643.11 |     112.24\n",
            "14         |     2      | OR_1         |     550.87 |     682.03 |     131.16\n",
            "13         |     3      | ARR_1        |     623.69 |     734.37 |     110.68\n",
            "3          |     2      | OR_2         |     643.69 |     775.12 |     131.43\n",
            "14         |     3      | ARR_3        |     662.03 |     752.77 |      90.74\n",
            "7          |     2      | OR_1         |     682.03 |     868.21 |     186.18\n",
            "3          |     3      | ARR_3        |     755.12 |     851.45 |      96.33\n",
            "6          |     3      | ARR_2        |     756.23 |     868.63 |     112.40\n",
            "4          |     2      | OR_2         |     775.12 |     987.18 |     212.06\n",
            "7          |     3      | ARR_4        |     848.21 |     938.02 |      89.81\n",
            "12         |     2      | OR_1         |     868.21 |    1031.90 |     163.69\n",
            "4          |     3      | ARR_2        |     967.18 |    1076.72 |     109.54\n",
            "12         |     3      | ARR_3        |    1011.90 |    1100.57 |      88.67\n",
            "-----------------------------------------------------------------------------\n",
            "\n",
            "\n",
            "--- Scheduling Strategy by Operating Room ---\n",
            "O.R.         | Sequence of Operations (Job(Op))\n",
            "--------------------------------------------------------------------------------\n",
            "APR_1        | 10(Op1) -> 15(Op1) -> 11(Op1) -> 6(Op1)\n",
            "APR_2        | 8(Op1) -> 1(Op1) -> 14(Op1) -> 3(Op1) -> 4(Op1)\n",
            "APR_3        | 5(Op1) -> 12(Op1)\n",
            "APR_4        | 2(Op1) -> 9(Op1) -> 13(Op1) -> 7(Op1)\n",
            "ARR_1        | 9(Op3) -> 13(Op3)\n",
            "ARR_2        | 8(Op3) -> 5(Op3) -> 6(Op3) -> 4(Op3)\n",
            "ARR_3        | 10(Op3) -> 15(Op3) -> 14(Op3) -> 3(Op3) -> 12(Op3)\n",
            "ARR_4        | 2(Op3) -> 1(Op3) -> 11(Op3) -> 7(Op3)\n",
            "OR_1         | 5(Op2) -> 15(Op2) -> 14(Op2) -> 7(Op2) -> 12(Op2)\n",
            "OR_2         | 10(Op2) -> 9(Op2) -> 13(Op2) -> 3(Op2) -> 4(Op2)\n",
            "OR_3         | 8(Op2)\n",
            "OR_4         | 2(Op2) -> 1(Op2) -> 11(Op2) -> 6(Op2)\n",
            "--------------------------------------------------------------------------------\n",
            "\n",
            "\n",
            "--- Start Times by Surgery ---\n",
            "Surgery (E)     |    Anesthesia Start (min) |       Surgery Start (min) |      Recovery Start (min)\n",
            "---------------------------------------------------------------------------------------------------\n",
            "1               |                    113.56 |                    193.17 |                    277.23\n",
            "2               |                      0.00 |                     72.66 |                    155.62\n",
            "3               |                    302.35 |                    643.69 |                    755.12\n",
            "4               |                    388.24 |                    775.12 |                    967.18\n",
            "5               |                      0.00 |                    175.62 |                    358.16\n",
            "6               |                    426.98 |                    513.63 |                    756.23\n",
            "7               |                    302.51 |                    682.03 |                    848.21\n",
            "8               |                      0.00 |                     93.56 |                    230.66\n",
            "9               |                     92.66 |                    250.66 |                    356.30\n",
            "10              |                      0.00 |                     62.34 |                    173.17\n",
            "11              |                    213.90 |                    300.52 |                    449.42\n",
            "12              |                    320.52 |                    868.21 |                   1011.90\n",
            "13              |                    179.76 |                    376.30 |                    623.69\n",
            "14              |                    213.90 |                    550.87 |                    662.03\n",
            "15              |                     82.34 |                    378.16 |                    530.87\n",
            "---------------------------------------------------------------------------------------------------\n",
            "Schedule successfully exported to Actualizado/graphs/csv/ga_schedule_detallado.csv\n",
            "Strategy successfully exported to Actualizado/graphs/csv/ga_estrategia_salas.csv\n",
            "Timetable successfully exported to Actualizado/graphs/csv/ga_horarios_inicio.csv\n",
            "\n",
            "========================= REPORTE MEJOR RESULTADO: dPSO =========================\n",
            "\n",
            "--- Schedule Summary: dPSO Mejor Run ---\n",
            "Job (E)    | Operation  | Resource     |      Start |     Finish |   Duration\n",
            "-----------------------------------------------------------------------------\n",
            "14         |     1      | APR_3        |       0.00 |      88.45 |      88.45\n",
            "10         |     1      | APR_2        |       0.00 |      82.34 |      82.34\n",
            "4          |     1      | APR_1        |       0.00 |     115.40 |     115.40\n",
            "10         |     2      | OR_2         |      62.34 |     193.17 |     130.83\n",
            "14         |     2      | OR_4         |      68.45 |     199.61 |     131.16\n",
            "11         |     1      | APR_2        |      82.34 |     188.96 |     106.62\n",
            "7          |     1      | APR_3        |      88.45 |     212.92 |     124.47\n",
            "4          |     2      | OR_3         |      95.40 |     307.46 |     212.06\n",
            "10         |     3      | ARR_4        |     173.17 |     261.74 |      88.57\n",
            "14         |     3      | ARR_3        |     179.61 |     270.35 |      90.74\n",
            "8          |     1      | APR_4        |     188.96 |     302.52 |     113.56\n",
            "11         |     2      | OR_1         |     193.17 |     362.07 |     168.90\n",
            "7          |     2      | OR_2         |     199.61 |     385.79 |     186.18\n",
            "5          |     1      | APR_3        |     212.92 |     343.81 |     130.89\n",
            "6          |     1      | APR_2        |     212.92 |     319.57 |     106.65\n",
            "4          |     3      | ARR_4        |     287.46 |     397.00 |     109.54\n",
            "15         |     1      | APR_4        |     302.52 |     434.08 |     131.56\n",
            "8          |     2      | OR_4         |     307.46 |     464.56 |     157.10\n",
            "12         |     1      | APR_2        |     319.57 |     450.41 |     130.84\n",
            "3          |     1      | APR_3        |     343.81 |     429.70 |      85.89\n",
            "6          |     2      | OR_1         |     362.07 |     624.67 |     262.60\n",
            "7          |     3      | ARR_2        |     365.79 |     455.60 |      89.81\n",
            "5          |     2      | OR_2         |     385.79 |     588.33 |     202.54\n",
            "11         |     3      | ARR_4        |     397.00 |     490.33 |      93.33\n",
            "9          |     1      | APR_3        |     429.70 |     516.80 |      87.10\n",
            "2          |     1      | APR_2        |     450.41 |     543.07 |      92.66\n",
            "8          |     3      | ARR_2        |     455.60 |     553.32 |      97.72\n",
            "3          |     2      | OR_4         |     464.56 |     595.99 |     131.43\n",
            "13         |     1      | APR_4        |     516.80 |     639.55 |     122.75\n",
            "1          |     1      | APR_3        |     543.07 |     629.56 |      86.49\n",
            "5          |     3      | ARR_1        |     568.33 |     680.15 |     111.82\n",
            "3          |     3      | ARR_3        |     575.99 |     672.32 |      96.33\n",
            "15         |     2      | OR_3         |     588.33 |     761.04 |     172.71\n",
            "9          |     2      | OR_4         |     595.99 |     721.63 |     125.64\n",
            "6          |     3      | ARR_3        |     672.32 |     784.72 |     112.40\n",
            "1          |     2      | OR_2         |     672.32 |     776.38 |     104.06\n",
            "13         |     2      | OR_4         |     721.63 |     989.02 |     267.39\n",
            "15         |     3      | ARR_2        |     741.04 |     853.28 |     112.24\n",
            "12         |     2      | OR_1         |     761.04 |     924.73 |     163.69\n",
            "9          |     3      | ARR_3        |     784.72 |     874.48 |      89.76\n",
            "1          |     3      | ARR_4        |     784.72 |     876.53 |      91.81\n",
            "12         |     3      | ARR_2        |     904.73 |     993.40 |      88.67\n",
            "2          |     2      | OR_3         |     924.73 |    1027.69 |     102.96\n",
            "13         |     3      | ARR_3        |     969.02 |    1079.70 |     110.68\n",
            "2          |     3      | ARR_2        |    1007.69 |    1095.28 |      87.59\n",
            "-----------------------------------------------------------------------------\n",
            "\n",
            "\n",
            "--- Scheduling Strategy by Operating Room ---\n",
            "O.R.         | Sequence of Operations (Job(Op))\n",
            "--------------------------------------------------------------------------------\n",
            "APR_1        | 4(Op1)\n",
            "APR_2        | 10(Op1) -> 11(Op1) -> 6(Op1) -> 12(Op1) -> 2(Op1)\n",
            "APR_3        | 14(Op1) -> 7(Op1) -> 5(Op1) -> 3(Op1) -> 9(Op1) -> 1(Op1)\n",
            "APR_4        | 8(Op1) -> 15(Op1) -> 13(Op1)\n",
            "ARR_1        | 5(Op3)\n",
            "ARR_2        | 7(Op3) -> 8(Op3) -> 15(Op3) -> 12(Op3) -> 2(Op3)\n",
            "ARR_3        | 14(Op3) -> 3(Op3) -> 6(Op3) -> 9(Op3) -> 13(Op3)\n",
            "ARR_4        | 10(Op3) -> 4(Op3) -> 11(Op3) -> 1(Op3)\n",
            "OR_1         | 11(Op2) -> 6(Op2) -> 12(Op2)\n",
            "OR_2         | 10(Op2) -> 7(Op2) -> 5(Op2) -> 1(Op2)\n",
            "OR_3         | 4(Op2) -> 15(Op2) -> 2(Op2)\n",
            "OR_4         | 14(Op2) -> 8(Op2) -> 3(Op2) -> 9(Op2) -> 13(Op2)\n",
            "--------------------------------------------------------------------------------\n",
            "\n",
            "\n",
            "--- Start Times by Surgery ---\n",
            "Surgery (E)     |    Anesthesia Start (min) |       Surgery Start (min) |      Recovery Start (min)\n",
            "---------------------------------------------------------------------------------------------------\n",
            "1               |                    543.07 |                    672.32 |                    784.72\n",
            "2               |                    450.41 |                    924.73 |                   1007.69\n",
            "3               |                    343.81 |                    464.56 |                    575.99\n",
            "4               |                      0.00 |                     95.40 |                    287.46\n",
            "5               |                    212.92 |                    385.79 |                    568.33\n",
            "6               |                    212.92 |                    362.07 |                    672.32\n",
            "7               |                     88.45 |                    199.61 |                    365.79\n",
            "8               |                    188.96 |                    307.46 |                    455.60\n",
            "9               |                    429.70 |                    595.99 |                    784.72\n",
            "10              |                      0.00 |                     62.34 |                    173.17\n",
            "11              |                     82.34 |                    193.17 |                    397.00\n",
            "12              |                    319.57 |                    761.04 |                    904.73\n",
            "13              |                    516.80 |                    721.63 |                    969.02\n",
            "14              |                      0.00 |                     68.45 |                    179.61\n",
            "15              |                    302.52 |                    588.33 |                    741.04\n",
            "---------------------------------------------------------------------------------------------------\n",
            "Schedule successfully exported to Actualizado/graphs/csv/dpso_schedule_detallado.csv\n",
            "Strategy successfully exported to Actualizado/graphs/csv/dpso_estrategia_salas.csv\n",
            "Timetable successfully exported to Actualizado/graphs/csv/dpso_horarios_inicio.csv\n",
            "\n",
            "Histograma para GA generado y guardado en la carpeta 'histograms'.\n",
            "\n",
            "Histograma para dPSO generado y guardado en la carpeta 'histograms'.\n"
          ]
        }
      ],
      "execution_count": 4,
      "id": "NV3ZzFlcnELH"
    },
    {
      "cell_type": "code",
      "source": [
        "from psutil import *\n",
        "# This code will return the number of CPU\n",
        "print(\"Number of CPU: \", cpu_count())\n",
        "# This code will return the CPU info\n",
        "!cat /proc/cpuinfo"
      ],
      "metadata": {
        "colab": {
          "base_uri": "https://localhost:8080/"
        },
        "id": "7Sh9tcJfaDVj",
        "outputId": "de727110-eb21-4712-a407-0627a98a2996"
      },
      "id": "7Sh9tcJfaDVj",
      "execution_count": 5,
      "outputs": [
        {
          "output_type": "stream",
          "name": "stdout",
          "text": [
            "Number of CPU:  2\n",
            "processor\t: 0\n",
            "vendor_id\t: AuthenticAMD\n",
            "cpu family\t: 23\n",
            "model\t\t: 49\n",
            "model name\t: AMD EPYC 7B12\n",
            "stepping\t: 0\n",
            "microcode\t: 0xffffffff\n",
            "cpu MHz\t\t: 2249.998\n",
            "cache size\t: 512 KB\n",
            "physical id\t: 0\n",
            "siblings\t: 2\n",
            "core id\t\t: 0\n",
            "cpu cores\t: 1\n",
            "apicid\t\t: 0\n",
            "initial apicid\t: 0\n",
            "fpu\t\t: yes\n",
            "fpu_exception\t: yes\n",
            "cpuid level\t: 13\n",
            "wp\t\t: yes\n",
            "flags\t\t: fpu vme de pse tsc msr pae mce cx8 apic sep mtrr pge mca cmov pat pse36 clflush mmx fxsr sse sse2 ht syscall nx mmxext fxsr_opt pdpe1gb rdtscp lm constant_tsc rep_good nopl nonstop_tsc cpuid extd_apicid tsc_known_freq pni pclmulqdq ssse3 fma cx16 sse4_1 sse4_2 x2apic movbe popcnt aes xsave avx f16c rdrand hypervisor lahf_lm cmp_legacy cr8_legacy abm sse4a misalignsse 3dnowprefetch osvw topoext ssbd ibrs ibpb stibp vmmcall fsgsbase tsc_adjust bmi1 avx2 smep bmi2 rdseed adx smap clflushopt clwb sha_ni xsaveopt xsavec xgetbv1 clzero xsaveerptr arat npt nrip_save umip rdpid\n",
            "bugs\t\t: sysret_ss_attrs null_seg spectre_v1 spectre_v2 spec_store_bypass retbleed smt_rsb srso ibpb_no_ret\n",
            "bogomips\t: 4499.99\n",
            "TLB size\t: 3072 4K pages\n",
            "clflush size\t: 64\n",
            "cache_alignment\t: 64\n",
            "address sizes\t: 48 bits physical, 48 bits virtual\n",
            "power management:\n",
            "\n",
            "processor\t: 1\n",
            "vendor_id\t: AuthenticAMD\n",
            "cpu family\t: 23\n",
            "model\t\t: 49\n",
            "model name\t: AMD EPYC 7B12\n",
            "stepping\t: 0\n",
            "microcode\t: 0xffffffff\n",
            "cpu MHz\t\t: 2249.998\n",
            "cache size\t: 512 KB\n",
            "physical id\t: 0\n",
            "siblings\t: 2\n",
            "core id\t\t: 0\n",
            "cpu cores\t: 1\n",
            "apicid\t\t: 1\n",
            "initial apicid\t: 1\n",
            "fpu\t\t: yes\n",
            "fpu_exception\t: yes\n",
            "cpuid level\t: 13\n",
            "wp\t\t: yes\n",
            "flags\t\t: fpu vme de pse tsc msr pae mce cx8 apic sep mtrr pge mca cmov pat pse36 clflush mmx fxsr sse sse2 ht syscall nx mmxext fxsr_opt pdpe1gb rdtscp lm constant_tsc rep_good nopl nonstop_tsc cpuid extd_apicid tsc_known_freq pni pclmulqdq ssse3 fma cx16 sse4_1 sse4_2 x2apic movbe popcnt aes xsave avx f16c rdrand hypervisor lahf_lm cmp_legacy cr8_legacy abm sse4a misalignsse 3dnowprefetch osvw topoext ssbd ibrs ibpb stibp vmmcall fsgsbase tsc_adjust bmi1 avx2 smep bmi2 rdseed adx smap clflushopt clwb sha_ni xsaveopt xsavec xgetbv1 clzero xsaveerptr arat npt nrip_save umip rdpid\n",
            "bugs\t\t: sysret_ss_attrs null_seg spectre_v1 spectre_v2 spec_store_bypass retbleed smt_rsb srso ibpb_no_ret\n",
            "bogomips\t: 4499.99\n",
            "TLB size\t: 3072 4K pages\n",
            "clflush size\t: 64\n",
            "cache_alignment\t: 64\n",
            "address sizes\t: 48 bits physical, 48 bits virtual\n",
            "power management:\n",
            "\n"
          ]
        }
      ]
    },
    {
      "cell_type": "code",
      "source": [
        "!cat /etc/os-release"
      ],
      "metadata": {
        "colab": {
          "base_uri": "https://localhost:8080/"
        },
        "id": "nlLpfW7BbU-i",
        "outputId": "3f901788-34d2-4ef2-d050-496e1790fcf8"
      },
      "id": "nlLpfW7BbU-i",
      "execution_count": 9,
      "outputs": [
        {
          "output_type": "stream",
          "name": "stdout",
          "text": [
            "PRETTY_NAME=\"Ubuntu 22.04.4 LTS\"\n",
            "NAME=\"Ubuntu\"\n",
            "VERSION_ID=\"22.04\"\n",
            "VERSION=\"22.04.4 LTS (Jammy Jellyfish)\"\n",
            "VERSION_CODENAME=jammy\n",
            "ID=ubuntu\n",
            "ID_LIKE=debian\n",
            "HOME_URL=\"https://www.ubuntu.com/\"\n",
            "SUPPORT_URL=\"https://help.ubuntu.com/\"\n",
            "BUG_REPORT_URL=\"https://bugs.launchpad.net/ubuntu/\"\n",
            "PRIVACY_POLICY_URL=\"https://www.ubuntu.com/legal/terms-and-policies/privacy-policy\"\n",
            "UBUNTU_CODENAME=jammy\n"
          ]
        }
      ]
    },
    {
      "cell_type": "code",
      "source": [
        "!CPU=$(lscpu | grep \"Model name\" | sed 's/Model name:\\s*//')\n",
        "!CORES=$(lscpu | grep \"Core(s) per socket\" | awk '{print $4}')\n",
        "!THREADS=$(lscpu | grep \"^CPU(s):\" | awk '{print $2}')\n",
        "!BASE=$(lscpu | grep \"CPU MHz\" | awk '{print $3}')\n",
        "!CACHE=$(lscpu | grep \"L3 cache\" | awk '{print $3 $4}')\n",
        "\n",
        "!echo \"CPU $CPU ($CORES cores, $THREADS threads; base ${BASE}MHz; L3 cache $CACHE)\""
      ],
      "metadata": {
        "colab": {
          "base_uri": "https://localhost:8080/"
        },
        "id": "E78V5-n7bnDb",
        "outputId": "5afc8f82-1379-4af6-a793-4db99a854c3d"
      },
      "id": "E78V5-n7bnDb",
      "execution_count": 10,
      "outputs": [
        {
          "output_type": "stream",
          "name": "stdout",
          "text": [
            "CPU  ( cores,  threads; base MHz; L3 cache )\n"
          ]
        }
      ]
    },
    {
      "cell_type": "code",
      "source": [
        "import cpuinfo, psutil\n",
        "info = cpuinfo.get_cpu_info()\n",
        "cpu_name = info['brand_raw']\n",
        "\n",
        "\n",
        "cores = psutil.cpu_count(logical=False)   # físicos\n",
        "threads = psutil.cpu_count(logical=True)  # lógicos\n",
        "\n",
        "\n",
        "freq = psutil.cpu_freq()\n",
        "base = freq.min / 1000 if freq else None  # GHz\n",
        "maxi = freq.max / 1000 if freq else None  # GHz\n",
        "\n",
        "\n",
        "cache = info.get('l3_cache_size', 'N/A')\n",
        "\n",
        "print(f\"CPU {cpu_name} ({cores} cores, {threads} threads; \"\n",
        "      f\"base {base:.1f} GHz, turbo up to {maxi:.1f} GHz; \"\n",
        "      f\"L3 cache {cache})\")"
      ],
      "metadata": {
        "colab": {
          "base_uri": "https://localhost:8080/"
        },
        "id": "Q8Oi9WWub5Rs",
        "outputId": "52da573f-ded5-49a1-9cb1-ce999d1a1784"
      },
      "id": "Q8Oi9WWub5Rs",
      "execution_count": 14,
      "outputs": [
        {
          "output_type": "stream",
          "name": "stdout",
          "text": [
            "CPU AMD EPYC 7B12 (1 cores, 2 threads; base 0.0 GHz, turbo up to 0.0 GHz; L3 cache 524288)\n"
          ]
        }
      ]
    }
  ],
  "metadata": {
    "kernelspec": {
      "display_name": "Python 3",
      "language": "python",
      "name": "python3"
    },
    "language_info": {
      "name": "python",
      "version": "3.x",
      "pygments_lexer": "ipython3",
      "codemirror_mode": {
        "name": "ipython",
        "version": 3
      }
    },
    "colab": {
      "provenance": []
    }
  },
  "nbformat": 4,
  "nbformat_minor": 5
}